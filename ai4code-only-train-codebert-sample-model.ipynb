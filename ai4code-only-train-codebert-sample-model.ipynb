{
 "cells": [
  {
   "cell_type": "raw",
   "id": "c7a4048d",
   "metadata": {
    "papermill": {
     "duration": 0.013233,
     "end_time": "2022-06-10T11:38:22.851360",
     "exception": false,
     "start_time": "2022-06-10T11:38:22.838127",
     "status": "completed"
    },
    "tags": []
   },
   "source": []
  },
  {
   "cell_type": "markdown",
   "id": "519bb195",
   "metadata": {
    "papermill": {
     "duration": 0.011126,
     "end_time": "2022-06-10T11:38:22.874669",
     "exception": false,
     "start_time": "2022-06-10T11:38:22.863543",
     "status": "completed"
    },
    "tags": []
   },
   "source": [
    "# 0. Add Data \n",
    "## - 1. Accelerator GPU & AI4Code Data\n",
    "## - 2. Run https://github.com/hotorch/ai4code-baseline/blob/main/code/preprocess.py\n",
    "## - 3. load codebert"
   ]
  },
  {
   "cell_type": "markdown",
   "id": "35558fcc",
   "metadata": {
    "papermill": {
     "duration": 0.011065,
     "end_time": "2022-06-10T11:38:22.897958",
     "exception": false,
     "start_time": "2022-06-10T11:38:22.886893",
     "status": "completed"
    },
    "tags": []
   },
   "source": [
    "# 1. dataset.py\n"
   ]
  },
  {
   "cell_type": "code",
   "execution_count": 1,
   "id": "2e8418a4",
   "metadata": {
    "execution": {
     "iopub.execute_input": "2022-06-10T11:38:22.922866Z",
     "iopub.status.busy": "2022-06-10T11:38:22.922129Z",
     "iopub.status.idle": "2022-06-10T11:38:29.365472Z",
     "shell.execute_reply": "2022-06-10T11:38:29.364687Z"
    },
    "papermill": {
     "duration": 6.458335,
     "end_time": "2022-06-10T11:38:29.367675",
     "exception": false,
     "start_time": "2022-06-10T11:38:22.909340",
     "status": "completed"
    },
    "tags": []
   },
   "outputs": [],
   "source": [
    "from torch.utils.data import DataLoader, Dataset\n",
    "import torch\n",
    "from transformers import AutoTokenizer\n",
    "\n",
    "class MarkdownDataset(Dataset):\n",
    "\n",
    "    def __init__(self, df, model_name_or_path, total_max_len, md_max_len, fts):\n",
    "        super().__init__()\n",
    "        self.df = df.reset_index(drop=True)\n",
    "        self.md_max_len = md_max_len\n",
    "        self.total_max_len = total_max_len  # maxlen allowed by model config\n",
    "        self.tokenizer = AutoTokenizer.from_pretrained(model_name_or_path)\n",
    "        self.fts = fts\n",
    "\n",
    "    def __getitem__(self, index):\n",
    "        row = self.df.iloc[index]\n",
    "        \n",
    "        # markdown \n",
    "        inputs = self.tokenizer.encode_plus(\n",
    "            row.source,\n",
    "            None,\n",
    "            add_special_tokens=True,\n",
    "            max_length=self.md_max_len,\n",
    "            padding=\"max_length\",\n",
    "            return_token_type_ids=True,\n",
    "            truncation=True\n",
    "        )\n",
    "        # code\n",
    "        code_inputs = self.tokenizer.batch_encode_plus(\n",
    "            [str(x) for x in self.fts[row.id][\"codes\"]],\n",
    "            add_special_tokens=True,\n",
    "            max_length=24, #################\n",
    "            padding=\"max_length\",\n",
    "            truncation=True\n",
    "        )\n",
    "        n_md = self.fts[row.id][\"total_md\"]\n",
    "        n_code = self.fts[row.id][\"total_md\"]\n",
    "        if n_md + n_code == 0:\n",
    "            fts = torch.FloatTensor([0])\n",
    "        else:\n",
    "            fts = torch.FloatTensor([n_md / (n_md + n_code)])\n",
    "\n",
    "        ids = inputs['input_ids']\n",
    "        for x in code_inputs['input_ids']:\n",
    "            ids.extend(x[:-1])\n",
    "        ids = ids[:self.total_max_len]\n",
    "        if len(ids) != self.total_max_len:\n",
    "            ids = ids + [self.tokenizer.pad_token_id, ] * (self.total_max_len - len(ids))\n",
    "        ids = torch.LongTensor(ids)\n",
    "\n",
    "        mask = inputs['attention_mask']\n",
    "        for x in code_inputs['attention_mask']:\n",
    "            mask.extend(x[:-1])\n",
    "        mask = mask[:self.total_max_len]\n",
    "        if len(mask) != self.total_max_len:\n",
    "            mask = mask + [self.tokenizer.pad_token_id, ] * (self.total_max_len - len(mask))\n",
    "        mask = torch.LongTensor(mask)\n",
    "\n",
    "        assert len(ids) == self.total_max_len\n",
    "\n",
    "        return ids, mask, fts, torch.FloatTensor([row.pct_rank])\n",
    "\n",
    "    def __len__(self):\n",
    "        return self.df.shape[0]\n"
   ]
  },
  {
   "cell_type": "markdown",
   "id": "3d90d557",
   "metadata": {
    "papermill": {
     "duration": 0.011177,
     "end_time": "2022-06-10T11:38:29.391082",
     "exception": false,
     "start_time": "2022-06-10T11:38:29.379905",
     "status": "completed"
    },
    "tags": []
   },
   "source": [
    "# 2. Metric.py"
   ]
  },
  {
   "cell_type": "code",
   "execution_count": 2,
   "id": "025d24ca",
   "metadata": {
    "execution": {
     "iopub.execute_input": "2022-06-10T11:38:29.415653Z",
     "iopub.status.busy": "2022-06-10T11:38:29.414547Z",
     "iopub.status.idle": "2022-06-10T11:38:29.421829Z",
     "shell.execute_reply": "2022-06-10T11:38:29.421168Z"
    },
    "papermill": {
     "duration": 0.021071,
     "end_time": "2022-06-10T11:38:29.423410",
     "exception": false,
     "start_time": "2022-06-10T11:38:29.402339",
     "status": "completed"
    },
    "tags": []
   },
   "outputs": [],
   "source": [
    "from bisect import bisect\n",
    "\n",
    "def count_inversions(a):\n",
    "    inversions = 0\n",
    "    sorted_so_far = []\n",
    "    for i, u in enumerate(a):\n",
    "        j = bisect(sorted_so_far, u)\n",
    "        inversions += i - j\n",
    "        sorted_so_far.insert(j, u)\n",
    "    return inversions\n",
    "\n",
    "\n",
    "def kendall_tau(ground_truth, predictions):\n",
    "    total_inversions = 0\n",
    "    total_2max = 0  # twice the maximum possible inversions across all instances\n",
    "    for gt, pred in zip(ground_truth, predictions):\n",
    "        ranks = [gt.index(x) for x in pred]  # rank predicted order in terms of ground truth\n",
    "        total_inversions += count_inversions(ranks)\n",
    "        n = len(gt)\n",
    "        total_2max += n * (n - 1)\n",
    "    return 1 - 4 * total_inversions / total_2max"
   ]
  },
  {
   "cell_type": "markdown",
   "id": "5eb09ba8",
   "metadata": {
    "papermill": {
     "duration": 0.011102,
     "end_time": "2022-06-10T11:38:29.445837",
     "exception": false,
     "start_time": "2022-06-10T11:38:29.434735",
     "status": "completed"
    },
    "tags": []
   },
   "source": [
    "# 3. model.py"
   ]
  },
  {
   "cell_type": "code",
   "execution_count": 3,
   "id": "721ec01b",
   "metadata": {
    "execution": {
     "iopub.execute_input": "2022-06-10T11:38:29.469315Z",
     "iopub.status.busy": "2022-06-10T11:38:29.469064Z",
     "iopub.status.idle": "2022-06-10T11:38:29.486571Z",
     "shell.execute_reply": "2022-06-10T11:38:29.485781Z"
    },
    "papermill": {
     "duration": 0.031175,
     "end_time": "2022-06-10T11:38:29.488233",
     "exception": false,
     "start_time": "2022-06-10T11:38:29.457058",
     "status": "completed"
    },
    "tags": []
   },
   "outputs": [],
   "source": [
    "import torch.nn.functional as F\n",
    "import torch.nn as nn\n",
    "import torch\n",
    "from transformers import AutoModel, AutoTokenizer, AdamW, get_linear_schedule_with_warmup\n",
    "\n",
    "\n",
    "class MarkdownModel(nn.Module):\n",
    "    def __init__(self, model_path):\n",
    "        super(MarkdownModel, self).__init__()\n",
    "        self.model = AutoModel.from_pretrained(model_path)\n",
    "        self.top = nn.Linear(769, 1)\n",
    "\n",
    "    def forward(self, ids, mask, fts):\n",
    "        x = self.model(ids, mask)[0]\n",
    "        x = torch.cat((x[:, 0, :], fts), 1)\n",
    "        x = self.top(x)\n",
    "        return x"
   ]
  },
  {
   "cell_type": "markdown",
   "id": "148676eb",
   "metadata": {
    "papermill": {
     "duration": 0.011282,
     "end_time": "2022-06-10T11:38:29.510731",
     "exception": false,
     "start_time": "2022-06-10T11:38:29.499449",
     "status": "completed"
    },
    "tags": []
   },
   "source": [
    "# 4. Train"
   ]
  },
  {
   "cell_type": "code",
   "execution_count": 4,
   "id": "1f563db8",
   "metadata": {
    "execution": {
     "iopub.execute_input": "2022-06-10T11:38:29.534585Z",
     "iopub.status.busy": "2022-06-10T11:38:29.533976Z",
     "iopub.status.idle": "2022-06-10T11:38:29.539608Z",
     "shell.execute_reply": "2022-06-10T11:38:29.538878Z"
    },
    "papermill": {
     "duration": 0.019269,
     "end_time": "2022-06-10T11:38:29.541224",
     "exception": false,
     "start_time": "2022-06-10T11:38:29.521955",
     "status": "completed"
    },
    "tags": []
   },
   "outputs": [],
   "source": [
    "import json\n",
    "from pathlib import Path\n",
    "# from dataset import *\n",
    "import numpy as np\n",
    "import pandas as pd\n",
    "from torch.utils.data import DataLoader, Dataset\n",
    "# from model import *\n",
    "from tqdm import tqdm\n",
    "import sys, os\n",
    "# from metrics import *\n",
    "import torch\n",
    "# import argparse\n",
    "\n",
    "# parser = argparse.ArgumentParser(description='Process some arguments')\n",
    "# parser.add_argument('--model_name_or_path', type=str, default='microsoft/codebert-base')\n",
    "# parser.add_argument('--train_mark_path', type=str, default='./data/train_mark.csv')\n",
    "# parser.add_argument('--train_features_path', type=str, default='./data/train_fts.json')\n",
    "# parser.add_argument('--val_mark_path', type=str, default='./data/val_mark.csv')\n",
    "# parser.add_argument('--val_features_path', type=str, default='./data/val_fts.csv')\n",
    "# parser.add_argument('--val_path', type=str, default=\"./data/val.csv\")\n",
    "\n",
    "# parser.add_argument('--md_max_len', type=int, default=64)\n",
    "# parser.add_argument('--total_max_len', type=int, default=512)\n",
    "# parser.add_argument('--batch_size', type=int, default=8)\n",
    "# parser.add_argument('--accumulation_steps', type=int, default=4)\n",
    "# parser.add_argument('--epochs', type=int, default=5)\n",
    "# parser.add_argument('--n_workers', type=int, default=8)\n",
    "\n",
    "# args = parser.parse_args()\n",
    "os.mkdir(\"./outputs\")\n",
    "# data_dir = Path('..//input/')\n",
    "data_dir = Path('../input/AI4Code')"
   ]
  },
  {
   "cell_type": "markdown",
   "id": "8cc88398",
   "metadata": {
    "papermill": {
     "duration": 0.011322,
     "end_time": "2022-06-10T11:38:29.563832",
     "exception": false,
     "start_time": "2022-06-10T11:38:29.552510",
     "status": "completed"
    },
    "tags": []
   },
   "source": [
    "## 4-0. Define Constants\n"
   ]
  },
  {
   "cell_type": "code",
   "execution_count": 5,
   "id": "f515706a",
   "metadata": {
    "execution": {
     "iopub.execute_input": "2022-06-10T11:38:29.588287Z",
     "iopub.status.busy": "2022-06-10T11:38:29.587586Z",
     "iopub.status.idle": "2022-06-10T11:38:29.591731Z",
     "shell.execute_reply": "2022-06-10T11:38:29.591088Z"
    },
    "papermill": {
     "duration": 0.018243,
     "end_time": "2022-06-10T11:38:29.593314",
     "exception": false,
     "start_time": "2022-06-10T11:38:29.575071",
     "status": "completed"
    },
    "tags": []
   },
   "outputs": [],
   "source": [
    "train_data_start_point = 54321\n",
    "train_data_num = 15000\n",
    "\n",
    "valid_data_start_point = 4321\n",
    "valid_data_num = 2500"
   ]
  },
  {
   "cell_type": "markdown",
   "id": "d83ca2b7",
   "metadata": {
    "papermill": {
     "duration": 0.011036,
     "end_time": "2022-06-10T11:38:29.615573",
     "exception": false,
     "start_time": "2022-06-10T11:38:29.604537",
     "status": "completed"
    },
    "tags": []
   },
   "source": [
    "## 4-1. Load Preprocessed Data - Train"
   ]
  },
  {
   "cell_type": "code",
   "execution_count": 6,
   "id": "5638f4e0",
   "metadata": {
    "execution": {
     "iopub.execute_input": "2022-06-10T11:38:29.639209Z",
     "iopub.status.busy": "2022-06-10T11:38:29.638959Z",
     "iopub.status.idle": "2022-06-10T11:38:56.564189Z",
     "shell.execute_reply": "2022-06-10T11:38:56.561771Z"
    },
    "papermill": {
     "duration": 26.939346,
     "end_time": "2022-06-10T11:38:56.566267",
     "exception": false,
     "start_time": "2022-06-10T11:38:29.626921",
     "status": "completed"
    },
    "tags": []
   },
   "outputs": [
    {
     "name": "stdout",
     "output_type": "stream",
     "text": [
      "CPU times: user 15.1 s, sys: 2.08 s, total: 17.1 s\n",
      "Wall time: 26.9 s\n"
     ]
    }
   ],
   "source": [
    "%%time\n",
    "# train_df_mark = pd.read_csv(args.train_mark_path).drop(\"parent_id\", axis=1).dropna().reset_index(drop=True)\n",
    "# train_fts = json.load(open(args.train_features_path))\n",
    "# val_df_mark = pd.read_csv(args.val_mark_path).drop(\"parent_id\", axis=1).dropna().reset_index(drop=True)\n",
    "# val_fts = json.load(open(args.val_features_path))\n",
    "# val_df = pd.read_csv(args.val_path)\n",
    "train_df_mark = pd.read_csv('../input/ai4code-preprocess/data/train_mark.csv').drop(\"parent_id\", axis=1).dropna().reset_index(drop=True)\n",
    "train_fts = json.load(open('../input/ai4code-preprocess/data/train_fts.json'))"
   ]
  },
  {
   "cell_type": "code",
   "execution_count": 7,
   "id": "3c3976ce",
   "metadata": {
    "execution": {
     "iopub.execute_input": "2022-06-10T11:38:56.590894Z",
     "iopub.status.busy": "2022-06-10T11:38:56.590612Z",
     "iopub.status.idle": "2022-06-10T11:38:56.594709Z",
     "shell.execute_reply": "2022-06-10T11:38:56.593972Z"
    },
    "papermill": {
     "duration": 0.018519,
     "end_time": "2022-06-10T11:38:56.596563",
     "exception": false,
     "start_time": "2022-06-10T11:38:56.578044",
     "status": "completed"
    },
    "tags": []
   },
   "outputs": [
    {
     "name": "stdout",
     "output_type": "stream",
     "text": [
      "(1949464, 7)\n"
     ]
    }
   ],
   "source": [
    "print(train_df_mark.shape)"
   ]
  },
  {
   "cell_type": "code",
   "execution_count": 8,
   "id": "5c37dbd0",
   "metadata": {
    "execution": {
     "iopub.execute_input": "2022-06-10T11:38:56.620872Z",
     "iopub.status.busy": "2022-06-10T11:38:56.620629Z",
     "iopub.status.idle": "2022-06-10T11:38:56.798398Z",
     "shell.execute_reply": "2022-06-10T11:38:56.797510Z"
    },
    "papermill": {
     "duration": 0.192689,
     "end_time": "2022-06-10T11:38:56.800629",
     "exception": false,
     "start_time": "2022-06-10T11:38:56.607940",
     "status": "completed"
    },
    "tags": []
   },
   "outputs": [
    {
     "data": {
      "text/plain": [
       "125243"
      ]
     },
     "execution_count": 8,
     "metadata": {},
     "output_type": "execute_result"
    }
   ],
   "source": [
    "train_df_mark.id.nunique()"
   ]
  },
  {
   "cell_type": "markdown",
   "id": "1d494653",
   "metadata": {
    "papermill": {
     "duration": 0.011529,
     "end_time": "2022-06-10T11:38:56.824011",
     "exception": false,
     "start_time": "2022-06-10T11:38:56.812482",
     "status": "completed"
    },
    "tags": []
   },
   "source": [
    "## 학습 데이터 건수가 너무 많아 조정"
   ]
  },
  {
   "cell_type": "code",
   "execution_count": 9,
   "id": "2ffb0a5c",
   "metadata": {
    "execution": {
     "iopub.execute_input": "2022-06-10T11:38:56.848957Z",
     "iopub.status.busy": "2022-06-10T11:38:56.848270Z",
     "iopub.status.idle": "2022-06-10T11:38:56.871940Z",
     "shell.execute_reply": "2022-06-10T11:38:56.871197Z"
    },
    "papermill": {
     "duration": 0.038094,
     "end_time": "2022-06-10T11:38:56.873688",
     "exception": false,
     "start_time": "2022-06-10T11:38:56.835594",
     "status": "completed"
    },
    "tags": []
   },
   "outputs": [
    {
     "data": {
      "text/plain": [
       "1949464"
      ]
     },
     "execution_count": 9,
     "metadata": {},
     "output_type": "execute_result"
    }
   ],
   "source": [
    "len(train_df_mark.id.tolist())"
   ]
  },
  {
   "cell_type": "code",
   "execution_count": null,
   "id": "fbd570d1",
   "metadata": {
    "papermill": {
     "duration": 0.012177,
     "end_time": "2022-06-10T11:38:56.897725",
     "exception": false,
     "start_time": "2022-06-10T11:38:56.885548",
     "status": "completed"
    },
    "tags": []
   },
   "outputs": [],
   "source": []
  },
  {
   "cell_type": "code",
   "execution_count": 10,
   "id": "84dbd832",
   "metadata": {
    "execution": {
     "iopub.execute_input": "2022-06-10T11:38:56.922776Z",
     "iopub.status.busy": "2022-06-10T11:38:56.922169Z",
     "iopub.status.idle": "2022-06-10T11:38:57.386170Z",
     "shell.execute_reply": "2022-06-10T11:38:57.385364Z"
    },
    "papermill": {
     "duration": 0.4785,
     "end_time": "2022-06-10T11:38:57.388242",
     "exception": false,
     "start_time": "2022-06-10T11:38:56.909742",
     "status": "completed"
    },
    "tags": []
   },
   "outputs": [],
   "source": [
    "train_sample_mark_id = train_df_mark.id.unique().tolist()[train_data_start_point:train_data_start_point+train_data_num]\n",
    "# train_sample_mark_id = train_df_mark.id.unique().tolist()[121:191]\n",
    "train_df_mark = train_df_mark[train_df_mark['id'].isin(train_sample_mark_id)].reset_index(drop=True)"
   ]
  },
  {
   "cell_type": "code",
   "execution_count": 11,
   "id": "a6af37de",
   "metadata": {
    "execution": {
     "iopub.execute_input": "2022-06-10T11:38:57.414035Z",
     "iopub.status.busy": "2022-06-10T11:38:57.413706Z",
     "iopub.status.idle": "2022-06-10T11:38:57.418828Z",
     "shell.execute_reply": "2022-06-10T11:38:57.418139Z"
    },
    "papermill": {
     "duration": 0.019716,
     "end_time": "2022-06-10T11:38:57.420583",
     "exception": false,
     "start_time": "2022-06-10T11:38:57.400867",
     "status": "completed"
    },
    "tags": []
   },
   "outputs": [
    {
     "data": {
      "text/plain": [
       "(233939, 7)"
      ]
     },
     "execution_count": 11,
     "metadata": {},
     "output_type": "execute_result"
    }
   ],
   "source": [
    "train_df_mark.shape"
   ]
  },
  {
   "cell_type": "markdown",
   "id": "8bbf7311",
   "metadata": {
    "papermill": {
     "duration": 0.012204,
     "end_time": "2022-06-10T11:38:57.444739",
     "exception": false,
     "start_time": "2022-06-10T11:38:57.432535",
     "status": "completed"
    },
    "tags": []
   },
   "source": [
    "## 4-2. Load Preprocessed Data - Valid"
   ]
  },
  {
   "cell_type": "code",
   "execution_count": 12,
   "id": "358635fd",
   "metadata": {
    "execution": {
     "iopub.execute_input": "2022-06-10T11:38:57.469399Z",
     "iopub.status.busy": "2022-06-10T11:38:57.469049Z",
     "iopub.status.idle": "2022-06-10T11:39:05.703380Z",
     "shell.execute_reply": "2022-06-10T11:39:05.702541Z"
    },
    "papermill": {
     "duration": 8.249521,
     "end_time": "2022-06-10T11:39:05.706050",
     "exception": false,
     "start_time": "2022-06-10T11:38:57.456529",
     "status": "completed"
    },
    "tags": []
   },
   "outputs": [
    {
     "name": "stdout",
     "output_type": "stream",
     "text": [
      "CPU times: user 4.67 s, sys: 300 ms, total: 4.97 s\n",
      "Wall time: 8.23 s\n"
     ]
    }
   ],
   "source": [
    "%%time\n",
    "val_df_mark = pd.read_csv('../input/ai4code-preprocess/data/val_mark.csv').drop(\"parent_id\", axis=1).dropna().reset_index(drop=True)\n",
    "val_fts = json.load(open('../input/ai4code-preprocess/data/val_fts.json'))\n",
    "val_df = pd.read_csv('../input/ai4code-preprocess/data/val.csv')"
   ]
  },
  {
   "cell_type": "markdown",
   "id": "8f9ac7bb",
   "metadata": {
    "papermill": {
     "duration": 0.012016,
     "end_time": "2022-06-10T11:39:05.731276",
     "exception": false,
     "start_time": "2022-06-10T11:39:05.719260",
     "status": "completed"
    },
    "tags": []
   },
   "source": [
    "## 학습 데이터 건수가 너무 많아 조정"
   ]
  },
  {
   "cell_type": "code",
   "execution_count": 13,
   "id": "bf8e6209",
   "metadata": {
    "execution": {
     "iopub.execute_input": "2022-06-10T11:39:05.756107Z",
     "iopub.status.busy": "2022-06-10T11:39:05.755756Z",
     "iopub.status.idle": "2022-06-10T11:39:05.810792Z",
     "shell.execute_reply": "2022-06-10T11:39:05.810031Z"
    },
    "papermill": {
     "duration": 0.069883,
     "end_time": "2022-06-10T11:39:05.812887",
     "exception": false,
     "start_time": "2022-06-10T11:39:05.743004",
     "status": "completed"
    },
    "tags": []
   },
   "outputs": [],
   "source": [
    "# val_sample_mark_id = val_df_mark.id.unique().tolist()[4321:9321]\n",
    "val_sample_mark_id = val_df_mark.id.unique().tolist()[valid_data_start_point:valid_data_start_point+valid_data_num]\n",
    "val_df_mark = val_df_mark[val_df_mark['id'].isin(val_sample_mark_id)].reset_index(drop=True)"
   ]
  },
  {
   "cell_type": "code",
   "execution_count": 14,
   "id": "5fdd28c9",
   "metadata": {
    "execution": {
     "iopub.execute_input": "2022-06-10T11:39:05.838223Z",
     "iopub.status.busy": "2022-06-10T11:39:05.837926Z",
     "iopub.status.idle": "2022-06-10T11:39:05.849063Z",
     "shell.execute_reply": "2022-06-10T11:39:05.848278Z"
    },
    "papermill": {
     "duration": 0.025275,
     "end_time": "2022-06-10T11:39:05.850674",
     "exception": false,
     "start_time": "2022-06-10T11:39:05.825399",
     "status": "completed"
    },
    "tags": []
   },
   "outputs": [
    {
     "data": {
      "text/plain": [
       "markdown    38984\n",
       "Name: cell_type, dtype: int64"
      ]
     },
     "execution_count": 14,
     "metadata": {},
     "output_type": "execute_result"
    }
   ],
   "source": [
    "val_df_mark.cell_type.value_counts()"
   ]
  },
  {
   "cell_type": "code",
   "execution_count": 15,
   "id": "b5fa54db",
   "metadata": {
    "execution": {
     "iopub.execute_input": "2022-06-10T11:39:05.875443Z",
     "iopub.status.busy": "2022-06-10T11:39:05.875179Z",
     "iopub.status.idle": "2022-06-10T11:39:05.879876Z",
     "shell.execute_reply": "2022-06-10T11:39:05.879179Z"
    },
    "papermill": {
     "duration": 0.018883,
     "end_time": "2022-06-10T11:39:05.881436",
     "exception": false,
     "start_time": "2022-06-10T11:39:05.862553",
     "status": "completed"
    },
    "tags": []
   },
   "outputs": [
    {
     "data": {
      "text/plain": [
       "(38984, 7)"
      ]
     },
     "execution_count": 15,
     "metadata": {},
     "output_type": "execute_result"
    }
   ],
   "source": [
    "val_df_mark.shape"
   ]
  },
  {
   "cell_type": "markdown",
   "id": "49c754c4",
   "metadata": {
    "papermill": {
     "duration": 0.011685,
     "end_time": "2022-06-10T11:39:05.905002",
     "exception": false,
     "start_time": "2022-06-10T11:39:05.893317",
     "status": "completed"
    },
    "tags": []
   },
   "source": [
    "## 4-3. Define Constant Values"
   ]
  },
  {
   "cell_type": "code",
   "execution_count": 16,
   "id": "ee81d849",
   "metadata": {
    "execution": {
     "iopub.execute_input": "2022-06-10T11:39:05.929881Z",
     "iopub.status.busy": "2022-06-10T11:39:05.929636Z",
     "iopub.status.idle": "2022-06-10T11:39:05.934605Z",
     "shell.execute_reply": "2022-06-10T11:39:05.933884Z"
    },
    "papermill": {
     "duration": 0.019465,
     "end_time": "2022-06-10T11:39:05.936525",
     "exception": false,
     "start_time": "2022-06-10T11:39:05.917060",
     "status": "completed"
    },
    "tags": []
   },
   "outputs": [
    {
     "name": "stdout",
     "output_type": "stream",
     "text": [
      "sample_64_512_2_54321_15000_model\n"
     ]
    }
   ],
   "source": [
    "\n",
    "# parser.add_argument('--md_max_len', type=int, default=64)\n",
    "# parser.add_argument('--total_max_len', type=int, default=512)\n",
    "# parser.add_argument('--batch_size', type=int, default=8)\n",
    "# parser.add_argument('--accumulation_steps', type=int, default=4)\n",
    "# parser.add_argument('--epochs', type=int, default=5)\n",
    "# parser.add_argument('--n_workers', type=int, default=8)\n",
    "\n",
    "md_max_len = 64\n",
    "total_max_len = 512\n",
    "batch_size = 8\n",
    "accumulation_steps = 4\n",
    "epochs = 2\n",
    "n_workers = 8\n",
    "model_name_or_path = '../input/codebertbase'\n",
    "\n",
    "save_model_prefix_name = f'sample_{md_max_len}_{total_max_len}_{epochs}_{train_data_start_point}_{train_data_num}_model'\n",
    "\n",
    "print(save_model_prefix_name)"
   ]
  },
  {
   "cell_type": "markdown",
   "id": "54b68b6c",
   "metadata": {
    "papermill": {
     "duration": 0.012098,
     "end_time": "2022-06-10T11:39:05.960459",
     "exception": false,
     "start_time": "2022-06-10T11:39:05.948361",
     "status": "completed"
    },
    "tags": []
   },
   "source": [
    "## 4-4. Load Origin Data"
   ]
  },
  {
   "cell_type": "code",
   "execution_count": 17,
   "id": "79d10b59",
   "metadata": {
    "execution": {
     "iopub.execute_input": "2022-06-10T11:39:05.985693Z",
     "iopub.status.busy": "2022-06-10T11:39:05.985428Z",
     "iopub.status.idle": "2022-06-10T11:39:08.701042Z",
     "shell.execute_reply": "2022-06-10T11:39:08.699991Z"
    },
    "papermill": {
     "duration": 2.730991,
     "end_time": "2022-06-10T11:39:08.703704",
     "exception": false,
     "start_time": "2022-06-10T11:39:05.972713",
     "status": "completed"
    },
    "tags": []
   },
   "outputs": [
    {
     "name": "stdout",
     "output_type": "stream",
     "text": [
      "CPU times: user 1.98 s, sys: 275 ms, total: 2.25 s\n",
      "Wall time: 2.71 s\n"
     ]
    }
   ],
   "source": [
    "%%time\n",
    "order_df = pd.read_csv(data_dir / \"train_orders.csv\").set_index(\"id\")\n",
    "df_orders = pd.read_csv(\n",
    "    data_dir / 'train_orders.csv',\n",
    "    index_col='id',\n",
    "    squeeze=True,\n",
    ").str.split()"
   ]
  },
  {
   "cell_type": "code",
   "execution_count": 18,
   "id": "a3639519",
   "metadata": {
    "execution": {
     "iopub.execute_input": "2022-06-10T11:39:08.729736Z",
     "iopub.status.busy": "2022-06-10T11:39:08.729425Z",
     "iopub.status.idle": "2022-06-10T11:39:08.752277Z",
     "shell.execute_reply": "2022-06-10T11:39:08.751535Z"
    },
    "papermill": {
     "duration": 0.037761,
     "end_time": "2022-06-10T11:39:08.754051",
     "exception": false,
     "start_time": "2022-06-10T11:39:08.716290",
     "status": "completed"
    },
    "tags": []
   },
   "outputs": [
    {
     "data": {
      "text/plain": [
       "id\n",
       "00001756c60be8    [1862f0a6, 448eb224, 2a9e43d6, 7e2f170a, 038b7...\n",
       "00015c83e2717b    [2e94bd7a, 3e99dee9, b5e286ea, da4f7550, c4172...\n",
       "0001bdd4021779    [3fdc37be, 073782ca, 8ea7263c, 80543cd8, 38310...\n",
       "0001daf4c2c76d    [97266564, a898e555, 86605076, 76cc2642, ef279...\n",
       "0002115f48f982    [9ec225f0, 18281c6c, e3b6b115, 4a044c54, 365fe...\n",
       "                                        ...                        \n",
       "fffc30d5a0bc46    [09727c0c, ff1ea6a0, ddfef603, a01ce9b3, 3ba95...\n",
       "fffc3b44869198    [978a5137, faa48f03, 28dfb12a, eea2e812, 64fef...\n",
       "fffc63ff750064    [5015c300, 411b85d9, 8238198c, f4781d1d, b5532...\n",
       "fffcd063cda949    [7e6266ad, d8281fc5, d4ffcaef, 3e0e4a47, 21387...\n",
       "fffe1d764579d5    [1a63248d, 9c3b96a5, 1398a873, 4e2d4c2d, f71c5...\n",
       "Name: cell_order, Length: 139256, dtype: object"
      ]
     },
     "execution_count": 18,
     "metadata": {},
     "output_type": "execute_result"
    }
   ],
   "source": [
    "df_orders"
   ]
  },
  {
   "cell_type": "code",
   "execution_count": 19,
   "id": "50e26ff2",
   "metadata": {
    "execution": {
     "iopub.execute_input": "2022-06-10T11:39:08.779866Z",
     "iopub.status.busy": "2022-06-10T11:39:08.779253Z",
     "iopub.status.idle": "2022-06-10T11:39:08.782668Z",
     "shell.execute_reply": "2022-06-10T11:39:08.781840Z"
    },
    "papermill": {
     "duration": 0.018446,
     "end_time": "2022-06-10T11:39:08.784621",
     "exception": false,
     "start_time": "2022-06-10T11:39:08.766175",
     "status": "completed"
    },
    "tags": []
   },
   "outputs": [],
   "source": [
    "# order_df = order_df[order_df.index.isin(train_sample_mark_id)].reset_index(drop = True)\n",
    "# df_orders = df_orders[df_orders.index.isin(train_sample_mark_id)].reset_index(drop = True)"
   ]
  },
  {
   "cell_type": "code",
   "execution_count": 20,
   "id": "f69f96cc",
   "metadata": {
    "execution": {
     "iopub.execute_input": "2022-06-10T11:39:08.810736Z",
     "iopub.status.busy": "2022-06-10T11:39:08.810467Z",
     "iopub.status.idle": "2022-06-10T11:39:08.822312Z",
     "shell.execute_reply": "2022-06-10T11:39:08.821518Z"
    },
    "papermill": {
     "duration": 0.026727,
     "end_time": "2022-06-10T11:39:08.824066",
     "exception": false,
     "start_time": "2022-06-10T11:39:08.797339",
     "status": "completed"
    },
    "tags": []
   },
   "outputs": [
    {
     "data": {
      "text/html": [
       "<div>\n",
       "<style scoped>\n",
       "    .dataframe tbody tr th:only-of-type {\n",
       "        vertical-align: middle;\n",
       "    }\n",
       "\n",
       "    .dataframe tbody tr th {\n",
       "        vertical-align: top;\n",
       "    }\n",
       "\n",
       "    .dataframe thead th {\n",
       "        text-align: right;\n",
       "    }\n",
       "</style>\n",
       "<table border=\"1\" class=\"dataframe\">\n",
       "  <thead>\n",
       "    <tr style=\"text-align: right;\">\n",
       "      <th></th>\n",
       "      <th>cell_order</th>\n",
       "    </tr>\n",
       "    <tr>\n",
       "      <th>id</th>\n",
       "      <th></th>\n",
       "    </tr>\n",
       "  </thead>\n",
       "  <tbody>\n",
       "    <tr>\n",
       "      <th>00001756c60be8</th>\n",
       "      <td>1862f0a6 448eb224 2a9e43d6 7e2f170a 038b763d 7...</td>\n",
       "    </tr>\n",
       "    <tr>\n",
       "      <th>00015c83e2717b</th>\n",
       "      <td>2e94bd7a 3e99dee9 b5e286ea da4f7550 c417225b 5...</td>\n",
       "    </tr>\n",
       "    <tr>\n",
       "      <th>0001bdd4021779</th>\n",
       "      <td>3fdc37be 073782ca 8ea7263c 80543cd8 38310c80 0...</td>\n",
       "    </tr>\n",
       "    <tr>\n",
       "      <th>0001daf4c2c76d</th>\n",
       "      <td>97266564 a898e555 86605076 76cc2642 ef279279 d...</td>\n",
       "    </tr>\n",
       "    <tr>\n",
       "      <th>0002115f48f982</th>\n",
       "      <td>9ec225f0 18281c6c e3b6b115 4a044c54 365fe576 a...</td>\n",
       "    </tr>\n",
       "    <tr>\n",
       "      <th>...</th>\n",
       "      <td>...</td>\n",
       "    </tr>\n",
       "    <tr>\n",
       "      <th>fffc30d5a0bc46</th>\n",
       "      <td>09727c0c ff1ea6a0 ddfef603 a01ce9b3 3ba953ee b...</td>\n",
       "    </tr>\n",
       "    <tr>\n",
       "      <th>fffc3b44869198</th>\n",
       "      <td>978a5137 faa48f03 28dfb12a eea2e812 64fef97c 4...</td>\n",
       "    </tr>\n",
       "    <tr>\n",
       "      <th>fffc63ff750064</th>\n",
       "      <td>5015c300 411b85d9 8238198c f4781d1d b5532930 e...</td>\n",
       "    </tr>\n",
       "    <tr>\n",
       "      <th>fffcd063cda949</th>\n",
       "      <td>7e6266ad d8281fc5 d4ffcaef 3e0e4a47 21387fc8 c...</td>\n",
       "    </tr>\n",
       "    <tr>\n",
       "      <th>fffe1d764579d5</th>\n",
       "      <td>1a63248d 9c3b96a5 1398a873 4e2d4c2d f71c538e 8...</td>\n",
       "    </tr>\n",
       "  </tbody>\n",
       "</table>\n",
       "<p>139256 rows × 1 columns</p>\n",
       "</div>"
      ],
      "text/plain": [
       "                                                       cell_order\n",
       "id                                                               \n",
       "00001756c60be8  1862f0a6 448eb224 2a9e43d6 7e2f170a 038b763d 7...\n",
       "00015c83e2717b  2e94bd7a 3e99dee9 b5e286ea da4f7550 c417225b 5...\n",
       "0001bdd4021779  3fdc37be 073782ca 8ea7263c 80543cd8 38310c80 0...\n",
       "0001daf4c2c76d  97266564 a898e555 86605076 76cc2642 ef279279 d...\n",
       "0002115f48f982  9ec225f0 18281c6c e3b6b115 4a044c54 365fe576 a...\n",
       "...                                                           ...\n",
       "fffc30d5a0bc46  09727c0c ff1ea6a0 ddfef603 a01ce9b3 3ba953ee b...\n",
       "fffc3b44869198  978a5137 faa48f03 28dfb12a eea2e812 64fef97c 4...\n",
       "fffc63ff750064  5015c300 411b85d9 8238198c f4781d1d b5532930 e...\n",
       "fffcd063cda949  7e6266ad d8281fc5 d4ffcaef 3e0e4a47 21387fc8 c...\n",
       "fffe1d764579d5  1a63248d 9c3b96a5 1398a873 4e2d4c2d f71c538e 8...\n",
       "\n",
       "[139256 rows x 1 columns]"
      ]
     },
     "execution_count": 20,
     "metadata": {},
     "output_type": "execute_result"
    }
   ],
   "source": [
    "order_df"
   ]
  },
  {
   "cell_type": "code",
   "execution_count": 21,
   "id": "acf93ba2",
   "metadata": {
    "execution": {
     "iopub.execute_input": "2022-06-10T11:39:08.850601Z",
     "iopub.status.busy": "2022-06-10T11:39:08.850339Z",
     "iopub.status.idle": "2022-06-10T11:39:08.855131Z",
     "shell.execute_reply": "2022-06-10T11:39:08.854292Z"
    },
    "papermill": {
     "duration": 0.020732,
     "end_time": "2022-06-10T11:39:08.857519",
     "exception": false,
     "start_time": "2022-06-10T11:39:08.836787",
     "status": "completed"
    },
    "tags": []
   },
   "outputs": [
    {
     "data": {
      "text/plain": [
       "'../input/codebertbase'"
      ]
     },
     "execution_count": 21,
     "metadata": {},
     "output_type": "execute_result"
    }
   ],
   "source": [
    "model_name_or_path"
   ]
  },
  {
   "cell_type": "code",
   "execution_count": 22,
   "id": "101c0550",
   "metadata": {
    "execution": {
     "iopub.execute_input": "2022-06-10T11:39:08.883308Z",
     "iopub.status.busy": "2022-06-10T11:39:08.883032Z",
     "iopub.status.idle": "2022-06-10T11:39:09.199979Z",
     "shell.execute_reply": "2022-06-10T11:39:09.198734Z"
    },
    "papermill": {
     "duration": 0.332979,
     "end_time": "2022-06-10T11:39:09.202858",
     "exception": false,
     "start_time": "2022-06-10T11:39:08.869879",
     "status": "completed"
    },
    "tags": []
   },
   "outputs": [
    {
     "data": {
      "text/plain": [
       "PreTrainedTokenizerFast(name_or_path='../input/codebertbase', vocab_size=50265, model_max_len=512, is_fast=True, padding_side='right', truncation_side='right', special_tokens={'bos_token': '<s>', 'eos_token': '</s>', 'unk_token': '<unk>', 'sep_token': '</s>', 'pad_token': '<pad>', 'cls_token': '<s>', 'mask_token': AddedToken(\"<mask>\", rstrip=False, lstrip=True, single_word=False, normalized=False)})"
      ]
     },
     "execution_count": 22,
     "metadata": {},
     "output_type": "execute_result"
    }
   ],
   "source": [
    "AutoTokenizer.from_pretrained(model_name_or_path)"
   ]
  },
  {
   "cell_type": "code",
   "execution_count": 23,
   "id": "590153ad",
   "metadata": {
    "execution": {
     "iopub.execute_input": "2022-06-10T11:39:09.254958Z",
     "iopub.status.busy": "2022-06-10T11:39:09.254576Z",
     "iopub.status.idle": "2022-06-10T11:39:09.691297Z",
     "shell.execute_reply": "2022-06-10T11:39:09.690526Z"
    },
    "papermill": {
     "duration": 0.464487,
     "end_time": "2022-06-10T11:39:09.693841",
     "exception": false,
     "start_time": "2022-06-10T11:39:09.229354",
     "status": "completed"
    },
    "tags": []
   },
   "outputs": [],
   "source": [
    "# train_ds = MarkdownDataset(train_df_mark, model_name_or_path=args.model_name_or_path, md_max_len=args.md_max_len,\n",
    "#                            total_max_len=args.total_max_len, fts=train_fts)\n",
    "# val_ds = MarkdownDataset(val_df_mark, model_name_or_path=args.model_name_or_path, md_max_len=args.md_max_len,\n",
    "#                          total_max_len=args.total_max_len, fts=val_fts)\n",
    "# train_loader = DataLoader(train_ds, batch_size=args.batch_size, shuffle=True, num_workers=args.n_workers,\n",
    "#                           pin_memory=False, drop_last=True)\n",
    "# val_loader = DataLoader(val_ds, batch_size=args.batch_size, shuffle=False, num_workers=args.n_workers,\n",
    "#                         pin_memory=False, drop_last=False)\n",
    "\n",
    "\n",
    "\n",
    "\n",
    "train_ds = MarkdownDataset(train_df_mark, model_name_or_path = model_name_or_path, md_max_len=md_max_len,\n",
    "                           total_max_len=total_max_len, fts=train_fts)\n",
    "val_ds = MarkdownDataset(val_df_mark, model_name_or_path=model_name_or_path, md_max_len=md_max_len,\n",
    "                         total_max_len=total_max_len, fts=val_fts)"
   ]
  },
  {
   "cell_type": "code",
   "execution_count": 24,
   "id": "9d59382a",
   "metadata": {
    "execution": {
     "iopub.execute_input": "2022-06-10T11:39:09.721673Z",
     "iopub.status.busy": "2022-06-10T11:39:09.720769Z",
     "iopub.status.idle": "2022-06-10T11:39:09.728707Z",
     "shell.execute_reply": "2022-06-10T11:39:09.727688Z"
    },
    "papermill": {
     "duration": 0.023881,
     "end_time": "2022-06-10T11:39:09.730953",
     "exception": false,
     "start_time": "2022-06-10T11:39:09.707072",
     "status": "completed"
    },
    "tags": []
   },
   "outputs": [
    {
     "name": "stderr",
     "output_type": "stream",
     "text": [
      "/opt/conda/lib/python3.7/site-packages/torch/utils/data/dataloader.py:490: UserWarning: This DataLoader will create 8 worker processes in total. Our suggested max number of worker in current system is 2, which is smaller than what this DataLoader is going to create. Please be aware that excessive worker creation might get DataLoader running slow or even freeze, lower the worker number to avoid potential slowness/freeze if necessary.\n",
      "  cpuset_checked))\n"
     ]
    }
   ],
   "source": [
    "train_loader = DataLoader(train_ds, batch_size=batch_size, shuffle=True, num_workers=n_workers,\n",
    "                          pin_memory=False, drop_last=True)\n",
    "val_loader = DataLoader(val_ds, batch_size=batch_size, shuffle=False, num_workers=n_workers,\n",
    "                        pin_memory=False, drop_last=False)"
   ]
  },
  {
   "cell_type": "code",
   "execution_count": 25,
   "id": "c674459d",
   "metadata": {
    "execution": {
     "iopub.execute_input": "2022-06-10T11:39:09.757808Z",
     "iopub.status.busy": "2022-06-10T11:39:09.757556Z",
     "iopub.status.idle": "2022-06-10T11:39:09.769893Z",
     "shell.execute_reply": "2022-06-10T11:39:09.769050Z"
    },
    "papermill": {
     "duration": 0.027646,
     "end_time": "2022-06-10T11:39:09.771868",
     "exception": false,
     "start_time": "2022-06-10T11:39:09.744222",
     "status": "completed"
    },
    "tags": []
   },
   "outputs": [
    {
     "data": {
      "text/html": [
       "<div>\n",
       "<style scoped>\n",
       "    .dataframe tbody tr th:only-of-type {\n",
       "        vertical-align: middle;\n",
       "    }\n",
       "\n",
       "    .dataframe tbody tr th {\n",
       "        vertical-align: top;\n",
       "    }\n",
       "\n",
       "    .dataframe thead th {\n",
       "        text-align: right;\n",
       "    }\n",
       "</style>\n",
       "<table border=\"1\" class=\"dataframe\">\n",
       "  <thead>\n",
       "    <tr style=\"text-align: right;\">\n",
       "      <th></th>\n",
       "      <th>id</th>\n",
       "      <th>cell_id</th>\n",
       "      <th>cell_type</th>\n",
       "      <th>source</th>\n",
       "      <th>rank</th>\n",
       "      <th>ancestor_id</th>\n",
       "      <th>pct_rank</th>\n",
       "    </tr>\n",
       "  </thead>\n",
       "  <tbody>\n",
       "    <tr>\n",
       "      <th>38979</th>\n",
       "      <td>7ce09c96a95315</td>\n",
       "      <td>32de4ae3</td>\n",
       "      <td>markdown</td>\n",
       "      <td># Skewed features\\n</td>\n",
       "      <td>19.0</td>\n",
       "      <td>1af46790</td>\n",
       "      <td>0.487179</td>\n",
       "    </tr>\n",
       "    <tr>\n",
       "      <th>38980</th>\n",
       "      <td>7ce09c96a95315</td>\n",
       "      <td>d18236e9</td>\n",
       "      <td>markdown</td>\n",
       "      <td># Save results</td>\n",
       "      <td>36.0</td>\n",
       "      <td>1af46790</td>\n",
       "      <td>0.923077</td>\n",
       "    </tr>\n",
       "    <tr>\n",
       "      <th>38981</th>\n",
       "      <td>7ce09c96a95315</td>\n",
       "      <td>122e732c</td>\n",
       "      <td>markdown</td>\n",
       "      <td># Checking the target</td>\n",
       "      <td>5.0</td>\n",
       "      <td>1af46790</td>\n",
       "      <td>0.128205</td>\n",
       "    </tr>\n",
       "    <tr>\n",
       "      <th>38982</th>\n",
       "      <td>7ce09c96a95315</td>\n",
       "      <td>272647ac</td>\n",
       "      <td>markdown</td>\n",
       "      <td># Data Loading</td>\n",
       "      <td>2.0</td>\n",
       "      <td>1af46790</td>\n",
       "      <td>0.051282</td>\n",
       "    </tr>\n",
       "    <tr>\n",
       "      <th>38983</th>\n",
       "      <td>7ce09c96a95315</td>\n",
       "      <td>d722ad32</td>\n",
       "      <td>markdown</td>\n",
       "      <td>FASTAI Modelling</td>\n",
       "      <td>22.0</td>\n",
       "      <td>1af46790</td>\n",
       "      <td>0.564103</td>\n",
       "    </tr>\n",
       "  </tbody>\n",
       "</table>\n",
       "</div>"
      ],
      "text/plain": [
       "                   id   cell_id cell_type                 source  rank  \\\n",
       "38979  7ce09c96a95315  32de4ae3  markdown    # Skewed features\\n  19.0   \n",
       "38980  7ce09c96a95315  d18236e9  markdown         # Save results  36.0   \n",
       "38981  7ce09c96a95315  122e732c  markdown  # Checking the target   5.0   \n",
       "38982  7ce09c96a95315  272647ac  markdown         # Data Loading   2.0   \n",
       "38983  7ce09c96a95315  d722ad32  markdown       FASTAI Modelling  22.0   \n",
       "\n",
       "      ancestor_id  pct_rank  \n",
       "38979    1af46790  0.487179  \n",
       "38980    1af46790  0.923077  \n",
       "38981    1af46790  0.128205  \n",
       "38982    1af46790  0.051282  \n",
       "38983    1af46790  0.564103  "
      ]
     },
     "execution_count": 25,
     "metadata": {},
     "output_type": "execute_result"
    }
   ],
   "source": [
    "val_ds.df.tail(5)"
   ]
  },
  {
   "cell_type": "code",
   "execution_count": 26,
   "id": "f74c33ef",
   "metadata": {
    "execution": {
     "iopub.execute_input": "2022-06-10T11:39:09.799061Z",
     "iopub.status.busy": "2022-06-10T11:39:09.798815Z",
     "iopub.status.idle": "2022-06-10T11:39:09.803826Z",
     "shell.execute_reply": "2022-06-10T11:39:09.802994Z"
    },
    "papermill": {
     "duration": 0.021463,
     "end_time": "2022-06-10T11:39:09.806256",
     "exception": false,
     "start_time": "2022-06-10T11:39:09.784793",
     "status": "completed"
    },
    "tags": []
   },
   "outputs": [
    {
     "data": {
      "text/plain": [
       "PreTrainedTokenizerFast(name_or_path='../input/codebertbase', vocab_size=50265, model_max_len=512, is_fast=True, padding_side='right', truncation_side='right', special_tokens={'bos_token': '<s>', 'eos_token': '</s>', 'unk_token': '<unk>', 'sep_token': '</s>', 'pad_token': '<pad>', 'cls_token': '<s>', 'mask_token': AddedToken(\"<mask>\", rstrip=False, lstrip=True, single_word=False, normalized=False)})"
      ]
     },
     "execution_count": 26,
     "metadata": {},
     "output_type": "execute_result"
    }
   ],
   "source": [
    "val_ds.tokenizer"
   ]
  },
  {
   "cell_type": "code",
   "execution_count": 27,
   "id": "0f5bb6e7",
   "metadata": {
    "execution": {
     "iopub.execute_input": "2022-06-10T11:39:09.833454Z",
     "iopub.status.busy": "2022-06-10T11:39:09.833204Z",
     "iopub.status.idle": "2022-06-10T11:39:09.840683Z",
     "shell.execute_reply": "2022-06-10T11:39:09.839848Z"
    },
    "papermill": {
     "duration": 0.023162,
     "end_time": "2022-06-10T11:39:09.842456",
     "exception": false,
     "start_time": "2022-06-10T11:39:09.819294",
     "status": "completed"
    },
    "tags": []
   },
   "outputs": [],
   "source": [
    "def read_data(data):\n",
    "    return tuple(d.cuda() for d in data[:-1]), data[-1].cuda()\n",
    "\n",
    "\n",
    "def validate(model, val_loader):\n",
    "    model.eval()\n",
    "\n",
    "    tbar = tqdm(val_loader, file=sys.stdout)\n",
    "\n",
    "    preds = []\n",
    "    labels = []\n",
    "\n",
    "    with torch.no_grad():\n",
    "        for idx, data in enumerate(tbar):\n",
    "            inputs, target = read_data(data)\n",
    "\n",
    "            with torch.cuda.amp.autocast():\n",
    "                pred = model(*inputs)\n",
    "\n",
    "            preds.append(pred.detach().cpu().numpy().ravel())\n",
    "            labels.append(target.detach().cpu().numpy().ravel())\n",
    "\n",
    "    return np.concatenate(labels), np.concatenate(preds)"
   ]
  },
  {
   "cell_type": "code",
   "execution_count": 28,
   "id": "51a637b0",
   "metadata": {
    "execution": {
     "iopub.execute_input": "2022-06-10T11:39:09.869634Z",
     "iopub.status.busy": "2022-06-10T11:39:09.869370Z",
     "iopub.status.idle": "2022-06-10T11:39:09.884619Z",
     "shell.execute_reply": "2022-06-10T11:39:09.883869Z"
    },
    "papermill": {
     "duration": 0.030955,
     "end_time": "2022-06-10T11:39:09.886224",
     "exception": false,
     "start_time": "2022-06-10T11:39:09.855269",
     "status": "completed"
    },
    "tags": []
   },
   "outputs": [],
   "source": [
    "def train(model, train_loader, val_loader, epochs):\n",
    "    np.random.seed(4321)\n",
    "    # Creating optimizer and lr schedulers\n",
    "    param_optimizer = list(model.named_parameters())\n",
    "    no_decay = ['bias', 'LayerNorm.bias', 'LayerNorm.weight']\n",
    "    optimizer_grouped_parameters = [\n",
    "        {'params': [p for n, p in param_optimizer if not any(nd in n for nd in no_decay)], 'weight_decay': 0.01},\n",
    "        {'params': [p for n, p in param_optimizer if any(nd in n for nd in no_decay)], 'weight_decay': 0.0}\n",
    "    ]\n",
    "\n",
    "#     num_train_optimization_steps = int(args.epochs * len(train_loader) / args.accumulation_steps)\n",
    "    num_train_optimization_steps = int(epochs * len(train_loader) / accumulation_steps)\n",
    "    optimizer = AdamW(optimizer_grouped_parameters, lr=3e-5,\n",
    "                      correct_bias=False)  # To reproduce BertAdam specific behavior set correct_bias=False\n",
    "    scheduler = get_linear_schedule_with_warmup(optimizer, num_warmup_steps=0.05 * num_train_optimization_steps,\n",
    "                                                num_training_steps=num_train_optimization_steps)  # PyTorch scheduler\n",
    "\n",
    "    criterion = torch.nn.L1Loss()\n",
    "    scaler = torch.cuda.amp.GradScaler()\n",
    "\n",
    "    for e in range(epochs):\n",
    "        model.train()\n",
    "        tbar = tqdm(train_loader, file=sys.stdout)\n",
    "        loss_list = []\n",
    "        preds = []\n",
    "        labels = []\n",
    "\n",
    "        for idx, data in enumerate(tbar):\n",
    "            inputs, target = read_data(data)\n",
    "\n",
    "            with torch.cuda.amp.autocast():\n",
    "                pred = model(*inputs)\n",
    "                loss = criterion(pred, target)\n",
    "            scaler.scale(loss).backward()\n",
    "            # if idx % args.accumulation_steps == 0 or idx == len(tbar) - 1:\n",
    "            if idx % accumulation_steps == 0 or idx == len(tbar) - 1:\n",
    "                scaler.step(optimizer)\n",
    "                scaler.update()\n",
    "                optimizer.zero_grad()\n",
    "                scheduler.step()\n",
    "\n",
    "            loss_list.append(loss.detach().cpu().item())\n",
    "            preds.append(pred.detach().cpu().numpy().ravel())\n",
    "            labels.append(target.detach().cpu().numpy().ravel())\n",
    "\n",
    "            avg_loss = np.round(np.mean(loss_list), 4)\n",
    "\n",
    "            tbar.set_description(f\"Epoch {e + 1} Loss: {avg_loss} lr: {scheduler.get_last_lr()}\")\n",
    "\n",
    "        y_val, y_pred = validate(model, val_loader)\n",
    "        # print('y_val : ', y_val)\n",
    "        # print('y_pred : ', y_pred)\n",
    "        # print('val_df : ', val_df.head(5))\n",
    "        val_df[\"pred\"] = val_df.groupby([\"id\", \"cell_type\"])[\"rank\"].rank(pct=True)\n",
    "        # print('val_df[\"pred\"] : ', val_df[\"pred\"])\n",
    "        y_pred = val_df.loc[val_df[\"cell_type\"] == \"markdown\", \"pred\"]\n",
    "        # val_df.loc[val_df[\"cell_type\"] == \"markdown\", \"pred\"] = y_pred\n",
    "        y_dummy = val_df.sort_values(\"pred\").groupby('id')['cell_id'].apply(list)\n",
    "        # print('y_dummy : ', y_dummy[0:20])\n",
    "        # print('y_dummy.index : ', y_dummy.index[0:20])\n",
    "        \n",
    "        # print('df_orders.loc[y_dummy.index] : ', df_orders.loc[y_dummy.index])\n",
    "        # print(\"Preds score\", kendall_tau(df_orders.loc[y_dummy.index], y_dummy)) ### ERROR!\n",
    "        torch.save(model.state_dict(), f\"./outputs/{save_model_prefix_name}.bin\")\n",
    "\n",
    "    return model, y_pred"
   ]
  },
  {
   "cell_type": "code",
   "execution_count": 29,
   "id": "6309a79f",
   "metadata": {
    "execution": {
     "iopub.execute_input": "2022-06-10T11:39:09.913037Z",
     "iopub.status.busy": "2022-06-10T11:39:09.912795Z",
     "iopub.status.idle": "2022-06-10T11:39:19.892293Z",
     "shell.execute_reply": "2022-06-10T11:39:19.891506Z"
    },
    "papermill": {
     "duration": 9.995271,
     "end_time": "2022-06-10T11:39:19.894348",
     "exception": false,
     "start_time": "2022-06-10T11:39:09.899077",
     "status": "completed"
    },
    "tags": []
   },
   "outputs": [],
   "source": [
    "model = MarkdownModel(model_name_or_path)\n",
    "model = model.cuda()"
   ]
  },
  {
   "cell_type": "code",
   "execution_count": 30,
   "id": "a51ee630",
   "metadata": {
    "execution": {
     "iopub.execute_input": "2022-06-10T11:39:19.922305Z",
     "iopub.status.busy": "2022-06-10T11:39:19.922021Z",
     "iopub.status.idle": "2022-06-10T19:21:55.725667Z",
     "shell.execute_reply": "2022-06-10T19:21:55.724559Z"
    },
    "papermill": {
     "duration": 27755.820331,
     "end_time": "2022-06-10T19:21:55.728070",
     "exception": false,
     "start_time": "2022-06-10T11:39:19.907739",
     "status": "completed"
    },
    "tags": []
   },
   "outputs": [
    {
     "name": "stderr",
     "output_type": "stream",
     "text": [
      "/opt/conda/lib/python3.7/site-packages/transformers/optimization.py:309: FutureWarning: This implementation of AdamW is deprecated and will be removed in a future version. Use the PyTorch implementation torch.optim.AdamW instead, or set `no_deprecation_warning=True` to disable this warning\n",
      "  FutureWarning,\n"
     ]
    },
    {
     "name": "stdout",
     "output_type": "stream",
     "text": [
      "  0%|          | 0/29242 [00:00<?, ?it/s]"
     ]
    },
    {
     "name": "stderr",
     "output_type": "stream",
     "text": [
      "/opt/conda/lib/python3.7/site-packages/torch/utils/data/dataloader.py:490: UserWarning: This DataLoader will create 8 worker processes in total. Our suggested max number of worker in current system is 2, which is smaller than what this DataLoader is going to create. Please be aware that excessive worker creation might get DataLoader running slow or even freeze, lower the worker number to avoid potential slowness/freeze if necessary.\n",
      "  cpuset_checked))\n"
     ]
    },
    {
     "name": "stdout",
     "output_type": "stream",
     "text": [
      "Epoch 1 Loss: 1.195 lr: [4.103686478353054e-08, 4.103686478353054e-08]:   0%|          | 1/29242 [00:02<21:41:20,  2.67s/it]"
     ]
    },
    {
     "name": "stderr",
     "output_type": "stream",
     "text": [
      "/opt/conda/lib/python3.7/site-packages/torch/optim/lr_scheduler.py:136: UserWarning: Detected call of `lr_scheduler.step()` before `optimizer.step()`. In PyTorch 1.1.0 and later, you should call them in the opposite order: `optimizer.step()` before `lr_scheduler.step()`.  Failure to do this will result in PyTorch skipping the first value of the learning rate schedule. See more details at https://pytorch.org/docs/stable/optim.html#how-to-adjust-learning-rate\n",
      "  \"https://pytorch.org/docs/stable/optim.html#how-to-adjust-learning-rate\", UserWarning)\n"
     ]
    },
    {
     "name": "stdout",
     "output_type": "stream",
     "text": [
      "Epoch 1 Loss: 0.1905 lr: [1.5786233931727617e-05, 1.5786233931727617e-05]: 100%|██████████| 29242/29242 [3:38:08<00:00,  2.23it/s]\n",
      "100%|██████████| 4873/4873 [12:54<00:00,  6.29it/s]\n",
      "Epoch 2 Loss: 0.1324 lr: [0.0, 0.0]: 100%|██████████| 29242/29242 [3:38:31<00:00,  2.23it/s]\n",
      "100%|██████████| 4873/4873 [12:56<00:00,  6.28it/s]\n"
     ]
    }
   ],
   "source": [
    "model, y_pred = train(model, train_loader, val_loader, epochs=epochs)"
   ]
  },
  {
   "cell_type": "markdown",
   "id": "5209a61c",
   "metadata": {
    "papermill": {
     "duration": 8.167326,
     "end_time": "2022-06-10T19:22:11.866093",
     "exception": false,
     "start_time": "2022-06-10T19:22:03.698767",
     "status": "completed"
    },
    "tags": []
   },
   "source": [
    "##"
   ]
  },
  {
   "cell_type": "code",
   "execution_count": 31,
   "id": "e59093f5",
   "metadata": {
    "execution": {
     "iopub.execute_input": "2022-06-10T19:22:28.747135Z",
     "iopub.status.busy": "2022-06-10T19:22:28.746771Z",
     "iopub.status.idle": "2022-06-10T19:22:29.206096Z",
     "shell.execute_reply": "2022-06-10T19:22:29.205363Z"
    },
    "papermill": {
     "duration": 9.321354,
     "end_time": "2022-06-10T19:22:29.208011",
     "exception": false,
     "start_time": "2022-06-10T19:22:19.886657",
     "status": "completed"
    },
    "tags": []
   },
   "outputs": [
    {
     "data": {
      "text/plain": [
       "21"
      ]
     },
     "execution_count": 31,
     "metadata": {},
     "output_type": "execute_result"
    }
   ],
   "source": [
    "import gc\n",
    "gc.collect()"
   ]
  },
  {
   "cell_type": "markdown",
   "id": "c8976e65",
   "metadata": {
    "papermill": {
     "duration": 8.11745,
     "end_time": "2022-06-10T19:22:45.245401",
     "exception": false,
     "start_time": "2022-06-10T19:22:37.127951",
     "status": "completed"
    },
    "tags": []
   },
   "source": [
    "# 5. Inference"
   ]
  },
  {
   "cell_type": "code",
   "execution_count": 32,
   "id": "524f90c1",
   "metadata": {
    "execution": {
     "iopub.execute_input": "2022-06-10T19:23:01.733346Z",
     "iopub.status.busy": "2022-06-10T19:23:01.733000Z",
     "iopub.status.idle": "2022-06-10T19:23:01.737230Z",
     "shell.execute_reply": "2022-06-10T19:23:01.736505Z"
    },
    "papermill": {
     "duration": 8.528209,
     "end_time": "2022-06-10T19:23:01.739149",
     "exception": false,
     "start_time": "2022-06-10T19:22:53.210940",
     "status": "completed"
    },
    "tags": []
   },
   "outputs": [],
   "source": [
    "# def read_notebook(path):\n",
    "#     return (\n",
    "#         pd.read_json(\n",
    "#             path,\n",
    "#             dtype={'cell_type': 'category', 'source': 'str'})\n",
    "#         .assign(id=path.stem)\n",
    "#         .rename_axis('cell_id')\n",
    "#     )\n",
    "\n",
    "# paths_test = list((data_dir / 'test').glob('*.json'))\n",
    "# notebooks_test = [\n",
    "#     read_notebook(path) for path in tqdm(paths_test, desc='Test NBs')\n",
    "# ]\n",
    "# test_df = (\n",
    "#     pd.concat(notebooks_test)\n",
    "#     .set_index('id', append=True)\n",
    "#     .swaplevel()\n",
    "#     .sort_index(level='id', sort_remaining=False)\n",
    "# ).reset_index()\n",
    "# test_df[\"rank\"] = test_df.groupby([\"id\", \"cell_type\"]).cumcount()\n",
    "# test_df[\"pred\"] = test_df.groupby([\"id\", \"cell_type\"])[\"rank\"].rank(pct=True)"
   ]
  },
  {
   "cell_type": "code",
   "execution_count": 33,
   "id": "f2bde5e7",
   "metadata": {
    "execution": {
     "iopub.execute_input": "2022-06-10T19:23:17.755595Z",
     "iopub.status.busy": "2022-06-10T19:23:17.755216Z",
     "iopub.status.idle": "2022-06-10T19:23:17.759014Z",
     "shell.execute_reply": "2022-06-10T19:23:17.758254Z"
    },
    "papermill": {
     "duration": 8.159459,
     "end_time": "2022-06-10T19:23:17.761029",
     "exception": false,
     "start_time": "2022-06-10T19:23:09.601570",
     "status": "completed"
    },
    "tags": []
   },
   "outputs": [],
   "source": [
    "\n",
    "# test_df.tail(5)"
   ]
  },
  {
   "cell_type": "code",
   "execution_count": 34,
   "id": "6f17935e",
   "metadata": {
    "execution": {
     "iopub.execute_input": "2022-06-10T19:23:34.531276Z",
     "iopub.status.busy": "2022-06-10T19:23:34.530931Z",
     "iopub.status.idle": "2022-06-10T19:23:34.535601Z",
     "shell.execute_reply": "2022-06-10T19:23:34.534739Z"
    },
    "papermill": {
     "duration": 8.645699,
     "end_time": "2022-06-10T19:23:34.537659",
     "exception": false,
     "start_time": "2022-06-10T19:23:25.891960",
     "status": "completed"
    },
    "tags": []
   },
   "outputs": [],
   "source": [
    "# # Additional code cells\n",
    "# def clean_code(cell):\n",
    "#     return str(cell).replace(\"\\\\n\", \"\\n\")\n",
    "\n",
    "\n",
    "# def sample_cells(cells, n):\n",
    "#     cells = [clean_code(cell) for cell in cells]\n",
    "#     if n >= len(cells):\n",
    "#         return [cell[:200] for cell in cells]\n",
    "#     else:\n",
    "#         results = []\n",
    "#         step = len(cells) / n\n",
    "#         idx = 0\n",
    "#         while int(np.round(idx)) < len(cells):\n",
    "#             results.append(cells[int(np.round(idx))])\n",
    "#             idx += step\n",
    "#         assert cells[0] in results\n",
    "#         if cells[-1] not in results:\n",
    "#             results[-1] = cells[-1]\n",
    "#         return results\n",
    "\n",
    "\n",
    "# def get_features(df):\n",
    "#     features = dict()\n",
    "#     df = df.sort_values(\"rank\").reset_index(drop=True)\n",
    "#     for idx, sub_df in tqdm(df.groupby(\"id\")):\n",
    "#         features[idx] = dict()\n",
    "#         total_md = sub_df[sub_df.cell_type == \"markdown\"].shape[0]\n",
    "#         code_sub_df = sub_df[sub_df.cell_type == \"code\"]\n",
    "#         total_code = code_sub_df.shape[0]\n",
    "#         codes = sample_cells(code_sub_df.source.values, 20)\n",
    "#         features[idx][\"total_code\"] = total_code\n",
    "#         features[idx][\"total_md\"] = total_md\n",
    "#         features[idx][\"codes\"] = codes\n",
    "#     return features"
   ]
  },
  {
   "cell_type": "code",
   "execution_count": 35,
   "id": "f355947a",
   "metadata": {
    "execution": {
     "iopub.execute_input": "2022-06-10T19:23:50.726529Z",
     "iopub.status.busy": "2022-06-10T19:23:50.726154Z",
     "iopub.status.idle": "2022-06-10T19:23:50.729798Z",
     "shell.execute_reply": "2022-06-10T19:23:50.729050Z"
    },
    "papermill": {
     "duration": 8.256665,
     "end_time": "2022-06-10T19:23:50.731438",
     "exception": false,
     "start_time": "2022-06-10T19:23:42.474773",
     "status": "completed"
    },
    "tags": []
   },
   "outputs": [],
   "source": [
    "# test_fts = get_features(test_df)"
   ]
  },
  {
   "cell_type": "code",
   "execution_count": 36,
   "id": "b62b3b30",
   "metadata": {
    "execution": {
     "iopub.execute_input": "2022-06-10T19:24:07.294312Z",
     "iopub.status.busy": "2022-06-10T19:24:07.293962Z",
     "iopub.status.idle": "2022-06-10T19:24:07.297585Z",
     "shell.execute_reply": "2022-06-10T19:24:07.296830Z"
    },
    "papermill": {
     "duration": 8.595908,
     "end_time": "2022-06-10T19:24:07.299270",
     "exception": false,
     "start_time": "2022-06-10T19:23:58.703362",
     "status": "completed"
    },
    "tags": []
   },
   "outputs": [],
   "source": [
    "# test_fts['0009d135ece78d']"
   ]
  },
  {
   "cell_type": "code",
   "execution_count": 37,
   "id": "114c6de5",
   "metadata": {
    "execution": {
     "iopub.execute_input": "2022-06-10T19:24:23.322117Z",
     "iopub.status.busy": "2022-06-10T19:24:23.321765Z",
     "iopub.status.idle": "2022-06-10T19:24:23.325748Z",
     "shell.execute_reply": "2022-06-10T19:24:23.325004Z"
    },
    "papermill": {
     "duration": 8.125241,
     "end_time": "2022-06-10T19:24:23.327554",
     "exception": false,
     "start_time": "2022-06-10T19:24:15.202313",
     "status": "completed"
    },
    "tags": []
   },
   "outputs": [],
   "source": [
    "# def predict(model_path, ckpt_path):\n",
    "#     model = MarkdownModel(model_path)\n",
    "#     model = model.cuda()\n",
    "#     model.eval()\n",
    "#     model.load_state_dict(torch.load(ckpt_path))\n",
    "#     BS = 32\n",
    "#     NW = 8\n",
    "#     MAX_LEN = 64\n",
    "#     test_df[\"pct_rank\"] = 0\n",
    "#     test_ds = MarkdownDataset(test_df[test_df[\"cell_type\"] == \"markdown\"].reset_index(drop=True), md_max_len=64,total_max_len=512, model_name_or_path=model_path, fts=test_fts)\n",
    "#     test_loader = DataLoader(test_ds, batch_size=BS, shuffle=False, num_workers=NW,\n",
    "#                               pin_memory=False, drop_last=False)\n",
    "#     _, y_test = validate(model, test_loader)\n",
    "#     return y_test\n",
    "\n",
    "\n",
    "\n",
    "# ckpt_path = \"./outputs/sample_model.bin\" \n",
    "# y_test_2 = predict(model_name_or_path, ckpt_path)"
   ]
  },
  {
   "cell_type": "code",
   "execution_count": 38,
   "id": "a0e73d2b",
   "metadata": {
    "execution": {
     "iopub.execute_input": "2022-06-10T19:24:40.216169Z",
     "iopub.status.busy": "2022-06-10T19:24:40.215823Z",
     "iopub.status.idle": "2022-06-10T19:24:40.219312Z",
     "shell.execute_reply": "2022-06-10T19:24:40.218558Z"
    },
    "papermill": {
     "duration": 8.67213,
     "end_time": "2022-06-10T19:24:40.221001",
     "exception": false,
     "start_time": "2022-06-10T19:24:31.548871",
     "status": "completed"
    },
    "tags": []
   },
   "outputs": [],
   "source": [
    "# y_test = y_test_2"
   ]
  },
  {
   "cell_type": "code",
   "execution_count": 39,
   "id": "451cf206",
   "metadata": {
    "execution": {
     "iopub.execute_input": "2022-06-10T19:24:56.136671Z",
     "iopub.status.busy": "2022-06-10T19:24:56.136307Z",
     "iopub.status.idle": "2022-06-10T19:24:56.140109Z",
     "shell.execute_reply": "2022-06-10T19:24:56.139131Z"
    },
    "papermill": {
     "duration": 7.986675,
     "end_time": "2022-06-10T19:24:56.142018",
     "exception": false,
     "start_time": "2022-06-10T19:24:48.155343",
     "status": "completed"
    },
    "tags": []
   },
   "outputs": [],
   "source": [
    "# test_df.loc[test_df[\"cell_type\"] == \"markdown\", \"pred\"] = y_test"
   ]
  },
  {
   "cell_type": "code",
   "execution_count": 40,
   "id": "b7ceb3e2",
   "metadata": {
    "execution": {
     "iopub.execute_input": "2022-06-10T19:25:13.037615Z",
     "iopub.status.busy": "2022-06-10T19:25:13.037062Z",
     "iopub.status.idle": "2022-06-10T19:25:13.041420Z",
     "shell.execute_reply": "2022-06-10T19:25:13.040661Z"
    },
    "papermill": {
     "duration": 8.735942,
     "end_time": "2022-06-10T19:25:13.045710",
     "exception": false,
     "start_time": "2022-06-10T19:25:04.309768",
     "status": "completed"
    },
    "tags": []
   },
   "outputs": [],
   "source": [
    "# sub_df = test_df.sort_values(\"pred\").groupby(\"id\")[\"cell_id\"].apply(lambda x: \" \".join(x)).reset_index()\n",
    "# sub_df.rename(columns={\"cell_id\": \"cell_order\"}, inplace=True)\n",
    "# sub_df.head()"
   ]
  },
  {
   "cell_type": "code",
   "execution_count": 41,
   "id": "daa3b6c1",
   "metadata": {
    "execution": {
     "iopub.execute_input": "2022-06-10T19:25:29.121191Z",
     "iopub.status.busy": "2022-06-10T19:25:29.120835Z",
     "iopub.status.idle": "2022-06-10T19:25:29.124638Z",
     "shell.execute_reply": "2022-06-10T19:25:29.123772Z"
    },
    "papermill": {
     "duration": 8.163664,
     "end_time": "2022-06-10T19:25:29.126765",
     "exception": false,
     "start_time": "2022-06-10T19:25:20.963101",
     "status": "completed"
    },
    "tags": []
   },
   "outputs": [],
   "source": [
    "# sub_df.to_csv(\"submission.csv\", index=False)"
   ]
  },
  {
   "cell_type": "code",
   "execution_count": null,
   "id": "ad4fd483",
   "metadata": {
    "papermill": {
     "duration": 8.706958,
     "end_time": "2022-06-10T19:25:45.801847",
     "exception": false,
     "start_time": "2022-06-10T19:25:37.094889",
     "status": "completed"
    },
    "tags": []
   },
   "outputs": [],
   "source": []
  }
 ],
 "metadata": {
  "kernelspec": {
   "display_name": "Python 3 (ipykernel)",
   "language": "python",
   "name": "python3"
  },
  "language_info": {
   "codemirror_mode": {
    "name": "ipython",
    "version": 3
   },
   "file_extension": ".py",
   "mimetype": "text/x-python",
   "name": "python",
   "nbconvert_exporter": "python",
   "pygments_lexer": "ipython3",
   "version": "3.8.10"
  },
  "papermill": {
   "default_parameters": {},
   "duration": 28061.458786,
   "end_time": "2022-06-10T19:25:56.494866",
   "environment_variables": {},
   "exception": null,
   "input_path": "__notebook__.ipynb",
   "output_path": "__notebook__.ipynb",
   "parameters": {},
   "start_time": "2022-06-10T11:38:15.036080",
   "version": "2.3.4"
  }
 },
 "nbformat": 4,
 "nbformat_minor": 5
}
