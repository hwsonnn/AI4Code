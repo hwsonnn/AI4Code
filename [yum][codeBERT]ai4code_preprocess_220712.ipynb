{
 "cells": [
  {
   "cell_type": "code",
   "execution_count": 1,
   "id": "9QdEumvIwjK2",
   "metadata": {
    "id": "9QdEumvIwjK2",
    "papermill": {
     "duration": 0.118043,
     "end_time": "2022-05-27T06:54:23.823804",
     "exception": false,
     "start_time": "2022-05-27T06:54:23.705761",
     "status": "completed"
    },
    "tags": []
   },
   "outputs": [],
   "source": [
    "import json\n",
    "from pathlib import Path\n",
    "\n",
    "import numpy as np\n",
    "import pandas as pd\n",
    "from scipy import sparse\n",
    "from tqdm import tqdm\n",
    "import os\n",
    "\n",
    "\n",
    "# data_dir = Path('/home/jovyan/nas/1_user/ghdud1519@agilesoda.ai/ai4code/rawdata')\n",
    "# if not os.path.exists(\"./data\"):\n",
    "#     os.mkdir(\"./data\")\n",
    "\n",
    "data_dir = Path('./input/AI4Code')\n",
    "\n",
    "def read_notebook(path):\n",
    "    return (\n",
    "        pd.read_json(\n",
    "            path,\n",
    "            dtype={'cell_type': 'category', 'source': 'str'})\n",
    "            .assign(id=path.stem)\n",
    "            .rename_axis('cell_id')\n",
    "    )\n"
   ]
  },
  {
   "cell_type": "markdown",
   "id": "gfN7563kwjK8",
   "metadata": {
    "id": "gfN7563kwjK8",
    "papermill": {
     "duration": 0.006003,
     "end_time": "2022-05-27T06:54:23.836408",
     "exception": false,
     "start_time": "2022-05-27T06:54:23.830405",
     "status": "completed"
    },
    "tags": []
   },
   "source": [
    "## Data import & Time\n",
    "- Total \n",
    "    - 1H 5Min\n",
    "- Train: 20,000 / Valid: 10,000\n",
    "    - 5Min"
   ]
  },
  {
   "cell_type": "code",
   "execution_count": 2,
   "id": "dHupAQ6GwjK_",
   "metadata": {
    "id": "dHupAQ6GwjK_",
    "outputId": "f9736f9a-020a-408a-d4c9-bf6088e43afa",
    "papermill": {
     "duration": 1551.434834,
     "end_time": "2022-05-27T07:20:15.277217",
     "exception": false,
     "start_time": "2022-05-27T06:54:23.842383",
     "status": "completed"
    },
    "tags": []
   },
   "outputs": [
    {
     "name": "stdout",
     "output_type": "stream",
     "text": [
      "139256\n"
     ]
    },
    {
     "name": "stderr",
     "output_type": "stream",
     "text": [
      "Train NBs: 100%|███████████████████████| 139256/139256 [07:14<00:00, 320.62it/s]\n"
     ]
    }
   ],
   "source": [
    "paths_train = list((data_dir / 'train').glob('*.json'))\n",
    "# paths_train = paths_train[:30000]\n",
    "print(len(paths_train))\n",
    "\n",
    "notebooks_train = [\n",
    "    read_notebook(path) for path in tqdm(paths_train, desc='Train NBs')\n",
    "]\n",
    "df = (\n",
    "    pd.concat(notebooks_train)\n",
    "        .set_index('id', append=True)\n",
    "        .swaplevel()\n",
    "        .sort_index(level='id', sort_remaining=False)\n",
    ")"
   ]
  },
  {
   "cell_type": "code",
   "execution_count": 3,
   "id": "x6l3uWXWwjLC",
   "metadata": {
    "id": "x6l3uWXWwjLC",
    "outputId": "e5e1c84f-369a-43fd-e837-612630f42a0f"
   },
   "outputs": [
    {
     "name": "stdout",
     "output_type": "stream",
     "text": [
      "139256\n"
     ]
    }
   ],
   "source": [
    "#\n",
    "print(len(paths_train))"
   ]
  },
  {
   "cell_type": "code",
   "execution_count": 5,
   "id": "nE4u90ejwjLD",
   "metadata": {
    "id": "nE4u90ejwjLD",
    "outputId": "0918fbae-5b68-4a97-f0b8-34c523b23c00",
    "papermill": {
     "duration": 1.010771,
     "end_time": "2022-05-27T07:20:17.211596",
     "exception": false,
     "start_time": "2022-05-27T07:20:16.200825",
     "status": "completed"
    },
    "tags": []
   },
   "outputs": [
    {
     "data": {
      "text/html": [
       "<div>\n",
       "<style scoped>\n",
       "    .dataframe tbody tr th:only-of-type {\n",
       "        vertical-align: middle;\n",
       "    }\n",
       "\n",
       "    .dataframe tbody tr th {\n",
       "        vertical-align: top;\n",
       "    }\n",
       "\n",
       "    .dataframe thead th {\n",
       "        text-align: right;\n",
       "    }\n",
       "</style>\n",
       "<table border=\"1\" class=\"dataframe\">\n",
       "  <thead>\n",
       "    <tr style=\"text-align: right;\">\n",
       "      <th></th>\n",
       "      <th></th>\n",
       "      <th>cell_type</th>\n",
       "      <th>source</th>\n",
       "    </tr>\n",
       "    <tr>\n",
       "      <th>id</th>\n",
       "      <th>cell_id</th>\n",
       "      <th></th>\n",
       "      <th></th>\n",
       "    </tr>\n",
       "  </thead>\n",
       "  <tbody>\n",
       "    <tr>\n",
       "      <th rowspan=\"5\" valign=\"top\">00001756c60be8</th>\n",
       "      <th>1862f0a6</th>\n",
       "      <td>code</td>\n",
       "      <td># This Python 3 environment comes with many he...</td>\n",
       "    </tr>\n",
       "    <tr>\n",
       "      <th>2a9e43d6</th>\n",
       "      <td>code</td>\n",
       "      <td>import numpy as np\\nimport pandas as pd\\nimpor...</td>\n",
       "    </tr>\n",
       "    <tr>\n",
       "      <th>038b763d</th>\n",
       "      <td>code</td>\n",
       "      <td>import warnings\\nwarnings.filterwarnings('igno...</td>\n",
       "    </tr>\n",
       "    <tr>\n",
       "      <th>2eefe0ef</th>\n",
       "      <td>code</td>\n",
       "      <td>matplotlib.rcParams.update({'font.size': 14})</td>\n",
       "    </tr>\n",
       "    <tr>\n",
       "      <th>0beab1cd</th>\n",
       "      <td>code</td>\n",
       "      <td>def evaluate_preds(train_true_values, train_pr...</td>\n",
       "    </tr>\n",
       "  </tbody>\n",
       "</table>\n",
       "</div>"
      ],
      "text/plain": [
       "                        cell_type  \\\n",
       "id             cell_id              \n",
       "00001756c60be8 1862f0a6      code   \n",
       "               2a9e43d6      code   \n",
       "               038b763d      code   \n",
       "               2eefe0ef      code   \n",
       "               0beab1cd      code   \n",
       "\n",
       "                                                                    source  \n",
       "id             cell_id                                                      \n",
       "00001756c60be8 1862f0a6  # This Python 3 environment comes with many he...  \n",
       "               2a9e43d6  import numpy as np\\nimport pandas as pd\\nimpor...  \n",
       "               038b763d  import warnings\\nwarnings.filterwarnings('igno...  \n",
       "               2eefe0ef      matplotlib.rcParams.update({'font.size': 14})  \n",
       "               0beab1cd  def evaluate_preds(train_true_values, train_pr...  "
      ]
     },
     "execution_count": 5,
     "metadata": {},
     "output_type": "execute_result"
    }
   ],
   "source": [
    "df.head(5)"
   ]
  },
  {
   "cell_type": "markdown",
   "id": "JBJ8sDZ2wjLE",
   "metadata": {
    "id": "JBJ8sDZ2wjLE"
   },
   "source": [
    "- Train / Valid Data Sample"
   ]
  },
  {
   "cell_type": "code",
   "execution_count": 8,
   "id": "iDZS1j04wjLE",
   "metadata": {
    "id": "iDZS1j04wjLE"
   },
   "outputs": [
    {
     "data": {
      "text/plain": [
       "139256"
      ]
     },
     "execution_count": 8,
     "metadata": {},
     "output_type": "execute_result"
    }
   ],
   "source": [
    "#\n",
    "# notebook id lst\n",
    "# set 처리\n",
    "nb_id_lst = list(set(df.index.get_level_values('id').tolist()))\n",
    "len(nb_id_lst)"
   ]
  },
  {
   "cell_type": "code",
   "execution_count": 9,
   "id": "6d70135b",
   "metadata": {},
   "outputs": [
    {
     "data": {
      "text/plain": [
       "['1ffa22d6813f58',\n",
       " 'a4c69bee78a0db',\n",
       " '1c92c3e5d9a67c',\n",
       " 'a3811c681a66fb',\n",
       " 'ec727961f92e82',\n",
       " 'c3af3a287bb026',\n",
       " '0dd359a7df0c38',\n",
       " '62b72c902b7e24',\n",
       " '763c921d10da8f',\n",
       " '3ade9fc6c07930']"
      ]
     },
     "execution_count": 9,
     "metadata": {},
     "output_type": "execute_result"
    }
   ],
   "source": [
    "nb_id_lst[:10]"
   ]
  },
  {
   "cell_type": "code",
   "execution_count": 11,
   "id": "bYTWUGuIwjLG",
   "metadata": {
    "id": "bYTWUGuIwjLG"
   },
   "outputs": [],
   "source": [
    "#\n",
    "# Data sampling\n",
    "import random\n",
    "\n",
    "random.seed(1234)\n",
    "# random.sample() # 인자가 주어지지 않아 TypeError\n",
    "\n",
    "# random.sample(sequence, k)\n",
    "# sequence에서 지정한 숫자만큼의 요소들을 랜덤으로 뽑아 리스트로 반환"
   ]
  },
  {
   "cell_type": "code",
   "execution_count": 12,
   "id": "ZQ_99t0XwjLH",
   "metadata": {
    "id": "ZQ_99t0XwjLH",
    "papermill": {
     "duration": 4.534892,
     "end_time": "2022-05-27T07:20:22.570024",
     "exception": false,
     "start_time": "2022-05-27T07:20:18.035132",
     "status": "completed"
    },
    "tags": []
   },
   "outputs": [
    {
     "name": "stderr",
     "output_type": "stream",
     "text": [
      "/tmp/ipykernel_96777/1429457819.py:1: FutureWarning: The squeeze argument has been deprecated and will be removed in a future version. Append .squeeze(\"columns\") to the call to squeeze.\n",
      "\n",
      "\n",
      "  df_orders = pd.read_csv(\n"
     ]
    }
   ],
   "source": [
    "df_orders = pd.read_csv(\n",
    "    data_dir / 'train_orders.csv',\n",
    "    index_col='id',\n",
    "    squeeze=True,\n",
    ").str.split()  # Split the string representation of cell_ids into a list"
   ]
  },
  {
   "cell_type": "code",
   "execution_count": 13,
   "id": "cXqFt8vjwjLI",
   "metadata": {
    "id": "cXqFt8vjwjLI",
    "papermill": {
     "duration": 0.667272,
     "end_time": "2022-05-27T07:20:23.978757",
     "exception": false,
     "start_time": "2022-05-27T07:20:23.311485",
     "status": "completed"
    },
    "tags": []
   },
   "outputs": [
    {
     "name": "stdout",
     "output_type": "stream",
     "text": [
      "(139256,)\n"
     ]
    },
    {
     "data": {
      "text/plain": [
       "id\n",
       "00001756c60be8    [1862f0a6, 448eb224, 2a9e43d6, 7e2f170a, 038b7...\n",
       "00015c83e2717b    [2e94bd7a, 3e99dee9, b5e286ea, da4f7550, c4172...\n",
       "0001bdd4021779    [3fdc37be, 073782ca, 8ea7263c, 80543cd8, 38310...\n",
       "0001daf4c2c76d    [97266564, a898e555, 86605076, 76cc2642, ef279...\n",
       "0002115f48f982    [9ec225f0, 18281c6c, e3b6b115, 4a044c54, 365fe...\n",
       "Name: cell_order, dtype: object"
      ]
     },
     "execution_count": 13,
     "metadata": {},
     "output_type": "execute_result"
    }
   ],
   "source": [
    "print(df_orders.shape)\n",
    "df_orders.head(5)"
   ]
  },
  {
   "cell_type": "code",
   "execution_count": 14,
   "id": "fJUY7YSpwjLJ",
   "metadata": {
    "id": "fJUY7YSpwjLJ",
    "papermill": {
     "duration": 9.831533,
     "end_time": "2022-05-27T07:20:34.522783",
     "exception": false,
     "start_time": "2022-05-27T07:20:24.691250",
     "status": "completed"
    },
    "tags": []
   },
   "outputs": [],
   "source": [
    "def get_ranks(base, derived):\n",
    "    return [base.index(d) for d in derived]\n",
    "\n",
    "\n",
    "df_orders_ = df_orders.to_frame().join(\n",
    "    df.reset_index('cell_id').groupby('id')['cell_id'].apply(list),\n",
    "    how='right',\n",
    ")"
   ]
  },
  {
   "cell_type": "code",
   "execution_count": 15,
   "id": "53dc0281",
   "metadata": {},
   "outputs": [
    {
     "data": {
      "text/html": [
       "<div>\n",
       "<style scoped>\n",
       "    .dataframe tbody tr th:only-of-type {\n",
       "        vertical-align: middle;\n",
       "    }\n",
       "\n",
       "    .dataframe tbody tr th {\n",
       "        vertical-align: top;\n",
       "    }\n",
       "\n",
       "    .dataframe thead th {\n",
       "        text-align: right;\n",
       "    }\n",
       "</style>\n",
       "<table border=\"1\" class=\"dataframe\">\n",
       "  <thead>\n",
       "    <tr style=\"text-align: right;\">\n",
       "      <th></th>\n",
       "      <th>cell_order</th>\n",
       "      <th>cell_id</th>\n",
       "    </tr>\n",
       "    <tr>\n",
       "      <th>id</th>\n",
       "      <th></th>\n",
       "      <th></th>\n",
       "    </tr>\n",
       "  </thead>\n",
       "  <tbody>\n",
       "    <tr>\n",
       "      <th>00001756c60be8</th>\n",
       "      <td>[1862f0a6, 448eb224, 2a9e43d6, 7e2f170a, 038b7...</td>\n",
       "      <td>[1862f0a6, 2a9e43d6, 038b763d, 2eefe0ef, 0beab...</td>\n",
       "    </tr>\n",
       "    <tr>\n",
       "      <th>00015c83e2717b</th>\n",
       "      <td>[2e94bd7a, 3e99dee9, b5e286ea, da4f7550, c4172...</td>\n",
       "      <td>[c417225b, 51e3cd89, 2600b4eb, 75b65993, cf195...</td>\n",
       "    </tr>\n",
       "    <tr>\n",
       "      <th>0001bdd4021779</th>\n",
       "      <td>[3fdc37be, 073782ca, 8ea7263c, 80543cd8, 38310...</td>\n",
       "      <td>[3fdc37be, 073782ca, 8ea7263c, 80543cd8, 38310...</td>\n",
       "    </tr>\n",
       "    <tr>\n",
       "      <th>0001daf4c2c76d</th>\n",
       "      <td>[97266564, a898e555, 86605076, 76cc2642, ef279...</td>\n",
       "      <td>[86605076, df6c939f, 00f87d0a, 986fd4f1, 9b761...</td>\n",
       "    </tr>\n",
       "    <tr>\n",
       "      <th>0002115f48f982</th>\n",
       "      <td>[9ec225f0, 18281c6c, e3b6b115, 4a044c54, 365fe...</td>\n",
       "      <td>[18281c6c, e3b6b115, 4a044c54, 365fe576, a3188...</td>\n",
       "    </tr>\n",
       "    <tr>\n",
       "      <th>...</th>\n",
       "      <td>...</td>\n",
       "      <td>...</td>\n",
       "    </tr>\n",
       "    <tr>\n",
       "      <th>fffc30d5a0bc46</th>\n",
       "      <td>[09727c0c, ff1ea6a0, ddfef603, a01ce9b3, 3ba95...</td>\n",
       "      <td>[ff1ea6a0, a01ce9b3, bf92a015, 095812e6, aa32a...</td>\n",
       "    </tr>\n",
       "    <tr>\n",
       "      <th>fffc3b44869198</th>\n",
       "      <td>[978a5137, faa48f03, 28dfb12a, eea2e812, 64fef...</td>\n",
       "      <td>[978a5137, faa48f03, 28dfb12a, eea2e812, 64fef...</td>\n",
       "    </tr>\n",
       "    <tr>\n",
       "      <th>fffc63ff750064</th>\n",
       "      <td>[5015c300, 411b85d9, 8238198c, f4781d1d, b5532...</td>\n",
       "      <td>[5015c300, 8238198c, f4781d1d, b5532930, e1f22...</td>\n",
       "    </tr>\n",
       "    <tr>\n",
       "      <th>fffcd063cda949</th>\n",
       "      <td>[7e6266ad, d8281fc5, d4ffcaef, 3e0e4a47, 21387...</td>\n",
       "      <td>[7e6266ad, d8281fc5, 3e0e4a47, 21387fc8, baed9...</td>\n",
       "    </tr>\n",
       "    <tr>\n",
       "      <th>fffe1d764579d5</th>\n",
       "      <td>[1a63248d, 9c3b96a5, 1398a873, 4e2d4c2d, f71c5...</td>\n",
       "      <td>[9c3b96a5, 1398a873, f71c538e, 8b44a5e8, 385df...</td>\n",
       "    </tr>\n",
       "  </tbody>\n",
       "</table>\n",
       "<p>139256 rows × 2 columns</p>\n",
       "</div>"
      ],
      "text/plain": [
       "                                                       cell_order  \\\n",
       "id                                                                  \n",
       "00001756c60be8  [1862f0a6, 448eb224, 2a9e43d6, 7e2f170a, 038b7...   \n",
       "00015c83e2717b  [2e94bd7a, 3e99dee9, b5e286ea, da4f7550, c4172...   \n",
       "0001bdd4021779  [3fdc37be, 073782ca, 8ea7263c, 80543cd8, 38310...   \n",
       "0001daf4c2c76d  [97266564, a898e555, 86605076, 76cc2642, ef279...   \n",
       "0002115f48f982  [9ec225f0, 18281c6c, e3b6b115, 4a044c54, 365fe...   \n",
       "...                                                           ...   \n",
       "fffc30d5a0bc46  [09727c0c, ff1ea6a0, ddfef603, a01ce9b3, 3ba95...   \n",
       "fffc3b44869198  [978a5137, faa48f03, 28dfb12a, eea2e812, 64fef...   \n",
       "fffc63ff750064  [5015c300, 411b85d9, 8238198c, f4781d1d, b5532...   \n",
       "fffcd063cda949  [7e6266ad, d8281fc5, d4ffcaef, 3e0e4a47, 21387...   \n",
       "fffe1d764579d5  [1a63248d, 9c3b96a5, 1398a873, 4e2d4c2d, f71c5...   \n",
       "\n",
       "                                                          cell_id  \n",
       "id                                                                 \n",
       "00001756c60be8  [1862f0a6, 2a9e43d6, 038b763d, 2eefe0ef, 0beab...  \n",
       "00015c83e2717b  [c417225b, 51e3cd89, 2600b4eb, 75b65993, cf195...  \n",
       "0001bdd4021779  [3fdc37be, 073782ca, 8ea7263c, 80543cd8, 38310...  \n",
       "0001daf4c2c76d  [86605076, df6c939f, 00f87d0a, 986fd4f1, 9b761...  \n",
       "0002115f48f982  [18281c6c, e3b6b115, 4a044c54, 365fe576, a3188...  \n",
       "...                                                           ...  \n",
       "fffc30d5a0bc46  [ff1ea6a0, a01ce9b3, bf92a015, 095812e6, aa32a...  \n",
       "fffc3b44869198  [978a5137, faa48f03, 28dfb12a, eea2e812, 64fef...  \n",
       "fffc63ff750064  [5015c300, 8238198c, f4781d1d, b5532930, e1f22...  \n",
       "fffcd063cda949  [7e6266ad, d8281fc5, 3e0e4a47, 21387fc8, baed9...  \n",
       "fffe1d764579d5  [9c3b96a5, 1398a873, f71c538e, 8b44a5e8, 385df...  \n",
       "\n",
       "[139256 rows x 2 columns]"
      ]
     },
     "execution_count": 15,
     "metadata": {},
     "output_type": "execute_result"
    }
   ],
   "source": [
    "df_orders_"
   ]
  },
  {
   "cell_type": "code",
   "execution_count": 16,
   "id": "Lzh75BQVwjLK",
   "metadata": {
    "id": "Lzh75BQVwjLK",
    "papermill": {
     "duration": 55.651575,
     "end_time": "2022-05-27T07:21:30.886002",
     "exception": false,
     "start_time": "2022-05-27T07:20:35.234427",
     "status": "completed"
    },
    "tags": []
   },
   "outputs": [],
   "source": [
    "ranks = {}\n",
    "for id_, cell_order, cell_id in df_orders_.itertuples():\n",
    "    ranks[id_] = {'cell_id': cell_id, 'rank': get_ranks(cell_order, cell_id)}\n",
    "\n",
    "df_ranks = (\n",
    "    pd.DataFrame\n",
    "        .from_dict(ranks, orient='index')\n",
    "        .rename_axis('id')\n",
    "        .apply(pd.Series.explode)\n",
    "        .set_index('cell_id', append=True)\n",
    ")"
   ]
  },
  {
   "cell_type": "code",
   "execution_count": 17,
   "id": "792aa714",
   "metadata": {},
   "outputs": [
    {
     "data": {
      "text/html": [
       "<div>\n",
       "<style scoped>\n",
       "    .dataframe tbody tr th:only-of-type {\n",
       "        vertical-align: middle;\n",
       "    }\n",
       "\n",
       "    .dataframe tbody tr th {\n",
       "        vertical-align: top;\n",
       "    }\n",
       "\n",
       "    .dataframe thead th {\n",
       "        text-align: right;\n",
       "    }\n",
       "</style>\n",
       "<table border=\"1\" class=\"dataframe\">\n",
       "  <thead>\n",
       "    <tr style=\"text-align: right;\">\n",
       "      <th></th>\n",
       "      <th></th>\n",
       "      <th>rank</th>\n",
       "    </tr>\n",
       "    <tr>\n",
       "      <th>id</th>\n",
       "      <th>cell_id</th>\n",
       "      <th></th>\n",
       "    </tr>\n",
       "  </thead>\n",
       "  <tbody>\n",
       "    <tr>\n",
       "      <th rowspan=\"5\" valign=\"top\">00001756c60be8</th>\n",
       "      <th>1862f0a6</th>\n",
       "      <td>0</td>\n",
       "    </tr>\n",
       "    <tr>\n",
       "      <th>2a9e43d6</th>\n",
       "      <td>2</td>\n",
       "    </tr>\n",
       "    <tr>\n",
       "      <th>038b763d</th>\n",
       "      <td>4</td>\n",
       "    </tr>\n",
       "    <tr>\n",
       "      <th>2eefe0ef</th>\n",
       "      <td>6</td>\n",
       "    </tr>\n",
       "    <tr>\n",
       "      <th>0beab1cd</th>\n",
       "      <td>8</td>\n",
       "    </tr>\n",
       "    <tr>\n",
       "      <th>...</th>\n",
       "      <th>...</th>\n",
       "      <td>...</td>\n",
       "    </tr>\n",
       "    <tr>\n",
       "      <th rowspan=\"5\" valign=\"top\">fffe1d764579d5</th>\n",
       "      <th>0d770d6b</th>\n",
       "      <td>43</td>\n",
       "    </tr>\n",
       "    <tr>\n",
       "      <th>d45ddc62</th>\n",
       "      <td>33</td>\n",
       "    </tr>\n",
       "    <tr>\n",
       "      <th>1a63248d</th>\n",
       "      <td>0</td>\n",
       "    </tr>\n",
       "    <tr>\n",
       "      <th>a8ffc8b4</th>\n",
       "      <td>69</td>\n",
       "    </tr>\n",
       "    <tr>\n",
       "      <th>4e2d4c2d</th>\n",
       "      <td>3</td>\n",
       "    </tr>\n",
       "  </tbody>\n",
       "</table>\n",
       "<p>6370646 rows × 1 columns</p>\n",
       "</div>"
      ],
      "text/plain": [
       "                        rank\n",
       "id             cell_id      \n",
       "00001756c60be8 1862f0a6    0\n",
       "               2a9e43d6    2\n",
       "               038b763d    4\n",
       "               2eefe0ef    6\n",
       "               0beab1cd    8\n",
       "...                      ...\n",
       "fffe1d764579d5 0d770d6b   43\n",
       "               d45ddc62   33\n",
       "               1a63248d    0\n",
       "               a8ffc8b4   69\n",
       "               4e2d4c2d    3\n",
       "\n",
       "[6370646 rows x 1 columns]"
      ]
     },
     "execution_count": 17,
     "metadata": {},
     "output_type": "execute_result"
    }
   ],
   "source": [
    "df_ranks"
   ]
  },
  {
   "cell_type": "code",
   "execution_count": 19,
   "id": "D-efEI_ZwjLL",
   "metadata": {
    "id": "D-efEI_ZwjLL",
    "papermill": {
     "duration": 25.213471,
     "end_time": "2022-05-27T07:21:58.185848",
     "exception": false,
     "start_time": "2022-05-27T07:21:32.972377",
     "status": "completed"
    },
    "tags": []
   },
   "outputs": [],
   "source": [
    "df_ancestors = pd.read_csv(data_dir / 'train_ancestors.csv', index_col='id')\n",
    "df = df.reset_index().merge(df_ranks, on=[\"id\", \"cell_id\"]).merge(df_ancestors, on=[\"id\"])\n",
    "df[\"pct_rank\"] = df[\"rank\"] / df.groupby(\"id\")[\"cell_id\"].transform(\"count\")"
   ]
  },
  {
   "cell_type": "code",
   "execution_count": 20,
   "id": "fabHdNbJwjLM",
   "metadata": {
    "id": "fabHdNbJwjLM",
    "papermill": {
     "duration": 0.670936,
     "end_time": "2022-05-27T07:21:59.566465",
     "exception": false,
     "start_time": "2022-05-27T07:21:58.895529",
     "status": "completed"
    },
    "tags": []
   },
   "outputs": [
    {
     "data": {
      "text/html": [
       "<div>\n",
       "<style scoped>\n",
       "    .dataframe tbody tr th:only-of-type {\n",
       "        vertical-align: middle;\n",
       "    }\n",
       "\n",
       "    .dataframe tbody tr th {\n",
       "        vertical-align: top;\n",
       "    }\n",
       "\n",
       "    .dataframe thead th {\n",
       "        text-align: right;\n",
       "    }\n",
       "</style>\n",
       "<table border=\"1\" class=\"dataframe\">\n",
       "  <thead>\n",
       "    <tr style=\"text-align: right;\">\n",
       "      <th></th>\n",
       "      <th>ancestor_id</th>\n",
       "      <th>parent_id</th>\n",
       "    </tr>\n",
       "    <tr>\n",
       "      <th>id</th>\n",
       "      <th></th>\n",
       "      <th></th>\n",
       "    </tr>\n",
       "  </thead>\n",
       "  <tbody>\n",
       "    <tr>\n",
       "      <th>fffc30d5a0bc46</th>\n",
       "      <td>6aed207b</td>\n",
       "      <td>NaN</td>\n",
       "    </tr>\n",
       "    <tr>\n",
       "      <th>fffc3b44869198</th>\n",
       "      <td>a6aaa8d7</td>\n",
       "      <td>NaN</td>\n",
       "    </tr>\n",
       "    <tr>\n",
       "      <th>fffc63ff750064</th>\n",
       "      <td>0a1b5b65</td>\n",
       "      <td>NaN</td>\n",
       "    </tr>\n",
       "    <tr>\n",
       "      <th>fffcd063cda949</th>\n",
       "      <td>d971e960</td>\n",
       "      <td>NaN</td>\n",
       "    </tr>\n",
       "    <tr>\n",
       "      <th>fffe1d764579d5</th>\n",
       "      <td>3c40bfa6</td>\n",
       "      <td>NaN</td>\n",
       "    </tr>\n",
       "  </tbody>\n",
       "</table>\n",
       "</div>"
      ],
      "text/plain": [
       "               ancestor_id parent_id\n",
       "id                                  \n",
       "fffc30d5a0bc46    6aed207b       NaN\n",
       "fffc3b44869198    a6aaa8d7       NaN\n",
       "fffc63ff750064    0a1b5b65       NaN\n",
       "fffcd063cda949    d971e960       NaN\n",
       "fffe1d764579d5    3c40bfa6       NaN"
      ]
     },
     "execution_count": 20,
     "metadata": {},
     "output_type": "execute_result"
    }
   ],
   "source": [
    "df_ancestors.tail(5)"
   ]
  },
  {
   "cell_type": "code",
   "execution_count": 21,
   "id": "_IFqIXg2wjLM",
   "metadata": {
    "id": "_IFqIXg2wjLM",
    "papermill": {
     "duration": 0.662017,
     "end_time": "2022-05-27T07:22:00.941738",
     "exception": false,
     "start_time": "2022-05-27T07:22:00.279721",
     "status": "completed"
    },
    "tags": []
   },
   "outputs": [
    {
     "data": {
      "text/html": [
       "<div>\n",
       "<style scoped>\n",
       "    .dataframe tbody tr th:only-of-type {\n",
       "        vertical-align: middle;\n",
       "    }\n",
       "\n",
       "    .dataframe tbody tr th {\n",
       "        vertical-align: top;\n",
       "    }\n",
       "\n",
       "    .dataframe thead th {\n",
       "        text-align: right;\n",
       "    }\n",
       "</style>\n",
       "<table border=\"1\" class=\"dataframe\">\n",
       "  <thead>\n",
       "    <tr style=\"text-align: right;\">\n",
       "      <th></th>\n",
       "      <th>id</th>\n",
       "      <th>cell_id</th>\n",
       "      <th>cell_type</th>\n",
       "      <th>source</th>\n",
       "      <th>rank</th>\n",
       "      <th>ancestor_id</th>\n",
       "      <th>parent_id</th>\n",
       "      <th>pct_rank</th>\n",
       "    </tr>\n",
       "  </thead>\n",
       "  <tbody>\n",
       "    <tr>\n",
       "      <th>6370641</th>\n",
       "      <td>fffe1d764579d5</td>\n",
       "      <td>0d770d6b</td>\n",
       "      <td>markdown</td>\n",
       "      <td>## REMOVING THE OUTLIERS</td>\n",
       "      <td>43</td>\n",
       "      <td>3c40bfa6</td>\n",
       "      <td>NaN</td>\n",
       "      <td>0.597222</td>\n",
       "    </tr>\n",
       "    <tr>\n",
       "      <th>6370642</th>\n",
       "      <td>fffe1d764579d5</td>\n",
       "      <td>d45ddc62</td>\n",
       "      <td>markdown</td>\n",
       "      <td>### DIMENSIONALITY CURSE</td>\n",
       "      <td>33</td>\n",
       "      <td>3c40bfa6</td>\n",
       "      <td>NaN</td>\n",
       "      <td>0.458333</td>\n",
       "    </tr>\n",
       "    <tr>\n",
       "      <th>6370643</th>\n",
       "      <td>fffe1d764579d5</td>\n",
       "      <td>1a63248d</td>\n",
       "      <td>markdown</td>\n",
       "      <td># BANGALORE HOUSE PRICE PREDICTION</td>\n",
       "      <td>0</td>\n",
       "      <td>3c40bfa6</td>\n",
       "      <td>NaN</td>\n",
       "      <td>0.0</td>\n",
       "    </tr>\n",
       "    <tr>\n",
       "      <th>6370644</th>\n",
       "      <td>fffe1d764579d5</td>\n",
       "      <td>a8ffc8b4</td>\n",
       "      <td>markdown</td>\n",
       "      <td>* We have achieved 75.2% accuracy in predictin...</td>\n",
       "      <td>69</td>\n",
       "      <td>3c40bfa6</td>\n",
       "      <td>NaN</td>\n",
       "      <td>0.958333</td>\n",
       "    </tr>\n",
       "    <tr>\n",
       "      <th>6370645</th>\n",
       "      <td>fffe1d764579d5</td>\n",
       "      <td>4e2d4c2d</td>\n",
       "      <td>markdown</td>\n",
       "      <td>## DATA INGESTION</td>\n",
       "      <td>3</td>\n",
       "      <td>3c40bfa6</td>\n",
       "      <td>NaN</td>\n",
       "      <td>0.041667</td>\n",
       "    </tr>\n",
       "  </tbody>\n",
       "</table>\n",
       "</div>"
      ],
      "text/plain": [
       "                     id   cell_id cell_type  \\\n",
       "6370641  fffe1d764579d5  0d770d6b  markdown   \n",
       "6370642  fffe1d764579d5  d45ddc62  markdown   \n",
       "6370643  fffe1d764579d5  1a63248d  markdown   \n",
       "6370644  fffe1d764579d5  a8ffc8b4  markdown   \n",
       "6370645  fffe1d764579d5  4e2d4c2d  markdown   \n",
       "\n",
       "                                                    source rank ancestor_id  \\\n",
       "6370641                           ## REMOVING THE OUTLIERS   43    3c40bfa6   \n",
       "6370642                          ### DIMENSIONALITY CURSE    33    3c40bfa6   \n",
       "6370643                # BANGALORE HOUSE PRICE PREDICTION     0    3c40bfa6   \n",
       "6370644  * We have achieved 75.2% accuracy in predictin...   69    3c40bfa6   \n",
       "6370645                                 ## DATA INGESTION     3    3c40bfa6   \n",
       "\n",
       "        parent_id  pct_rank  \n",
       "6370641       NaN  0.597222  \n",
       "6370642       NaN  0.458333  \n",
       "6370643       NaN       0.0  \n",
       "6370644       NaN  0.958333  \n",
       "6370645       NaN  0.041667  "
      ]
     },
     "execution_count": 21,
     "metadata": {},
     "output_type": "execute_result"
    }
   ],
   "source": [
    "df.tail(5)"
   ]
  },
  {
   "cell_type": "markdown",
   "id": "S7Udj7qOwjLN",
   "metadata": {
    "id": "S7Udj7qOwjLN",
    "papermill": {
     "duration": 0.646789,
     "end_time": "2022-05-27T07:22:02.300609",
     "exception": false,
     "start_time": "2022-05-27T07:22:01.653820",
     "status": "completed"
    },
    "tags": []
   },
   "source": [
    "## GroupShuffle\n",
    "### Ref : https://davinci-ai.tistory.com/18"
   ]
  },
  {
   "cell_type": "code",
   "execution_count": 22,
   "id": "6CbnfisKwjLO",
   "metadata": {
    "id": "6CbnfisKwjLO",
    "papermill": {
     "duration": 15.529068,
     "end_time": "2022-05-27T07:22:18.540892",
     "exception": false,
     "start_time": "2022-05-27T07:22:03.011824",
     "status": "completed"
    },
    "tags": []
   },
   "outputs": [],
   "source": [
    "from sklearn.model_selection import GroupShuffleSplit\n",
    "\n",
    "NVALID = 0.001  # size of validation set\n",
    "\n",
    "splitter = GroupShuffleSplit(n_splits=1, test_size=NVALID, random_state=4321)\n",
    "train_ind, val_ind = next(splitter.split(df, groups=df[\"ancestor_id\"]))\n",
    "\n",
    "train_df = df.loc[train_ind].reset_index(drop=True)\n",
    "val_df = df.loc[val_ind].reset_index(drop=True)"
   ]
  },
  {
   "cell_type": "code",
   "execution_count": 23,
   "id": "E4t7uqwVwjLO",
   "metadata": {
    "execution": {
     "iopub.execute_input": "2022-05-27T07:22:19.899039Z",
     "iopub.status.busy": "2022-05-27T07:22:19.898360Z",
     "iopub.status.idle": "2022-05-27T07:22:19.903357Z",
     "shell.execute_reply": "2022-05-27T07:22:19.902219Z"
    },
    "id": "E4t7uqwVwjLO",
    "outputId": "4cbccf23-b1da-4249-b42a-5c469c12d3fc",
    "papermill": {
     "duration": 0.654885,
     "end_time": "2022-05-27T07:22:19.905043",
     "exception": false,
     "start_time": "2022-05-27T07:22:19.250158",
     "status": "completed"
    },
    "tags": []
   },
   "outputs": [],
   "source": [
    "# print(train_df.shape, val_df.shape)"
   ]
  },
  {
   "cell_type": "code",
   "execution_count": 24,
   "id": "bX_G1MFawjLP",
   "metadata": {
    "id": "bX_G1MFawjLP"
   },
   "outputs": [
    {
     "name": "stdout",
     "output_type": "stream",
     "text": [
      "(6364812, 8) (5834, 8)\n"
     ]
    }
   ],
   "source": [
    "print(train_df.shape, val_df.shape)"
   ]
  },
  {
   "cell_type": "code",
   "execution_count": 25,
   "id": "0XH9KqZawjLQ",
   "metadata": {
    "id": "0XH9KqZawjLQ",
    "papermill": {
     "duration": 0.71305,
     "end_time": "2022-05-27T07:22:21.260141",
     "exception": false,
     "start_time": "2022-05-27T07:22:20.547091",
     "status": "completed"
    },
    "tags": []
   },
   "outputs": [
    {
     "name": "stdout",
     "output_type": "stream",
     "text": [
      "[0 1 2 3 4 5 6 7 8 9]\n"
     ]
    }
   ],
   "source": [
    "print(train_ind[0:10])"
   ]
  },
  {
   "cell_type": "code",
   "execution_count": 26,
   "id": "sOaaCpfRwjLQ",
   "metadata": {
    "id": "sOaaCpfRwjLQ"
   },
   "outputs": [],
   "source": [
    "# save_path = '/home/jovyan/nas/1_user/ghdud1519@agilesoda.ai/ai4code/ai4code-preprocess-999/'\n",
    "save_path = './ai4code-preprocess-999/'\n"
   ]
  },
  {
   "cell_type": "code",
   "execution_count": 27,
   "id": "-DW5njbIwjLQ",
   "metadata": {
    "id": "-DW5njbIwjLQ",
    "papermill": {
     "duration": 86.64959,
     "end_time": "2022-05-27T07:23:48.620640",
     "exception": false,
     "start_time": "2022-05-27T07:22:21.971050",
     "status": "completed"
    },
    "tags": []
   },
   "outputs": [],
   "source": [
    "# Base markdown dataframes\n",
    "train_df_mark = train_df[train_df[\"cell_type\"] == \"markdown\"].reset_index(drop=True)\n",
    "val_df_mark = val_df[val_df[\"cell_type\"] == \"markdown\"].reset_index(drop=True)\n",
    "\n",
    "train_df_mark.to_csv(save_path + \"train_mark.csv\", index=False)\n",
    "val_df_mark.to_csv(save_path + \"val_mark.csv\", index=False)\n",
    "val_df.to_csv(save_path + \"val.csv\", index=False)\n",
    "train_df.to_csv(save_path + \"train.csv\", index=False)"
   ]
  },
  {
   "cell_type": "code",
   "execution_count": 28,
   "id": "akvn-gkdwjLR",
   "metadata": {
    "id": "akvn-gkdwjLR",
    "papermill": {
     "duration": 0.681825,
     "end_time": "2022-05-27T07:23:50.017022",
     "exception": false,
     "start_time": "2022-05-27T07:23:49.335197",
     "status": "completed"
    },
    "tags": []
   },
   "outputs": [
    {
     "data": {
      "text/html": [
       "<div>\n",
       "<style scoped>\n",
       "    .dataframe tbody tr th:only-of-type {\n",
       "        vertical-align: middle;\n",
       "    }\n",
       "\n",
       "    .dataframe tbody tr th {\n",
       "        vertical-align: top;\n",
       "    }\n",
       "\n",
       "    .dataframe thead th {\n",
       "        text-align: right;\n",
       "    }\n",
       "</style>\n",
       "<table border=\"1\" class=\"dataframe\">\n",
       "  <thead>\n",
       "    <tr style=\"text-align: right;\">\n",
       "      <th></th>\n",
       "      <th>id</th>\n",
       "      <th>cell_id</th>\n",
       "      <th>cell_type</th>\n",
       "      <th>source</th>\n",
       "      <th>rank</th>\n",
       "      <th>ancestor_id</th>\n",
       "      <th>parent_id</th>\n",
       "      <th>pct_rank</th>\n",
       "    </tr>\n",
       "  </thead>\n",
       "  <tbody>\n",
       "    <tr>\n",
       "      <th>2164085</th>\n",
       "      <td>fffe1d764579d5</td>\n",
       "      <td>a8ffc8b4</td>\n",
       "      <td>markdown</td>\n",
       "      <td>* We have achieved 75.2% accuracy in predictin...</td>\n",
       "      <td>69</td>\n",
       "      <td>3c40bfa6</td>\n",
       "      <td>NaN</td>\n",
       "      <td>0.958333</td>\n",
       "    </tr>\n",
       "    <tr>\n",
       "      <th>2164086</th>\n",
       "      <td>fffe1d764579d5</td>\n",
       "      <td>4e2d4c2d</td>\n",
       "      <td>markdown</td>\n",
       "      <td>## DATA INGESTION</td>\n",
       "      <td>3</td>\n",
       "      <td>3c40bfa6</td>\n",
       "      <td>NaN</td>\n",
       "      <td>0.041667</td>\n",
       "    </tr>\n",
       "  </tbody>\n",
       "</table>\n",
       "</div>"
      ],
      "text/plain": [
       "                     id   cell_id cell_type  \\\n",
       "2164085  fffe1d764579d5  a8ffc8b4  markdown   \n",
       "2164086  fffe1d764579d5  4e2d4c2d  markdown   \n",
       "\n",
       "                                                    source rank ancestor_id  \\\n",
       "2164085  * We have achieved 75.2% accuracy in predictin...   69    3c40bfa6   \n",
       "2164086                                 ## DATA INGESTION     3    3c40bfa6   \n",
       "\n",
       "        parent_id  pct_rank  \n",
       "2164085       NaN  0.958333  \n",
       "2164086       NaN  0.041667  "
      ]
     },
     "execution_count": 28,
     "metadata": {},
     "output_type": "execute_result"
    }
   ],
   "source": [
    "train_df_mark.tail(2)"
   ]
  },
  {
   "cell_type": "code",
   "execution_count": 29,
   "id": "AFHfBd4CwjLR",
   "metadata": {
    "id": "AFHfBd4CwjLR",
    "papermill": {
     "duration": 0.657278,
     "end_time": "2022-05-27T07:23:51.384636",
     "exception": false,
     "start_time": "2022-05-27T07:23:50.727358",
     "status": "completed"
    },
    "tags": []
   },
   "outputs": [
    {
     "data": {
      "text/html": [
       "<div>\n",
       "<style scoped>\n",
       "    .dataframe tbody tr th:only-of-type {\n",
       "        vertical-align: middle;\n",
       "    }\n",
       "\n",
       "    .dataframe tbody tr th {\n",
       "        vertical-align: top;\n",
       "    }\n",
       "\n",
       "    .dataframe thead th {\n",
       "        text-align: right;\n",
       "    }\n",
       "</style>\n",
       "<table border=\"1\" class=\"dataframe\">\n",
       "  <thead>\n",
       "    <tr style=\"text-align: right;\">\n",
       "      <th></th>\n",
       "      <th>id</th>\n",
       "      <th>cell_id</th>\n",
       "      <th>cell_type</th>\n",
       "      <th>source</th>\n",
       "      <th>rank</th>\n",
       "      <th>ancestor_id</th>\n",
       "      <th>parent_id</th>\n",
       "      <th>pct_rank</th>\n",
       "    </tr>\n",
       "  </thead>\n",
       "  <tbody>\n",
       "    <tr>\n",
       "      <th>5832</th>\n",
       "      <td>ff4e1afc534c6f</td>\n",
       "      <td>70ee3cd3</td>\n",
       "      <td>markdown</td>\n",
       "      <td># **XGBOOST**</td>\n",
       "      <td>79</td>\n",
       "      <td>a7923311</td>\n",
       "      <td>NaN</td>\n",
       "      <td>0.908046</td>\n",
       "    </tr>\n",
       "    <tr>\n",
       "      <th>5833</th>\n",
       "      <td>ff4e1afc534c6f</td>\n",
       "      <td>e5018708</td>\n",
       "      <td>markdown</td>\n",
       "      <td># **Introduction**</td>\n",
       "      <td>0</td>\n",
       "      <td>a7923311</td>\n",
       "      <td>NaN</td>\n",
       "      <td>0.0</td>\n",
       "    </tr>\n",
       "  </tbody>\n",
       "</table>\n",
       "</div>"
      ],
      "text/plain": [
       "                  id   cell_id cell_type              source rank ancestor_id  \\\n",
       "5832  ff4e1afc534c6f  70ee3cd3  markdown       # **XGBOOST**   79    a7923311   \n",
       "5833  ff4e1afc534c6f  e5018708  markdown  # **Introduction**    0    a7923311   \n",
       "\n",
       "     parent_id  pct_rank  \n",
       "5832       NaN  0.908046  \n",
       "5833       NaN       0.0  "
      ]
     },
     "execution_count": 29,
     "metadata": {},
     "output_type": "execute_result"
    }
   ],
   "source": [
    "val_df.tail(2)"
   ]
  },
  {
   "cell_type": "code",
   "execution_count": 30,
   "id": "wt6X26gBwjLS",
   "metadata": {
    "id": "wt6X26gBwjLS",
    "papermill": {
     "duration": 0.734825,
     "end_time": "2022-05-27T07:23:52.824387",
     "exception": false,
     "start_time": "2022-05-27T07:23:52.089562",
     "status": "completed"
    },
    "tags": []
   },
   "outputs": [
    {
     "data": {
      "text/html": [
       "<div>\n",
       "<style scoped>\n",
       "    .dataframe tbody tr th:only-of-type {\n",
       "        vertical-align: middle;\n",
       "    }\n",
       "\n",
       "    .dataframe tbody tr th {\n",
       "        vertical-align: top;\n",
       "    }\n",
       "\n",
       "    .dataframe thead th {\n",
       "        text-align: right;\n",
       "    }\n",
       "</style>\n",
       "<table border=\"1\" class=\"dataframe\">\n",
       "  <thead>\n",
       "    <tr style=\"text-align: right;\">\n",
       "      <th></th>\n",
       "      <th>id</th>\n",
       "      <th>cell_id</th>\n",
       "      <th>cell_type</th>\n",
       "      <th>source</th>\n",
       "      <th>rank</th>\n",
       "      <th>ancestor_id</th>\n",
       "      <th>parent_id</th>\n",
       "      <th>pct_rank</th>\n",
       "    </tr>\n",
       "  </thead>\n",
       "  <tbody>\n",
       "    <tr>\n",
       "      <th>1975</th>\n",
       "      <td>ff4e1afc534c6f</td>\n",
       "      <td>70ee3cd3</td>\n",
       "      <td>markdown</td>\n",
       "      <td># **XGBOOST**</td>\n",
       "      <td>79</td>\n",
       "      <td>a7923311</td>\n",
       "      <td>NaN</td>\n",
       "      <td>0.908046</td>\n",
       "    </tr>\n",
       "    <tr>\n",
       "      <th>1976</th>\n",
       "      <td>ff4e1afc534c6f</td>\n",
       "      <td>e5018708</td>\n",
       "      <td>markdown</td>\n",
       "      <td># **Introduction**</td>\n",
       "      <td>0</td>\n",
       "      <td>a7923311</td>\n",
       "      <td>NaN</td>\n",
       "      <td>0.0</td>\n",
       "    </tr>\n",
       "  </tbody>\n",
       "</table>\n",
       "</div>"
      ],
      "text/plain": [
       "                  id   cell_id cell_type              source rank ancestor_id  \\\n",
       "1975  ff4e1afc534c6f  70ee3cd3  markdown       # **XGBOOST**   79    a7923311   \n",
       "1976  ff4e1afc534c6f  e5018708  markdown  # **Introduction**    0    a7923311   \n",
       "\n",
       "     parent_id  pct_rank  \n",
       "1975       NaN  0.908046  \n",
       "1976       NaN       0.0  "
      ]
     },
     "execution_count": 30,
     "metadata": {},
     "output_type": "execute_result"
    }
   ],
   "source": [
    "val_df_mark.tail(2)"
   ]
  },
  {
   "cell_type": "code",
   "execution_count": 31,
   "id": "JjE45cFwwjLS",
   "metadata": {
    "id": "JjE45cFwwjLS",
    "papermill": {
     "duration": 0.969938,
     "end_time": "2022-05-27T07:23:54.510558",
     "exception": false,
     "start_time": "2022-05-27T07:23:53.540620",
     "status": "completed"
    },
    "tags": []
   },
   "outputs": [
    {
     "data": {
      "text/html": [
       "<div>\n",
       "<style scoped>\n",
       "    .dataframe tbody tr th:only-of-type {\n",
       "        vertical-align: middle;\n",
       "    }\n",
       "\n",
       "    .dataframe tbody tr th {\n",
       "        vertical-align: top;\n",
       "    }\n",
       "\n",
       "    .dataframe thead th {\n",
       "        text-align: right;\n",
       "    }\n",
       "</style>\n",
       "<table border=\"1\" class=\"dataframe\">\n",
       "  <thead>\n",
       "    <tr style=\"text-align: right;\">\n",
       "      <th></th>\n",
       "      <th>id</th>\n",
       "      <th>cell_id</th>\n",
       "      <th>cell_type</th>\n",
       "      <th>source</th>\n",
       "      <th>rank</th>\n",
       "      <th>ancestor_id</th>\n",
       "      <th>parent_id</th>\n",
       "      <th>pct_rank</th>\n",
       "    </tr>\n",
       "  </thead>\n",
       "  <tbody>\n",
       "    <tr>\n",
       "      <th>5805</th>\n",
       "      <td>ff4e1afc534c6f</td>\n",
       "      <td>47a7075f</td>\n",
       "      <td>code</td>\n",
       "      <td>\\n#submission = pd.read_csv('submission1.csv')...</td>\n",
       "      <td>83</td>\n",
       "      <td>a7923311</td>\n",
       "      <td>NaN</td>\n",
       "      <td>0.954023</td>\n",
       "    </tr>\n",
       "    <tr>\n",
       "      <th>5806</th>\n",
       "      <td>ff4e1afc534c6f</td>\n",
       "      <td>f6664471</td>\n",
       "      <td>code</td>\n",
       "      <td>clf = DecisionTreeClassifier()\\nscoring = 'acc...</td>\n",
       "      <td>85</td>\n",
       "      <td>a7923311</td>\n",
       "      <td>NaN</td>\n",
       "      <td>0.977011</td>\n",
       "    </tr>\n",
       "  </tbody>\n",
       "</table>\n",
       "</div>"
      ],
      "text/plain": [
       "                  id   cell_id cell_type  \\\n",
       "5805  ff4e1afc534c6f  47a7075f      code   \n",
       "5806  ff4e1afc534c6f  f6664471      code   \n",
       "\n",
       "                                                 source rank ancestor_id  \\\n",
       "5805  \\n#submission = pd.read_csv('submission1.csv')...   83    a7923311   \n",
       "5806  clf = DecisionTreeClassifier()\\nscoring = 'acc...   85    a7923311   \n",
       "\n",
       "     parent_id  pct_rank  \n",
       "5805       NaN  0.954023  \n",
       "5806       NaN  0.977011  "
      ]
     },
     "execution_count": 31,
     "metadata": {},
     "output_type": "execute_result"
    }
   ],
   "source": [
    "val_df[val_df[\"cell_type\"] != \"markdown\"].tail(2)"
   ]
  },
  {
   "cell_type": "markdown",
   "id": "PEizCx5GwjLS",
   "metadata": {
    "id": "PEizCx5GwjLS",
    "papermill": {
     "duration": 0.731331,
     "end_time": "2022-05-27T07:23:56.865460",
     "exception": false,
     "start_time": "2022-05-27T07:23:56.134129",
     "status": "completed"
    },
    "tags": []
   },
   "source": [
    "## Additional Code cells\n"
   ]
  },
  {
   "cell_type": "code",
   "execution_count": 32,
   "id": "OsMn6r3ywjLT",
   "metadata": {
    "id": "OsMn6r3ywjLT",
    "papermill": {
     "duration": 0.661185,
     "end_time": "2022-05-27T07:23:58.235441",
     "exception": false,
     "start_time": "2022-05-27T07:23:57.574256",
     "status": "completed"
    },
    "tags": []
   },
   "outputs": [],
   "source": [
    "# Additional code cells\n",
    "def clean_code(cell):\n",
    "    return str(cell).replace(\"\\\\n\", \"\\n\")\n",
    "\n",
    "\n",
    "def sample_cells(cells, n):\n",
    "    cells = [clean_code(cell) for cell in cells]\n",
    "    if n >= len(cells):\n",
    "        return [cell[:200] for cell in cells]\n",
    "    else:\n",
    "        results = []\n",
    "        step = len(cells) / n\n",
    "        idx = 0\n",
    "        while int(np.round(idx)) < len(cells):\n",
    "            results.append(cells[int(np.round(idx))])\n",
    "            idx += step\n",
    "        assert cells[0] in results\n",
    "        if cells[-1] not in results:\n",
    "            results[-1] = cells[-1]\n",
    "        return results\n",
    "\n",
    "\n",
    "def get_features(df):\n",
    "    features = dict()\n",
    "    df = df.sort_values(\"rank\").reset_index(drop=True)\n",
    "    for idx, sub_df in tqdm(df.groupby(\"id\")):\n",
    "        features[idx] = dict()\n",
    "        total_md = sub_df[sub_df.cell_type == \"markdown\"].shape[0]\n",
    "        code_sub_df = sub_df[sub_df.cell_type == \"code\"]\n",
    "        total_code = code_sub_df.shape[0]\n",
    "        codes = sample_cells(code_sub_df.source.values, 20)\n",
    "        features[idx][\"total_code\"] = total_code\n",
    "        features[idx][\"total_md\"] = total_md\n",
    "        features[idx][\"codes\"] = codes\n",
    "    return features"
   ]
  },
  {
   "cell_type": "code",
   "execution_count": 33,
   "id": "Geo8lgyowjLT",
   "metadata": {
    "id": "Geo8lgyowjLT",
    "papermill": {
     "duration": 175.457726,
     "end_time": "2022-05-27T07:26:54.402478",
     "exception": false,
     "start_time": "2022-05-27T07:23:58.944752",
     "status": "completed"
    },
    "tags": []
   },
   "outputs": [
    {
     "name": "stderr",
     "output_type": "stream",
     "text": [
      "100%|███████████████████████████████████████| 144/144 [00:00<00:00, 1597.40it/s]\n",
      "100%|█████████████████████████████████| 139112/139112 [01:33<00:00, 1487.17it/s]\n"
     ]
    }
   ],
   "source": [
    "val_fts = get_features(val_df)\n",
    "json.dump(val_fts, open(save_path + \"val_fts.json\",\"wt\"))\n",
    "train_fts = get_features(train_df)\n",
    "json.dump(train_fts, open(save_path + \"train_fts.json\",\"wt\"))"
   ]
  },
  {
   "cell_type": "code",
   "execution_count": 35,
   "id": "upNYVy-qwjLU",
   "metadata": {
    "id": "upNYVy-qwjLU",
    "outputId": "326d3f94-97fa-4a67-bc74-84be961dde75"
   },
   "outputs": [
    {
     "data": {
      "text/plain": [
       "'shops.shape'"
      ]
     },
     "execution_count": 35,
     "metadata": {},
     "output_type": "execute_result"
    }
   ],
   "source": [
    "val_df.iloc[10]['source']"
   ]
  },
  {
   "cell_type": "code",
   "execution_count": 36,
   "id": "0UftLV8kwjLU",
   "metadata": {
    "id": "0UftLV8kwjLU",
    "outputId": "1ed46b7f-2920-44d7-9742-1be32734eb60"
   },
   "outputs": [
    {
     "data": {
      "text/plain": [
       "5834"
      ]
     },
     "execution_count": 36,
     "metadata": {},
     "output_type": "execute_result"
    }
   ],
   "source": [
    "len(val_df['source'].str.contains('\\#'))"
   ]
  },
  {
   "cell_type": "code",
   "execution_count": 37,
   "id": "rlOENJVewjLV",
   "metadata": {
    "id": "rlOENJVewjLV",
    "outputId": "15355f17-2dfa-41e6-94a3-68aac91361cf"
   },
   "outputs": [
    {
     "data": {
      "text/plain": [
       "0       # This Python 3 environment comes with many he...\n",
       "1       import numpy as np\\nimport matplotlib.pyplot a...\n",
       "2       train=pd.read_csv(\"../input/competitive-data-s...\n",
       "3                                             train.shape\n",
       "4                                            train.head()\n",
       "                              ...                        \n",
       "5829                                    # **Naive Beyes**\n",
       "5830                                         # **Gender**\n",
       "5831                                            # **Age**\n",
       "5832                                        # **XGBOOST**\n",
       "5833                                   # **Introduction**\n",
       "Name: source, Length: 5834, dtype: object"
      ]
     },
     "execution_count": 37,
     "metadata": {},
     "output_type": "execute_result"
    }
   ],
   "source": [
    "val_df['source']"
   ]
  },
  {
   "cell_type": "code",
   "execution_count": 38,
   "id": "fHZ9JWljwjLV",
   "metadata": {
    "id": "fHZ9JWljwjLV",
    "outputId": "7efb6130-817f-47c5-f9f3-105bd9746d30"
   },
   "outputs": [
    {
     "data": {
      "text/plain": [
       "1.0"
      ]
     },
     "execution_count": 38,
     "metadata": {},
     "output_type": "execute_result"
    }
   ],
   "source": [
    "# 주석이 안들어간 셀은 없는 듯\n",
    "len(val_df['source'].str.contains('#'))/len(val_df)"
   ]
  },
  {
   "cell_type": "code",
   "execution_count": 39,
   "id": "qNWQiRHfwjLW",
   "metadata": {
    "id": "qNWQiRHfwjLW"
   },
   "outputs": [],
   "source": [
    "from collections import deque\n",
    "\n",
    "def preprocess_script(script):\n",
    "    new_script = deque()\n",
    "    with open(script,'r',encoding='utf-8') as file:\n",
    "        lines = file.readlines()\n",
    "        for line in lines:\n",
    "            if line.lstrip().startswith('#'): # 주석으로 시작되는 행 skip\n",
    "                continue\n",
    "            line = line.rstrip()\n",
    "            if '#' in line:\n",
    "                line = line[:line.index('#')] # 주석 전까지 코드만 저장\n",
    "            line = line.replace('\\n','') # 개행 문자를 모두 삭제함\n",
    "            line = line.replace('    ','\\t') # 공백 4칸을 tab으로 변환\n",
    "            \n",
    "            if line == '': # 전처리 후 빈 라인은 skip\n",
    "                continue\n",
    "            \n",
    "            new_script.append(line)\n",
    "            \n",
    "        new_script = '\\n'.join(new_script) # 개행 문자로 합침\n",
    "        new_script = re.sub('(\"\"\"[\\w\\W]*?\"\"\")', '<str>', new_script)\n",
    "        new_script = re.sub(\"('''[\\w\\W]*?''')\", '<str>', new_script)\n",
    "        new_script = re.sub('/^(http?|https?):\\/\\/([a-z0-9-]+\\.)+[a-z0-9]{2,4}.*$/', '', new_script)\n",
    "    \n",
    "    return new_script"
   ]
  },
  {
   "cell_type": "code",
   "execution_count": 40,
   "id": "D2KXj5ddwjLX",
   "metadata": {
    "id": "D2KXj5ddwjLX",
    "outputId": "c80beadc-5b14-4c8f-a856-2b89735ec4bc"
   },
   "outputs": [
    {
     "data": {
      "text/plain": [
       "'shops.shape'"
      ]
     },
     "execution_count": 40,
     "metadata": {},
     "output_type": "execute_result"
    }
   ],
   "source": [
    "val_df.iloc[10]['source']"
   ]
  },
  {
   "cell_type": "code",
   "execution_count": 44,
   "id": "ee84638b",
   "metadata": {},
   "outputs": [
    {
     "data": {
      "text/html": [
       "<div>\n",
       "<style scoped>\n",
       "    .dataframe tbody tr th:only-of-type {\n",
       "        vertical-align: middle;\n",
       "    }\n",
       "\n",
       "    .dataframe tbody tr th {\n",
       "        vertical-align: top;\n",
       "    }\n",
       "\n",
       "    .dataframe thead th {\n",
       "        text-align: right;\n",
       "    }\n",
       "</style>\n",
       "<table border=\"1\" class=\"dataframe\">\n",
       "  <thead>\n",
       "    <tr style=\"text-align: right;\">\n",
       "      <th></th>\n",
       "      <th>id</th>\n",
       "      <th>cell_id</th>\n",
       "      <th>cell_type</th>\n",
       "      <th>source</th>\n",
       "      <th>rank</th>\n",
       "      <th>ancestor_id</th>\n",
       "      <th>parent_id</th>\n",
       "      <th>pct_rank</th>\n",
       "    </tr>\n",
       "  </thead>\n",
       "  <tbody>\n",
       "    <tr>\n",
       "      <th>0</th>\n",
       "      <td>0b140e51df41a2</td>\n",
       "      <td>2c853a43</td>\n",
       "      <td>code</td>\n",
       "      <td># This Python 3 environment comes with many he...</td>\n",
       "      <td>0</td>\n",
       "      <td>c8e84f06</td>\n",
       "      <td>NaN</td>\n",
       "      <td>0.0</td>\n",
       "    </tr>\n",
       "    <tr>\n",
       "      <th>1</th>\n",
       "      <td>0b140e51df41a2</td>\n",
       "      <td>dc1382e0</td>\n",
       "      <td>code</td>\n",
       "      <td>import numpy as np\\nimport matplotlib.pyplot a...</td>\n",
       "      <td>2</td>\n",
       "      <td>c8e84f06</td>\n",
       "      <td>NaN</td>\n",
       "      <td>0.04</td>\n",
       "    </tr>\n",
       "    <tr>\n",
       "      <th>2</th>\n",
       "      <td>0b140e51df41a2</td>\n",
       "      <td>2cda6b41</td>\n",
       "      <td>code</td>\n",
       "      <td>train=pd.read_csv(\"../input/competitive-data-s...</td>\n",
       "      <td>4</td>\n",
       "      <td>c8e84f06</td>\n",
       "      <td>NaN</td>\n",
       "      <td>0.08</td>\n",
       "    </tr>\n",
       "    <tr>\n",
       "      <th>3</th>\n",
       "      <td>0b140e51df41a2</td>\n",
       "      <td>79aeec70</td>\n",
       "      <td>code</td>\n",
       "      <td>train.shape</td>\n",
       "      <td>6</td>\n",
       "      <td>c8e84f06</td>\n",
       "      <td>NaN</td>\n",
       "      <td>0.12</td>\n",
       "    </tr>\n",
       "    <tr>\n",
       "      <th>4</th>\n",
       "      <td>0b140e51df41a2</td>\n",
       "      <td>e2028ad1</td>\n",
       "      <td>code</td>\n",
       "      <td>train.head()</td>\n",
       "      <td>7</td>\n",
       "      <td>c8e84f06</td>\n",
       "      <td>NaN</td>\n",
       "      <td>0.14</td>\n",
       "    </tr>\n",
       "    <tr>\n",
       "      <th>5</th>\n",
       "      <td>0b140e51df41a2</td>\n",
       "      <td>d2e5aa64</td>\n",
       "      <td>code</td>\n",
       "      <td>train.info()</td>\n",
       "      <td>8</td>\n",
       "      <td>c8e84f06</td>\n",
       "      <td>NaN</td>\n",
       "      <td>0.16</td>\n",
       "    </tr>\n",
       "    <tr>\n",
       "      <th>6</th>\n",
       "      <td>0b140e51df41a2</td>\n",
       "      <td>09e61c4e</td>\n",
       "      <td>code</td>\n",
       "      <td>items.shape</td>\n",
       "      <td>9</td>\n",
       "      <td>c8e84f06</td>\n",
       "      <td>NaN</td>\n",
       "      <td>0.18</td>\n",
       "    </tr>\n",
       "    <tr>\n",
       "      <th>7</th>\n",
       "      <td>0b140e51df41a2</td>\n",
       "      <td>3210f97e</td>\n",
       "      <td>code</td>\n",
       "      <td>items.head()</td>\n",
       "      <td>10</td>\n",
       "      <td>c8e84f06</td>\n",
       "      <td>NaN</td>\n",
       "      <td>0.2</td>\n",
       "    </tr>\n",
       "    <tr>\n",
       "      <th>8</th>\n",
       "      <td>0b140e51df41a2</td>\n",
       "      <td>447e5654</td>\n",
       "      <td>code</td>\n",
       "      <td>categories.shape</td>\n",
       "      <td>11</td>\n",
       "      <td>c8e84f06</td>\n",
       "      <td>NaN</td>\n",
       "      <td>0.22</td>\n",
       "    </tr>\n",
       "    <tr>\n",
       "      <th>9</th>\n",
       "      <td>0b140e51df41a2</td>\n",
       "      <td>c27496ba</td>\n",
       "      <td>code</td>\n",
       "      <td>categories.head()</td>\n",
       "      <td>12</td>\n",
       "      <td>c8e84f06</td>\n",
       "      <td>NaN</td>\n",
       "      <td>0.24</td>\n",
       "    </tr>\n",
       "  </tbody>\n",
       "</table>\n",
       "</div>"
      ],
      "text/plain": [
       "               id   cell_id cell_type  \\\n",
       "0  0b140e51df41a2  2c853a43      code   \n",
       "1  0b140e51df41a2  dc1382e0      code   \n",
       "2  0b140e51df41a2  2cda6b41      code   \n",
       "3  0b140e51df41a2  79aeec70      code   \n",
       "4  0b140e51df41a2  e2028ad1      code   \n",
       "5  0b140e51df41a2  d2e5aa64      code   \n",
       "6  0b140e51df41a2  09e61c4e      code   \n",
       "7  0b140e51df41a2  3210f97e      code   \n",
       "8  0b140e51df41a2  447e5654      code   \n",
       "9  0b140e51df41a2  c27496ba      code   \n",
       "\n",
       "                                              source rank ancestor_id  \\\n",
       "0  # This Python 3 environment comes with many he...    0    c8e84f06   \n",
       "1  import numpy as np\\nimport matplotlib.pyplot a...    2    c8e84f06   \n",
       "2  train=pd.read_csv(\"../input/competitive-data-s...    4    c8e84f06   \n",
       "3                                        train.shape    6    c8e84f06   \n",
       "4                                       train.head()    7    c8e84f06   \n",
       "5                                       train.info()    8    c8e84f06   \n",
       "6                                        items.shape    9    c8e84f06   \n",
       "7                                       items.head()   10    c8e84f06   \n",
       "8                                   categories.shape   11    c8e84f06   \n",
       "9                                  categories.head()   12    c8e84f06   \n",
       "\n",
       "  parent_id pct_rank  \n",
       "0       NaN      0.0  \n",
       "1       NaN     0.04  \n",
       "2       NaN     0.08  \n",
       "3       NaN     0.12  \n",
       "4       NaN     0.14  \n",
       "5       NaN     0.16  \n",
       "6       NaN     0.18  \n",
       "7       NaN      0.2  \n",
       "8       NaN     0.22  \n",
       "9       NaN     0.24  "
      ]
     },
     "execution_count": 44,
     "metadata": {},
     "output_type": "execute_result"
    }
   ],
   "source": [
    "val_df[:10]"
   ]
  },
  {
   "cell_type": "code",
   "execution_count": 43,
   "id": "f80c31bc",
   "metadata": {},
   "outputs": [
    {
     "data": {
      "text/plain": [
       "['code',\n",
       " 'code',\n",
       " 'code',\n",
       " 'code',\n",
       " 'code',\n",
       " 'code',\n",
       " 'code',\n",
       " 'code',\n",
       " 'code',\n",
       " 'code']"
      ]
     },
     "execution_count": 43,
     "metadata": {},
     "output_type": "execute_result"
    }
   ],
   "source": [
    "val_df['cell_type'].tolist()[:10]"
   ]
  },
  {
   "cell_type": "code",
   "execution_count": 41,
   "id": "JSyctAAywjLX",
   "metadata": {
    "id": "JSyctAAywjLX",
    "jupyter": {
     "outputs_hidden": true
    },
    "outputId": "d94f25b7-02e3-46d2-969f-11ad0e2ee0b9"
   },
   "outputs": [
    {
     "data": {
      "text/plain": [
       "['# This Python 3 environment comes with many helpful analytics libraries installed\\n# It is defined by the kaggle/python Docker image: https://github.com/kaggle/docker-python\\n# For example, here\\'s several helpful packages to load\\n\\nimport numpy as np # linear algebra\\nimport pandas as pd # data processing, CSV file I/O (e.g. pd.read_csv)\\n\\n# Input data files are available in the read-only \"../input/\" directory\\n# For example, running this (by clicking run or pressing Shift+Enter) will list all files under the input directory\\n\\nimport os\\nfor dirname, _, filenames in os.walk(\\'/kaggle/input\\'):\\n    for filename in filenames:\\n        print(os.path.join(dirname, filename))\\n\\n# You can write up to 20GB to the current directory (/kaggle/working/) that gets preserved as output when you create a version using \"Save & Run All\" \\n# You can also write temporary files to /kaggle/temp/, but they won\\'t be saved outside of the current session',\n",
       " 'import numpy as np\\nimport matplotlib.pyplot as plt\\nimport pandas as pd\\nimport seaborn as sns',\n",
       " 'train=pd.read_csv(\"../input/competitive-data-science-predict-future-sales/sales_train.csv\")\\nitems=pd.read_csv(\"../input/competitive-data-science-predict-future-sales/items.csv\")\\ncategories=pd.read_csv(\"../input/competitive-data-science-predict-future-sales/item_categories.csv\")\\nshops=pd.read_csv(\"../input/competitive-data-science-predict-future-sales/shops.csv\")\\ntest=pd.read_csv(\"../input/competitive-data-science-predict-future-sales/test.csv\")',\n",
       " 'train.shape',\n",
       " 'train.head()',\n",
       " 'train.info()',\n",
       " 'items.shape',\n",
       " 'items.head()',\n",
       " 'categories.shape',\n",
       " 'categories.head()']"
      ]
     },
     "execution_count": 41,
     "metadata": {},
     "output_type": "execute_result"
    }
   ],
   "source": [
    "val_df['source'].tolist()[:10]"
   ]
  },
  {
   "cell_type": "code",
   "execution_count": null,
   "id": "79geeFURwjLY",
   "metadata": {
    "id": "79geeFURwjLY",
    "outputId": "39de9360-809a-41b1-ff24-96a214a224b9"
   },
   "outputs": [
    {
     "ename": "TypeError",
     "evalue": "expected str, bytes or os.PathLike object, not list",
     "output_type": "error",
     "traceback": [
      "\u001b[0;31m---------------------------------------------------------------------------\u001b[0m",
      "\u001b[0;31mTypeError\u001b[0m                                 Traceback (most recent call last)",
      "\u001b[0;32m<ipython-input-52-ccd395208d8f>\u001b[0m in \u001b[0;36m<module>\u001b[0;34m\u001b[0m\n\u001b[0;32m----> 1\u001b[0;31m \u001b[0mpreprocess_script\u001b[0m\u001b[0;34m(\u001b[0m\u001b[0mval_df\u001b[0m\u001b[0;34m[\u001b[0m\u001b[0;34m'source'\u001b[0m\u001b[0;34m]\u001b[0m\u001b[0;34m.\u001b[0m\u001b[0mtolist\u001b[0m\u001b[0;34m(\u001b[0m\u001b[0;34m)\u001b[0m\u001b[0;34m)\u001b[0m\u001b[0;34m\u001b[0m\u001b[0;34m\u001b[0m\u001b[0m\n\u001b[0m",
      "\u001b[0;32m<ipython-input-49-38f988928fe8>\u001b[0m in \u001b[0;36mpreprocess_script\u001b[0;34m(script)\u001b[0m\n\u001b[1;32m      3\u001b[0m \u001b[0;32mdef\u001b[0m \u001b[0mpreprocess_script\u001b[0m\u001b[0;34m(\u001b[0m\u001b[0mscript\u001b[0m\u001b[0;34m)\u001b[0m\u001b[0;34m:\u001b[0m\u001b[0;34m\u001b[0m\u001b[0;34m\u001b[0m\u001b[0m\n\u001b[1;32m      4\u001b[0m     \u001b[0mnew_script\u001b[0m \u001b[0;34m=\u001b[0m \u001b[0mdeque\u001b[0m\u001b[0;34m(\u001b[0m\u001b[0;34m)\u001b[0m\u001b[0;34m\u001b[0m\u001b[0;34m\u001b[0m\u001b[0m\n\u001b[0;32m----> 5\u001b[0;31m     \u001b[0;32mwith\u001b[0m \u001b[0mopen\u001b[0m\u001b[0;34m(\u001b[0m\u001b[0mscript\u001b[0m\u001b[0;34m,\u001b[0m\u001b[0;34m'r'\u001b[0m\u001b[0;34m,\u001b[0m\u001b[0mencoding\u001b[0m\u001b[0;34m=\u001b[0m\u001b[0;34m'utf-8'\u001b[0m\u001b[0;34m)\u001b[0m \u001b[0;32mas\u001b[0m \u001b[0mfile\u001b[0m\u001b[0;34m:\u001b[0m\u001b[0;34m\u001b[0m\u001b[0;34m\u001b[0m\u001b[0m\n\u001b[0m\u001b[1;32m      6\u001b[0m         \u001b[0mlines\u001b[0m \u001b[0;34m=\u001b[0m \u001b[0mfile\u001b[0m\u001b[0;34m.\u001b[0m\u001b[0mreadlines\u001b[0m\u001b[0;34m(\u001b[0m\u001b[0;34m)\u001b[0m\u001b[0;34m\u001b[0m\u001b[0;34m\u001b[0m\u001b[0m\n\u001b[1;32m      7\u001b[0m         \u001b[0;32mfor\u001b[0m \u001b[0mline\u001b[0m \u001b[0;32min\u001b[0m \u001b[0mlines\u001b[0m\u001b[0;34m:\u001b[0m\u001b[0;34m\u001b[0m\u001b[0;34m\u001b[0m\u001b[0m\n",
      "\u001b[0;31mTypeError\u001b[0m: expected str, bytes or os.PathLike object, not list"
     ]
    }
   ],
   "source": [
    "preprocess_script(val_df['source'].tolist())"
   ]
  },
  {
   "cell_type": "code",
   "execution_count": 34,
   "id": "p7q5IWO5wjLY",
   "metadata": {
    "id": "p7q5IWO5wjLY",
    "outputId": "13590942-7801-45ab-e7d7-c5f2e378b940",
    "papermill": {
     "duration": 0.778531,
     "end_time": "2022-05-27T07:26:55.895203",
     "exception": false,
     "start_time": "2022-05-27T07:26:55.116672",
     "status": "completed"
    },
    "tags": []
   },
   "outputs": [
    {
     "name": "stdout",
     "output_type": "stream",
     "text": [
      "139112\n",
      "144\n"
     ]
    }
   ],
   "source": [
    "print(len(train_fts))\n",
    "print(len(val_fts))\n"
   ]
  },
  {
   "cell_type": "code",
   "execution_count": null,
   "id": "7RO8mynlwjLY",
   "metadata": {
    "id": "7RO8mynlwjLY"
   },
   "outputs": [],
   "source": []
  }
 ],
 "metadata": {
  "colab": {
   "name": "[yum][codeBERT]ai4code-preprocess_220712.ipynb",
   "provenance": []
  },
  "kernelspec": {
   "display_name": "Python 3 (ipykernel)",
   "language": "python",
   "name": "python3"
  },
  "language_info": {
   "codemirror_mode": {
    "name": "ipython",
    "version": 3
   },
   "file_extension": ".py",
   "mimetype": "text/x-python",
   "name": "python",
   "nbconvert_exporter": "python",
   "pygments_lexer": "ipython3",
   "version": "3.8.10"
  },
  "papermill": {
   "default_parameters": {},
   "duration": 1974.005318,
   "end_time": "2022-05-27T07:27:08.977643",
   "environment_variables": {},
   "exception": null,
   "input_path": "__notebook__.ipynb",
   "output_path": "__notebook__.ipynb",
   "parameters": {},
   "start_time": "2022-05-27T06:54:14.972325",
   "version": "2.3.4"
  }
 },
 "nbformat": 4,
 "nbformat_minor": 5
}
