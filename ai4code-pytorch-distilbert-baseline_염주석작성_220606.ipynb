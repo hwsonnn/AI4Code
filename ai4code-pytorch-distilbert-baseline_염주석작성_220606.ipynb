{
 "cells": [
  {
   "cell_type": "markdown",
   "metadata": {
    "papermill": {
     "duration": 0.031568,
     "end_time": "2022-05-12T10:15:13.890382",
     "exception": false,
     "start_time": "2022-05-12T10:15:13.858814",
     "status": "completed"
    },
    "tags": []
   },
   "source": [
    "# AI4Code Pytorch DistilBert Baseline + a 설명\n",
    "\n",
    "- \n",
    "Author \n",
    "I used a lot of code from Kaggle's starter notebook here: https://www.kaggle.com/code/ryanholbrook/getting-started-with-ai4code\n",
    "I replaced their model with a DistilBert model.\n",
    "\n",
    "- 기존 공개되어있던 Sample code를 BASE로 작성된 코드\n",
    "    - 모델을 DistilBERT로 변경\n",
    "- 최종 성능은 0.73정도이지만 다른 샘플코드들 처럼 Package단으로 활용하는것이 아닌, low level로 작성되어 있는 코드\n",
    "    - 과제 전반적인 이해에 도움이 될 것이라 판단, 해당 스크립트를 선정함\n",
    "    - 그렇다고 해도 huggingface를 활용하지 않는건 아님, 하여 패키지를 처음 써보는 사람들도 이해할 수 있도록 최대한 자세하게 코드 작성(본인 기준..)\n",
    "- 모델 IN & OUT 과 해당 대회의 평가 metric인 Kandall-tau metric까지 알아보록 구성되어있음\n",
    "\n",
    "- P.S. 의식의 흐름대로 작성한 스크립트이다보니.. 작성한 설명을 읽어도 이해가 잘 안될 수 있습니다.. 양해 부탁드립니다 ㅎㅎㅎ"
   ]
  },
  {
   "cell_type": "markdown",
   "metadata": {},
   "source": [
    "## import packge"
   ]
  },
  {
   "cell_type": "code",
   "execution_count": 1,
   "metadata": {
    "execution": {
     "iopub.execute_input": "2022-06-06T11:17:37.503015Z",
     "iopub.status.busy": "2022-06-06T11:17:37.502513Z",
     "iopub.status.idle": "2022-06-06T11:17:37.603229Z",
     "shell.execute_reply": "2022-06-06T11:17:37.602435Z",
     "shell.execute_reply.started": "2022-06-06T11:17:37.502918Z"
    },
    "papermill": {
     "duration": 0.122804,
     "end_time": "2022-05-12T10:15:14.04297",
     "exception": false,
     "start_time": "2022-05-12T10:15:13.920166",
     "status": "completed"
    },
    "tags": []
   },
   "outputs": [],
   "source": [
    "import json\n",
    "from pathlib import Path\n",
    "\n",
    "import numpy as np\n",
    "import pandas as pd\n",
    "from scipy import sparse\n",
    "from tqdm import tqdm\n",
    "\n",
    "pd.options.display.width = 180\n",
    "pd.options.display.max_colwidth = 120\n",
    "\n",
    "# 미리 download 받아놓은 distilbert model 경로, multilingual인지는 확인 필요함\n",
    "BERT_PATH = \"../input/huggingface-bert-variants/distilbert-base-uncased/distilbert-base-uncased\"\n",
    "\n",
    "data_dir = Path('./input/AI4Code')"
   ]
  },
  {
   "cell_type": "markdown",
   "metadata": {},
   "source": [
    "## Input 데이터 관련 함수 정리"
   ]
  },
  {
   "cell_type": "code",
   "execution_count": 2,
   "metadata": {
    "execution": {
     "iopub.execute_input": "2022-06-06T11:17:37.605147Z",
     "iopub.status.busy": "2022-06-06T11:17:37.604844Z",
     "iopub.status.idle": "2022-06-06T11:19:14.949413Z",
     "shell.execute_reply": "2022-06-06T11:19:14.948555Z",
     "shell.execute_reply.started": "2022-06-06T11:17:37.605109Z"
    },
    "papermill": {
     "duration": 82.291505,
     "end_time": "2022-05-12T10:16:36.365197",
     "exception": false,
     "start_time": "2022-05-12T10:15:14.073692",
     "status": "completed"
    },
    "tags": []
   },
   "outputs": [
    {
     "name": "stderr",
     "output_type": "stream",
     "text": [
      "Train NBs: 100%|███████████████████████████████████████████████████████████████████████████████████████████████| 10000/10000 [00:30<00:00, 324.67it/s]\n"
     ]
    },
    {
     "data": {
      "text/html": [
       "<div>\n",
       "<style scoped>\n",
       "    .dataframe tbody tr th:only-of-type {\n",
       "        vertical-align: middle;\n",
       "    }\n",
       "\n",
       "    .dataframe tbody tr th {\n",
       "        vertical-align: top;\n",
       "    }\n",
       "\n",
       "    .dataframe thead th {\n",
       "        text-align: right;\n",
       "    }\n",
       "</style>\n",
       "<table border=\"1\" class=\"dataframe\">\n",
       "  <thead>\n",
       "    <tr style=\"text-align: right;\">\n",
       "      <th></th>\n",
       "      <th></th>\n",
       "      <th>cell_type</th>\n",
       "      <th>source</th>\n",
       "    </tr>\n",
       "    <tr>\n",
       "      <th>id</th>\n",
       "      <th>cell_id</th>\n",
       "      <th></th>\n",
       "      <th></th>\n",
       "    </tr>\n",
       "  </thead>\n",
       "  <tbody>\n",
       "    <tr>\n",
       "      <th rowspan=\"5\" valign=\"top\">00062ab8487156</th>\n",
       "      <th>dcad687f</th>\n",
       "      <td>code</td>\n",
       "      <td># This Python 3 environment comes with many helpful analytics libraries installed\\n# It is defined by the kaggle/pyt...</td>\n",
       "    </tr>\n",
       "    <tr>\n",
       "      <th>a2e1fc80</th>\n",
       "      <td>code</td>\n",
       "      <td>test_esrb_df = pd.read_csv(\"/kaggle/input/video-games-rating-by-esrb/test_esrb.csv\")\\n</td>\n",
       "    </tr>\n",
       "    <tr>\n",
       "      <th>7d977ee8</th>\n",
       "      <td>code</td>\n",
       "      <td>vidgme_esrb_df = pd.read_csv(\"/kaggle/input/video-games-rating-by-esrb/Video_games_esrb_rating.csv\")\\nother_cols = [...</td>\n",
       "    </tr>\n",
       "    <tr>\n",
       "      <th>45a82a59</th>\n",
       "      <td>code</td>\n",
       "      <td>esrb_percentages_df = vidgme_esrb_df.drop(other_cols, axis=1).sum() / len(vidgme_esrb_df)\\nesrb_percentages_df</td>\n",
       "    </tr>\n",
       "    <tr>\n",
       "      <th>cbbc326a</th>\n",
       "      <td>code</td>\n",
       "      <td>vidgme_esrb_df.pivot_table(index=[\"esrb_rating\", \"console\"])</td>\n",
       "    </tr>\n",
       "    <tr>\n",
       "      <th>...</th>\n",
       "      <th>...</th>\n",
       "      <td>...</td>\n",
       "      <td>...</td>\n",
       "    </tr>\n",
       "    <tr>\n",
       "      <th rowspan=\"5\" valign=\"top\">fffc63ff750064</th>\n",
       "      <th>56aa8da7</th>\n",
       "      <td>code</td>\n",
       "      <td>\\nsubmission.to_csv('house_price_rf.csv', index = False)</td>\n",
       "    </tr>\n",
       "    <tr>\n",
       "      <th>411b85d9</th>\n",
       "      <td>markdown</td>\n",
       "      <td>1. # Data exploration</td>\n",
       "    </tr>\n",
       "    <tr>\n",
       "      <th>e7e67119</th>\n",
       "      <td>markdown</td>\n",
       "      <td># # Data preprocessing</td>\n",
       "    </tr>\n",
       "    <tr>\n",
       "      <th>8b54cf58</th>\n",
       "      <td>markdown</td>\n",
       "      <td># Post-process for submission</td>\n",
       "    </tr>\n",
       "    <tr>\n",
       "      <th>b3c6bc16</th>\n",
       "      <td>markdown</td>\n",
       "      <td># Define and fit model</td>\n",
       "    </tr>\n",
       "  </tbody>\n",
       "</table>\n",
       "<p>458950 rows × 2 columns</p>\n",
       "</div>"
      ],
      "text/plain": [
       "                        cell_type                                                                                                                   source\n",
       "id             cell_id                                                                                                                                    \n",
       "00062ab8487156 dcad687f      code  # This Python 3 environment comes with many helpful analytics libraries installed\\n# It is defined by the kaggle/pyt...\n",
       "               a2e1fc80      code                                   test_esrb_df = pd.read_csv(\"/kaggle/input/video-games-rating-by-esrb/test_esrb.csv\")\\n\n",
       "               7d977ee8      code  vidgme_esrb_df = pd.read_csv(\"/kaggle/input/video-games-rating-by-esrb/Video_games_esrb_rating.csv\")\\nother_cols = [...\n",
       "               45a82a59      code           esrb_percentages_df = vidgme_esrb_df.drop(other_cols, axis=1).sum() / len(vidgme_esrb_df)\\nesrb_percentages_df\n",
       "               cbbc326a      code                                                             vidgme_esrb_df.pivot_table(index=[\"esrb_rating\", \"console\"])\n",
       "...                           ...                                                                                                                      ...\n",
       "fffc63ff750064 56aa8da7      code                                                                 \\nsubmission.to_csv('house_price_rf.csv', index = False)\n",
       "               411b85d9  markdown                                                                                                    1. # Data exploration\n",
       "               e7e67119  markdown                                                                                                   # # Data preprocessing\n",
       "               8b54cf58  markdown                                                                                            # Post-process for submission\n",
       "               b3c6bc16  markdown                                                                                                   # Define and fit model\n",
       "\n",
       "[458950 rows x 2 columns]"
      ]
     },
     "execution_count": 2,
     "metadata": {},
     "output_type": "execute_result"
    }
   ],
   "source": [
    "# 사용할 데이터 수, 샘플로 1만건만 활용\n",
    "NUM_TRAIN = 10000\n",
    "\n",
    "# json파일을 통해 해당 notebook 파일 불러옴\n",
    "def read_notebook(path):\n",
    "    return (\n",
    "        pd.read_json(\n",
    "            path,\n",
    "            dtype={'cell_type': 'category', 'source': 'str'})\n",
    "        .assign(id=path.stem) # DataFrame에 새 열을 할당하는 메서드. 할당할 새 열이 기존열과 이름이 같을경우 덮어씌워짐\n",
    "        .rename_axis('cell_id')\n",
    "    )\n",
    "\n",
    "# 리스트 내 확장자가 json인 파일 import\n",
    "paths_train = list((data_dir / 'train').glob('*.json'))[:NUM_TRAIN]\n",
    "\n",
    "# 읽어온 notebook을 리스트 형태로 저장\n",
    "notebooks_train = [\n",
    "    read_notebook(path) for path in tqdm(paths_train, desc='Train NBs')\n",
    "]\n",
    "\n",
    "# pd.dataframe 형태로 저장 \n",
    "df = (\n",
    "    pd.concat(notebooks_train)\n",
    "    .set_index('id', append=True)\n",
    "    .swaplevel() # 인덱스의 기준값을 변경해줌 \n",
    "    .sort_index(level='id', sort_remaining=False)\n",
    ")\n",
    "\n",
    "df"
   ]
  },
  {
   "cell_type": "code",
   "execution_count": 3,
   "metadata": {
    "execution": {
     "iopub.execute_input": "2022-06-06T11:20:16.900712Z",
     "iopub.status.busy": "2022-06-06T11:20:16.899073Z",
     "iopub.status.idle": "2022-06-06T11:20:16.908053Z",
     "shell.execute_reply": "2022-06-06T11:20:16.907207Z",
     "shell.execute_reply.started": "2022-06-06T11:20:16.900665Z"
    }
   },
   "outputs": [],
   "source": [
    "# 일반적인 index가 아닌 multi_index 구조\n",
    "df.index[0:3]"
   ]
  },
  {
   "cell_type": "code",
   "execution_count": 3,
   "metadata": {
    "execution": {
     "iopub.execute_input": "2022-06-06T11:22:23.304016Z",
     "iopub.status.busy": "2022-06-06T11:22:23.303534Z",
     "iopub.status.idle": "2022-06-06T11:22:23.323823Z",
     "shell.execute_reply": "2022-06-06T11:22:23.323142Z",
     "shell.execute_reply.started": "2022-06-06T11:22:23.303974Z"
    }
   },
   "outputs": [
    {
     "name": "stdout",
     "output_type": "stream",
     "text": [
      "Notebook: 002aed65301beb\n",
      "The disordered notebook:\n"
     ]
    },
    {
     "data": {
      "text/html": [
       "<div>\n",
       "<style scoped>\n",
       "    .dataframe tbody tr th:only-of-type {\n",
       "        vertical-align: middle;\n",
       "    }\n",
       "\n",
       "    .dataframe tbody tr th {\n",
       "        vertical-align: top;\n",
       "    }\n",
       "\n",
       "    .dataframe thead th {\n",
       "        text-align: right;\n",
       "    }\n",
       "</style>\n",
       "<table border=\"1\" class=\"dataframe\">\n",
       "  <thead>\n",
       "    <tr style=\"text-align: right;\">\n",
       "      <th></th>\n",
       "      <th>cell_type</th>\n",
       "      <th>source</th>\n",
       "    </tr>\n",
       "    <tr>\n",
       "      <th>cell_id</th>\n",
       "      <th></th>\n",
       "      <th></th>\n",
       "    </tr>\n",
       "  </thead>\n",
       "  <tbody>\n",
       "    <tr>\n",
       "      <th>48716f4c</th>\n",
       "      <td>code</td>\n",
       "      <td># This Python 3 environment comes with many helpful analytics libraries installed\\n# It is defined by the kaggle/pyt...</td>\n",
       "    </tr>\n",
       "    <tr>\n",
       "      <th>0823d03c</th>\n",
       "      <td>code</td>\n",
       "      <td>import numpy as np \\nimport pandas as pd \\nimport matplotlib.pyplot as plt</td>\n",
       "    </tr>\n",
       "    <tr>\n",
       "      <th>0d2f52d8</th>\n",
       "      <td>code</td>\n",
       "      <td>data = pd.read_csv('/kaggle/input/news-dataset-18920/result_final.csv')</td>\n",
       "    </tr>\n",
       "    <tr>\n",
       "      <th>f43790ac</th>\n",
       "      <td>code</td>\n",
       "      <td>data.shape</td>\n",
       "    </tr>\n",
       "    <tr>\n",
       "      <th>0c0d4bdb</th>\n",
       "      <td>code</td>\n",
       "      <td>data.head()</td>\n",
       "    </tr>\n",
       "    <tr>\n",
       "      <th>...</th>\n",
       "      <td>...</td>\n",
       "      <td>...</td>\n",
       "    </tr>\n",
       "    <tr>\n",
       "      <th>8da3ac1d</th>\n",
       "      <td>markdown</td>\n",
       "      <td>## Step 2: Encoding your data\\n### There are a number of popular encoding schemes but the main ones are:\\n\\n* ### On...</td>\n",
       "    </tr>\n",
       "    <tr>\n",
       "      <th>3ed6f004</th>\n",
       "      <td>markdown</td>\n",
       "      <td>* ### The method of calculating the user’s likes / dislikes / measures is calculated by taking the cosine of the ang...</td>\n",
       "    </tr>\n",
       "    <tr>\n",
       "      <th>404ef4ab</th>\n",
       "      <td>markdown</td>\n",
       "      <td>![1_3Ig7VSgscBzXaYa0Q-UM1w.png](attachment:1_3Ig7VSgscBzXaYa0Q-UM1w.png)</td>\n",
       "    </tr>\n",
       "    <tr>\n",
       "      <th>58e85802</th>\n",
       "      <td>markdown</td>\n",
       "      <td>\\n### The advantage of TF-IDF encoding is that it will weigh a term (a tag for a movie in our example) according to ...</td>\n",
       "    </tr>\n",
       "    <tr>\n",
       "      <th>c35a9e80</th>\n",
       "      <td>markdown</td>\n",
       "      <td>### &lt;i&gt;Now, we have a representation of every item in terms of its description. Next, we need to calculate the relev...</td>\n",
       "    </tr>\n",
       "  </tbody>\n",
       "</table>\n",
       "<p>64 rows × 2 columns</p>\n",
       "</div>"
      ],
      "text/plain": [
       "         cell_type                                                                                                                   source\n",
       "cell_id                                                                                                                                    \n",
       "48716f4c      code  # This Python 3 environment comes with many helpful analytics libraries installed\\n# It is defined by the kaggle/pyt...\n",
       "0823d03c      code                                               import numpy as np \\nimport pandas as pd \\nimport matplotlib.pyplot as plt\n",
       "0d2f52d8      code                                                  data = pd.read_csv('/kaggle/input/news-dataset-18920/result_final.csv')\n",
       "f43790ac      code                                                                                                               data.shape\n",
       "0c0d4bdb      code                                                                                                              data.head()\n",
       "...            ...                                                                                                                      ...\n",
       "8da3ac1d  markdown  ## Step 2: Encoding your data\\n### There are a number of popular encoding schemes but the main ones are:\\n\\n* ### On...\n",
       "3ed6f004  markdown  * ### The method of calculating the user’s likes / dislikes / measures is calculated by taking the cosine of the ang...\n",
       "404ef4ab  markdown                                                 ![1_3Ig7VSgscBzXaYa0Q-UM1w.png](attachment:1_3Ig7VSgscBzXaYa0Q-UM1w.png)\n",
       "58e85802  markdown  \\n### The advantage of TF-IDF encoding is that it will weigh a term (a tag for a movie in our example) according to ...\n",
       "c35a9e80  markdown  ### <i>Now, we have a representation of every item in terms of its description. Next, we need to calculate the relev...\n",
       "\n",
       "[64 rows x 2 columns]"
      ]
     },
     "metadata": {},
     "output_type": "display_data"
    },
    {
     "name": "stdout",
     "output_type": "stream",
     "text": [
      "\n"
     ]
    }
   ],
   "source": [
    "# 샘플데이터(notebook) 확인\n",
    "# 노트북은 코드와 Markdown 순서가 정렬되어있지 않음(disordered)\n",
    "nb_id = df.index.unique('id')[3]\n",
    "print('Notebook:', nb_id)\n",
    "\n",
    "print(\"The disordered notebook:\")\n",
    "nb = df.loc[nb_id, :]\n",
    "display(nb)\n",
    "print()"
   ]
  },
  {
   "cell_type": "code",
   "execution_count": 4,
   "metadata": {
    "execution": {
     "iopub.execute_input": "2022-06-06T11:23:23.306182Z",
     "iopub.status.busy": "2022-06-06T11:23:23.304280Z",
     "iopub.status.idle": "2022-06-06T11:23:25.511202Z",
     "shell.execute_reply": "2022-06-06T11:23:25.510505Z",
     "shell.execute_reply.started": "2022-06-06T11:23:23.306142Z"
    },
    "papermill": {
     "duration": 2.835076,
     "end_time": "2022-05-12T10:16:39.9675",
     "exception": false,
     "start_time": "2022-05-12T10:16:37.132424",
     "status": "completed"
    },
    "tags": []
   },
   "outputs": [
    {
     "name": "stderr",
     "output_type": "stream",
     "text": [
      "/tmp/ipykernel_19480/1233448445.py:3: FutureWarning: The squeeze argument has been deprecated and will be removed in a future version. Append .squeeze(\"columns\") to the call to squeeze.\n",
      "\n",
      "\n",
      "  df_orders = pd.read_csv(\n"
     ]
    },
    {
     "name": "stdout",
     "output_type": "stream",
     "text": [
      "(139256,)\n"
     ]
    },
    {
     "data": {
      "text/plain": [
       "id\n",
       "00001756c60be8    [1862f0a6, 448eb224, 2a9e43d6, 7e2f170a, 038b763d, 77e56113, 2eefe0ef, 1ae087ab, 0beab1cd, 8ffe0b25, 9a78ab76, 0d136...\n",
       "00015c83e2717b    [2e94bd7a, 3e99dee9, b5e286ea, da4f7550, c417225b, 51e3cd89, 2600b4eb, 75b65993, cf195f8b, 25699d02, 72b3201a, f2c75...\n",
       "Name: cell_order, dtype: object"
      ]
     },
     "execution_count": 4,
     "metadata": {},
     "output_type": "execute_result"
    }
   ],
   "source": [
    "# Train 데이터(notebook)의 order 순서가 적혀있는 데이터(train_orders.csv) import\n",
    "# 여기서의 id는 notebook 단위\n",
    "df_orders = pd.read_csv(\n",
    "    data_dir / 'train_orders.csv',\n",
    "    index_col='id',\n",
    "    squeeze=True,\n",
    ").str.split()  # cell_id가 텍스트로 붙어있음, 띄어쓰기 단위로 끊어서 리스트화\n",
    "\n",
    "print(df_orders.shape)\n",
    "df_orders.head(2)"
   ]
  },
  {
   "cell_type": "code",
   "execution_count": 12,
   "metadata": {
    "execution": {
     "iopub.execute_input": "2022-06-06T11:25:06.364932Z",
     "iopub.status.busy": "2022-06-06T11:25:06.364465Z",
     "iopub.status.idle": "2022-06-06T11:25:06.372001Z",
     "shell.execute_reply": "2022-06-06T11:25:06.371347Z",
     "shell.execute_reply.started": "2022-06-06T11:25:06.364896Z"
    },
    "papermill": {
     "duration": 0.257536,
     "end_time": "2022-05-12T10:16:40.472139",
     "exception": false,
     "start_time": "2022-05-12T10:16:40.214603",
     "status": "completed"
    },
    "tags": []
   },
   "outputs": [],
   "source": [
    "# 예시: 002ba502bdac45 노트북의 cell 수\n",
    "len(df_orders.loc[\"002ba502bdac45\"])"
   ]
  },
  {
   "cell_type": "code",
   "execution_count": 5,
   "metadata": {
    "execution": {
     "iopub.execute_input": "2022-06-06T11:25:23.845528Z",
     "iopub.status.busy": "2022-06-06T11:25:23.845149Z",
     "iopub.status.idle": "2022-06-06T11:25:23.864755Z",
     "shell.execute_reply": "2022-06-06T11:25:23.863882Z",
     "shell.execute_reply.started": "2022-06-06T11:25:23.845438Z"
    },
    "papermill": {
     "duration": 0.265934,
     "end_time": "2022-05-12T10:16:40.98571",
     "exception": false,
     "start_time": "2022-05-12T10:16:40.719776",
     "status": "completed"
    },
    "tags": []
   },
   "outputs": [
    {
     "name": "stdout",
     "output_type": "stream",
     "text": [
      "The ordered notebook:\n"
     ]
    },
    {
     "data": {
      "text/html": [
       "<div>\n",
       "<style scoped>\n",
       "    .dataframe tbody tr th:only-of-type {\n",
       "        vertical-align: middle;\n",
       "    }\n",
       "\n",
       "    .dataframe tbody tr th {\n",
       "        vertical-align: top;\n",
       "    }\n",
       "\n",
       "    .dataframe thead th {\n",
       "        text-align: right;\n",
       "    }\n",
       "</style>\n",
       "<table border=\"1\" class=\"dataframe\">\n",
       "  <thead>\n",
       "    <tr style=\"text-align: right;\">\n",
       "      <th></th>\n",
       "      <th>cell_type</th>\n",
       "      <th>source</th>\n",
       "    </tr>\n",
       "    <tr>\n",
       "      <th>cell_id</th>\n",
       "      <th></th>\n",
       "      <th></th>\n",
       "    </tr>\n",
       "  </thead>\n",
       "  <tbody>\n",
       "    <tr>\n",
       "      <th>62f7252e</th>\n",
       "      <td>markdown</td>\n",
       "      <td>## How to Build a Content-Based Recommender System For Your Product ??</td>\n",
       "    </tr>\n",
       "    <tr>\n",
       "      <th>98a54f4b</th>\n",
       "      <td>markdown</td>\n",
       "      <td>### Presenting users with the most relevant information is an important task for any product to fulfill. To do this ...</td>\n",
       "    </tr>\n",
       "    <tr>\n",
       "      <th>856a652e</th>\n",
       "      <td>markdown</td>\n",
       "      <td>![Inner-blog-image.png](attachment:Inner-blog-image.png)</td>\n",
       "    </tr>\n",
       "    <tr>\n",
       "      <th>23360c29</th>\n",
       "      <td>markdown</td>\n",
       "      <td>## Recommender systems\\n### There are two main data selection methods:\\n\\n* ### Collaborative-filtering: In collabor...</td>\n",
       "    </tr>\n",
       "    <tr>\n",
       "      <th>48716f4c</th>\n",
       "      <td>code</td>\n",
       "      <td># This Python 3 environment comes with many helpful analytics libraries installed\\n# It is defined by the kaggle/pyt...</td>\n",
       "    </tr>\n",
       "    <tr>\n",
       "      <th>...</th>\n",
       "      <td>...</td>\n",
       "      <td>...</td>\n",
       "    </tr>\n",
       "    <tr>\n",
       "      <th>c4810a3d</th>\n",
       "      <td>code</td>\n",
       "      <td>ds.insert(2,'cluster',clusters)\\n\\n#ds.insert(0,'id',range(0,ds.shape[0]))</td>\n",
       "    </tr>\n",
       "    <tr>\n",
       "      <th>dee88f34</th>\n",
       "      <td>code</td>\n",
       "      <td>ds.head()</td>\n",
       "    </tr>\n",
       "    <tr>\n",
       "      <th>c13bef0e</th>\n",
       "      <td>code</td>\n",
       "      <td>ds['cluster'].value_counts()</td>\n",
       "    </tr>\n",
       "    <tr>\n",
       "      <th>ae506a1f</th>\n",
       "      <td>code</td>\n",
       "      <td>from scipy.cluster.hierarchy import ward, dendrogram\\nfrom sklearn.metrics.pairwise import cosine_similarity\\ndist =...</td>\n",
       "    </tr>\n",
       "    <tr>\n",
       "      <th>3952ace8</th>\n",
       "      <td>code</td>\n",
       "      <td>## Implementing Topic modelling -- LSH</td>\n",
       "    </tr>\n",
       "  </tbody>\n",
       "</table>\n",
       "<p>64 rows × 2 columns</p>\n",
       "</div>"
      ],
      "text/plain": [
       "         cell_type                                                                                                                   source\n",
       "cell_id                                                                                                                                    \n",
       "62f7252e  markdown                                                   ## How to Build a Content-Based Recommender System For Your Product ??\n",
       "98a54f4b  markdown  ### Presenting users with the most relevant information is an important task for any product to fulfill. To do this ...\n",
       "856a652e  markdown                                                                 ![Inner-blog-image.png](attachment:Inner-blog-image.png)\n",
       "23360c29  markdown  ## Recommender systems\\n### There are two main data selection methods:\\n\\n* ### Collaborative-filtering: In collabor...\n",
       "48716f4c      code  # This Python 3 environment comes with many helpful analytics libraries installed\\n# It is defined by the kaggle/pyt...\n",
       "...            ...                                                                                                                      ...\n",
       "c4810a3d      code                                               ds.insert(2,'cluster',clusters)\\n\\n#ds.insert(0,'id',range(0,ds.shape[0]))\n",
       "dee88f34      code                                                                                                                ds.head()\n",
       "c13bef0e      code                                                                                             ds['cluster'].value_counts()\n",
       "ae506a1f      code  from scipy.cluster.hierarchy import ward, dendrogram\\nfrom sklearn.metrics.pairwise import cosine_similarity\\ndist =...\n",
       "3952ace8      code                                                                                  ## Implementing Topic modelling -- LSH \n",
       "\n",
       "[64 rows x 2 columns]"
      ]
     },
     "execution_count": 5,
     "metadata": {},
     "output_type": "execute_result"
    }
   ],
   "source": [
    "# 위에서 확인했던 notebook을 train_order.csv를 활용해\n",
    "# cell 재정렬 후 결과 확인 (실제 복윈되어야 하는 notebook output)\n",
    "\n",
    "cell_order = df_orders.loc[nb_id]\n",
    "\n",
    "print(\"The ordered notebook:\")\n",
    "nb.loc[cell_order, :]"
   ]
  },
  {
   "cell_type": "code",
   "execution_count": 6,
   "metadata": {
    "execution": {
     "iopub.execute_input": "2022-06-06T14:36:34.787362Z",
     "iopub.status.busy": "2022-06-06T14:36:34.787104Z",
     "iopub.status.idle": "2022-06-06T14:36:34.832830Z",
     "shell.execute_reply": "2022-06-06T14:36:34.831149Z",
     "shell.execute_reply.started": "2022-06-06T14:36:34.787334Z"
    },
    "jupyter": {
     "outputs_hidden": true
    },
    "papermill": {
     "duration": 0.265625,
     "end_time": "2022-05-12T10:16:41.501618",
     "exception": false,
     "start_time": "2022-05-12T10:16:41.235993",
     "status": "completed"
    },
    "tags": []
   },
   "outputs": [],
   "source": [
    "# 위 결과처럼\n",
    "# 정렬되어있지 않는 Train 데이터(notebook)의 cell 순서(rank)를 구하는 함수 설정\n",
    "def get_ranks(base, derived):\n",
    "    return [base.index(d) for d in derived]\n",
    "\n",
    "cell_ranks = get_ranks(cell_order, list(nb.index))\n",
    "nb.insert(0, 'rank', cell_ranks)"
   ]
  },
  {
   "cell_type": "code",
   "execution_count": 7,
   "metadata": {
    "execution": {
     "iopub.execute_input": "2022-06-06T11:32:12.531173Z",
     "iopub.status.busy": "2022-06-06T11:32:12.530776Z",
     "iopub.status.idle": "2022-06-06T11:32:16.402622Z",
     "shell.execute_reply": "2022-06-06T11:32:16.401654Z",
     "shell.execute_reply.started": "2022-06-06T11:32:12.531136Z"
    },
    "papermill": {
     "duration": 2.967892,
     "end_time": "2022-05-12T10:16:44.752979",
     "exception": false,
     "start_time": "2022-05-12T10:16:41.785087",
     "status": "completed"
    },
    "tags": []
   },
   "outputs": [
    {
     "data": {
      "text/html": [
       "<div>\n",
       "<style scoped>\n",
       "    .dataframe tbody tr th:only-of-type {\n",
       "        vertical-align: middle;\n",
       "    }\n",
       "\n",
       "    .dataframe tbody tr th {\n",
       "        vertical-align: top;\n",
       "    }\n",
       "\n",
       "    .dataframe thead th {\n",
       "        text-align: right;\n",
       "    }\n",
       "</style>\n",
       "<table border=\"1\" class=\"dataframe\">\n",
       "  <thead>\n",
       "    <tr style=\"text-align: right;\">\n",
       "      <th></th>\n",
       "      <th></th>\n",
       "      <th>rank</th>\n",
       "    </tr>\n",
       "    <tr>\n",
       "      <th>id</th>\n",
       "      <th>cell_id</th>\n",
       "      <th></th>\n",
       "    </tr>\n",
       "  </thead>\n",
       "  <tbody>\n",
       "    <tr>\n",
       "      <th rowspan=\"5\" valign=\"top\">00062ab8487156</th>\n",
       "      <th>dcad687f</th>\n",
       "      <td>0</td>\n",
       "    </tr>\n",
       "    <tr>\n",
       "      <th>a2e1fc80</th>\n",
       "      <td>1</td>\n",
       "    </tr>\n",
       "    <tr>\n",
       "      <th>7d977ee8</th>\n",
       "      <td>2</td>\n",
       "    </tr>\n",
       "    <tr>\n",
       "      <th>45a82a59</th>\n",
       "      <td>3</td>\n",
       "    </tr>\n",
       "    <tr>\n",
       "      <th>cbbc326a</th>\n",
       "      <td>4</td>\n",
       "    </tr>\n",
       "    <tr>\n",
       "      <th>...</th>\n",
       "      <th>...</th>\n",
       "      <td>...</td>\n",
       "    </tr>\n",
       "    <tr>\n",
       "      <th rowspan=\"5\" valign=\"top\">fffc63ff750064</th>\n",
       "      <th>56aa8da7</th>\n",
       "      <td>25</td>\n",
       "    </tr>\n",
       "    <tr>\n",
       "      <th>411b85d9</th>\n",
       "      <td>1</td>\n",
       "    </tr>\n",
       "    <tr>\n",
       "      <th>e7e67119</th>\n",
       "      <td>6</td>\n",
       "    </tr>\n",
       "    <tr>\n",
       "      <th>8b54cf58</th>\n",
       "      <td>22</td>\n",
       "    </tr>\n",
       "    <tr>\n",
       "      <th>b3c6bc16</th>\n",
       "      <td>18</td>\n",
       "    </tr>\n",
       "  </tbody>\n",
       "</table>\n",
       "<p>458950 rows × 1 columns</p>\n",
       "</div>"
      ],
      "text/plain": [
       "                        rank\n",
       "id             cell_id      \n",
       "00062ab8487156 dcad687f    0\n",
       "               a2e1fc80    1\n",
       "               7d977ee8    2\n",
       "               45a82a59    3\n",
       "               cbbc326a    4\n",
       "...                      ...\n",
       "fffc63ff750064 56aa8da7   25\n",
       "               411b85d9    1\n",
       "               e7e67119    6\n",
       "               8b54cf58   22\n",
       "               b3c6bc16   18\n",
       "\n",
       "[458950 rows x 1 columns]"
      ]
     },
     "execution_count": 7,
     "metadata": {},
     "output_type": "execute_result"
    }
   ],
   "source": [
    "# 전체 Trainset의 rank 구함\n",
    "df_orders_ = df_orders.to_frame().join(\n",
    "    df.reset_index('cell_id').groupby('id')['cell_id'].apply(list),\n",
    "    how='right',\n",
    ")\n",
    "\n",
    "ranks = {}\n",
    "for id_, cell_order, cell_id in df_orders_.itertuples():\n",
    "    ranks[id_] = {'cell_id': cell_id, 'rank': get_ranks(cell_order, cell_id)}\n",
    "\n",
    "df_ranks = (\n",
    "    pd.DataFrame\n",
    "    .from_dict(ranks, orient='index')\n",
    "    .rename_axis('id')\n",
    "    .apply(pd.Series.explode)\n",
    "    .set_index('cell_id', append=True)\n",
    ")\n",
    "\n",
    "df_ranks"
   ]
  },
  {
   "cell_type": "code",
   "execution_count": 8,
   "metadata": {
    "execution": {
     "iopub.execute_input": "2022-06-06T11:32:23.816561Z",
     "iopub.status.busy": "2022-06-06T11:32:23.816265Z",
     "iopub.status.idle": "2022-06-06T11:32:24.014311Z",
     "shell.execute_reply": "2022-06-06T11:32:24.013284Z",
     "shell.execute_reply.started": "2022-06-06T11:32:23.816527Z"
    },
    "papermill": {
     "duration": 0.44203,
     "end_time": "2022-05-12T10:16:45.446006",
     "exception": false,
     "start_time": "2022-05-12T10:16:45.003976",
     "status": "completed"
    },
    "tags": []
   },
   "outputs": [
    {
     "data": {
      "text/html": [
       "<div>\n",
       "<style scoped>\n",
       "    .dataframe tbody tr th:only-of-type {\n",
       "        vertical-align: middle;\n",
       "    }\n",
       "\n",
       "    .dataframe tbody tr th {\n",
       "        vertical-align: top;\n",
       "    }\n",
       "\n",
       "    .dataframe thead th {\n",
       "        text-align: right;\n",
       "    }\n",
       "</style>\n",
       "<table border=\"1\" class=\"dataframe\">\n",
       "  <thead>\n",
       "    <tr style=\"text-align: right;\">\n",
       "      <th></th>\n",
       "      <th>ancestor_id</th>\n",
       "      <th>parent_id</th>\n",
       "    </tr>\n",
       "    <tr>\n",
       "      <th>id</th>\n",
       "      <th></th>\n",
       "      <th></th>\n",
       "    </tr>\n",
       "  </thead>\n",
       "  <tbody>\n",
       "    <tr>\n",
       "      <th>00001756c60be8</th>\n",
       "      <td>945aea18</td>\n",
       "      <td>NaN</td>\n",
       "    </tr>\n",
       "    <tr>\n",
       "      <th>00015c83e2717b</th>\n",
       "      <td>aa2da37e</td>\n",
       "      <td>317b65d12af9df</td>\n",
       "    </tr>\n",
       "  </tbody>\n",
       "</table>\n",
       "</div>"
      ],
      "text/plain": [
       "               ancestor_id       parent_id\n",
       "id                                        \n",
       "00001756c60be8    945aea18             NaN\n",
       "00015c83e2717b    aa2da37e  317b65d12af9df"
      ]
     },
     "execution_count": 8,
     "metadata": {},
     "output_type": "execute_result"
    }
   ],
   "source": [
    "# ancestor & parent_id 데이터 가져옴\n",
    "df_ancestors = pd.read_csv(data_dir / 'train_ancestors.csv', index_col='id')\n",
    "df_ancestors.head(2)"
   ]
  },
  {
   "cell_type": "code",
   "execution_count": 9,
   "metadata": {
    "execution": {
     "iopub.execute_input": "2022-06-06T11:32:24.923548Z",
     "iopub.status.busy": "2022-06-06T11:32:24.923169Z",
     "iopub.status.idle": "2022-06-06T11:32:25.598976Z",
     "shell.execute_reply": "2022-06-06T11:32:25.598321Z",
     "shell.execute_reply.started": "2022-06-06T11:32:24.923505Z"
    },
    "papermill": {
     "duration": 1.007951,
     "end_time": "2022-05-12T10:16:46.70626",
     "exception": false,
     "start_time": "2022-05-12T10:16:45.698309",
     "status": "completed"
    },
    "tags": []
   },
   "outputs": [
    {
     "data": {
      "text/html": [
       "<div>\n",
       "<style scoped>\n",
       "    .dataframe tbody tr th:only-of-type {\n",
       "        vertical-align: middle;\n",
       "    }\n",
       "\n",
       "    .dataframe tbody tr th {\n",
       "        vertical-align: top;\n",
       "    }\n",
       "\n",
       "    .dataframe thead th {\n",
       "        text-align: right;\n",
       "    }\n",
       "</style>\n",
       "<table border=\"1\" class=\"dataframe\">\n",
       "  <thead>\n",
       "    <tr style=\"text-align: right;\">\n",
       "      <th></th>\n",
       "      <th>id</th>\n",
       "      <th>cell_id</th>\n",
       "      <th>cell_type</th>\n",
       "      <th>source</th>\n",
       "      <th>rank</th>\n",
       "      <th>ancestor_id</th>\n",
       "      <th>parent_id</th>\n",
       "    </tr>\n",
       "  </thead>\n",
       "  <tbody>\n",
       "    <tr>\n",
       "      <th>0</th>\n",
       "      <td>00062ab8487156</td>\n",
       "      <td>dcad687f</td>\n",
       "      <td>code</td>\n",
       "      <td># This Python 3 environment comes with many helpful analytics libraries installed\\n# It is defined by the kaggle/pyt...</td>\n",
       "      <td>0</td>\n",
       "      <td>de362dd8</td>\n",
       "      <td>NaN</td>\n",
       "    </tr>\n",
       "    <tr>\n",
       "      <th>1</th>\n",
       "      <td>00062ab8487156</td>\n",
       "      <td>a2e1fc80</td>\n",
       "      <td>code</td>\n",
       "      <td>test_esrb_df = pd.read_csv(\"/kaggle/input/video-games-rating-by-esrb/test_esrb.csv\")\\n</td>\n",
       "      <td>1</td>\n",
       "      <td>de362dd8</td>\n",
       "      <td>NaN</td>\n",
       "    </tr>\n",
       "    <tr>\n",
       "      <th>2</th>\n",
       "      <td>00062ab8487156</td>\n",
       "      <td>7d977ee8</td>\n",
       "      <td>code</td>\n",
       "      <td>vidgme_esrb_df = pd.read_csv(\"/kaggle/input/video-games-rating-by-esrb/Video_games_esrb_rating.csv\")\\nother_cols = [...</td>\n",
       "      <td>2</td>\n",
       "      <td>de362dd8</td>\n",
       "      <td>NaN</td>\n",
       "    </tr>\n",
       "    <tr>\n",
       "      <th>3</th>\n",
       "      <td>00062ab8487156</td>\n",
       "      <td>45a82a59</td>\n",
       "      <td>code</td>\n",
       "      <td>esrb_percentages_df = vidgme_esrb_df.drop(other_cols, axis=1).sum() / len(vidgme_esrb_df)\\nesrb_percentages_df</td>\n",
       "      <td>3</td>\n",
       "      <td>de362dd8</td>\n",
       "      <td>NaN</td>\n",
       "    </tr>\n",
       "    <tr>\n",
       "      <th>4</th>\n",
       "      <td>00062ab8487156</td>\n",
       "      <td>cbbc326a</td>\n",
       "      <td>code</td>\n",
       "      <td>vidgme_esrb_df.pivot_table(index=[\"esrb_rating\", \"console\"])</td>\n",
       "      <td>4</td>\n",
       "      <td>de362dd8</td>\n",
       "      <td>NaN</td>\n",
       "    </tr>\n",
       "    <tr>\n",
       "      <th>...</th>\n",
       "      <td>...</td>\n",
       "      <td>...</td>\n",
       "      <td>...</td>\n",
       "      <td>...</td>\n",
       "      <td>...</td>\n",
       "      <td>...</td>\n",
       "      <td>...</td>\n",
       "    </tr>\n",
       "    <tr>\n",
       "      <th>458945</th>\n",
       "      <td>fffc63ff750064</td>\n",
       "      <td>56aa8da7</td>\n",
       "      <td>code</td>\n",
       "      <td>\\nsubmission.to_csv('house_price_rf.csv', index = False)</td>\n",
       "      <td>25</td>\n",
       "      <td>0a1b5b65</td>\n",
       "      <td>NaN</td>\n",
       "    </tr>\n",
       "    <tr>\n",
       "      <th>458946</th>\n",
       "      <td>fffc63ff750064</td>\n",
       "      <td>411b85d9</td>\n",
       "      <td>markdown</td>\n",
       "      <td>1. # Data exploration</td>\n",
       "      <td>1</td>\n",
       "      <td>0a1b5b65</td>\n",
       "      <td>NaN</td>\n",
       "    </tr>\n",
       "    <tr>\n",
       "      <th>458947</th>\n",
       "      <td>fffc63ff750064</td>\n",
       "      <td>e7e67119</td>\n",
       "      <td>markdown</td>\n",
       "      <td># # Data preprocessing</td>\n",
       "      <td>6</td>\n",
       "      <td>0a1b5b65</td>\n",
       "      <td>NaN</td>\n",
       "    </tr>\n",
       "    <tr>\n",
       "      <th>458948</th>\n",
       "      <td>fffc63ff750064</td>\n",
       "      <td>8b54cf58</td>\n",
       "      <td>markdown</td>\n",
       "      <td># Post-process for submission</td>\n",
       "      <td>22</td>\n",
       "      <td>0a1b5b65</td>\n",
       "      <td>NaN</td>\n",
       "    </tr>\n",
       "    <tr>\n",
       "      <th>458949</th>\n",
       "      <td>fffc63ff750064</td>\n",
       "      <td>b3c6bc16</td>\n",
       "      <td>markdown</td>\n",
       "      <td># Define and fit model</td>\n",
       "      <td>18</td>\n",
       "      <td>0a1b5b65</td>\n",
       "      <td>NaN</td>\n",
       "    </tr>\n",
       "  </tbody>\n",
       "</table>\n",
       "<p>458950 rows × 7 columns</p>\n",
       "</div>"
      ],
      "text/plain": [
       "                    id   cell_id cell_type                                                                                                                   source rank  \\\n",
       "0       00062ab8487156  dcad687f      code  # This Python 3 environment comes with many helpful analytics libraries installed\\n# It is defined by the kaggle/pyt...    0   \n",
       "1       00062ab8487156  a2e1fc80      code                                   test_esrb_df = pd.read_csv(\"/kaggle/input/video-games-rating-by-esrb/test_esrb.csv\")\\n    1   \n",
       "2       00062ab8487156  7d977ee8      code  vidgme_esrb_df = pd.read_csv(\"/kaggle/input/video-games-rating-by-esrb/Video_games_esrb_rating.csv\")\\nother_cols = [...    2   \n",
       "3       00062ab8487156  45a82a59      code           esrb_percentages_df = vidgme_esrb_df.drop(other_cols, axis=1).sum() / len(vidgme_esrb_df)\\nesrb_percentages_df    3   \n",
       "4       00062ab8487156  cbbc326a      code                                                             vidgme_esrb_df.pivot_table(index=[\"esrb_rating\", \"console\"])    4   \n",
       "...                ...       ...       ...                                                                                                                      ...  ...   \n",
       "458945  fffc63ff750064  56aa8da7      code                                                                 \\nsubmission.to_csv('house_price_rf.csv', index = False)   25   \n",
       "458946  fffc63ff750064  411b85d9  markdown                                                                                                    1. # Data exploration    1   \n",
       "458947  fffc63ff750064  e7e67119  markdown                                                                                                   # # Data preprocessing    6   \n",
       "458948  fffc63ff750064  8b54cf58  markdown                                                                                            # Post-process for submission   22   \n",
       "458949  fffc63ff750064  b3c6bc16  markdown                                                                                                   # Define and fit model   18   \n",
       "\n",
       "       ancestor_id parent_id  \n",
       "0         de362dd8       NaN  \n",
       "1         de362dd8       NaN  \n",
       "2         de362dd8       NaN  \n",
       "3         de362dd8       NaN  \n",
       "4         de362dd8       NaN  \n",
       "...            ...       ...  \n",
       "458945    0a1b5b65       NaN  \n",
       "458946    0a1b5b65       NaN  \n",
       "458947    0a1b5b65       NaN  \n",
       "458948    0a1b5b65       NaN  \n",
       "458949    0a1b5b65       NaN  \n",
       "\n",
       "[458950 rows x 7 columns]"
      ]
     },
     "execution_count": 9,
     "metadata": {},
     "output_type": "execute_result"
    }
   ],
   "source": [
    "# train set에 ancestor & parent info merge\n",
    "df = df.reset_index().merge(df_ranks, on=[\"id\", \"cell_id\"]).merge(df_ancestors, on=[\"id\"])\n",
    "df"
   ]
  },
  {
   "cell_type": "code",
   "execution_count": 10,
   "metadata": {
    "execution": {
     "iopub.execute_input": "2022-06-06T13:32:04.246507Z",
     "iopub.status.busy": "2022-06-06T13:32:04.246053Z",
     "iopub.status.idle": "2022-06-06T13:32:04.443836Z",
     "shell.execute_reply": "2022-06-06T13:32:04.443140Z",
     "shell.execute_reply.started": "2022-06-06T13:32:04.246431Z"
    },
    "papermill": {
     "duration": 0.862186,
     "end_time": "2022-05-12T10:16:47.820945",
     "exception": false,
     "start_time": "2022-05-12T10:16:46.958759",
     "status": "completed"
    },
    "tags": []
   },
   "outputs": [
    {
     "data": {
      "text/html": [
       "<div>\n",
       "<style scoped>\n",
       "    .dataframe tbody tr th:only-of-type {\n",
       "        vertical-align: middle;\n",
       "    }\n",
       "\n",
       "    .dataframe tbody tr th {\n",
       "        vertical-align: top;\n",
       "    }\n",
       "\n",
       "    .dataframe thead th {\n",
       "        text-align: right;\n",
       "    }\n",
       "</style>\n",
       "<table border=\"1\" class=\"dataframe\">\n",
       "  <thead>\n",
       "    <tr style=\"text-align: right;\">\n",
       "      <th></th>\n",
       "      <th>id</th>\n",
       "      <th>cell_id</th>\n",
       "      <th>cell_type</th>\n",
       "      <th>source</th>\n",
       "      <th>rank</th>\n",
       "      <th>ancestor_id</th>\n",
       "      <th>parent_id</th>\n",
       "      <th>pct_rank</th>\n",
       "    </tr>\n",
       "  </thead>\n",
       "  <tbody>\n",
       "    <tr>\n",
       "      <th>0</th>\n",
       "      <td>00062ab8487156</td>\n",
       "      <td>dcad687f</td>\n",
       "      <td>code</td>\n",
       "      <td># This Python 3 environment comes with many helpful analytics libraries installed\\n# It is defined by the kaggle/pyt...</td>\n",
       "      <td>0</td>\n",
       "      <td>de362dd8</td>\n",
       "      <td>NaN</td>\n",
       "      <td>0.0</td>\n",
       "    </tr>\n",
       "    <tr>\n",
       "      <th>1</th>\n",
       "      <td>00062ab8487156</td>\n",
       "      <td>a2e1fc80</td>\n",
       "      <td>code</td>\n",
       "      <td>test_esrb_df = pd.read_csv(\"/kaggle/input/video-games-rating-by-esrb/test_esrb.csv\")\\n</td>\n",
       "      <td>1</td>\n",
       "      <td>de362dd8</td>\n",
       "      <td>NaN</td>\n",
       "      <td>0.083333</td>\n",
       "    </tr>\n",
       "    <tr>\n",
       "      <th>2</th>\n",
       "      <td>00062ab8487156</td>\n",
       "      <td>7d977ee8</td>\n",
       "      <td>code</td>\n",
       "      <td>vidgme_esrb_df = pd.read_csv(\"/kaggle/input/video-games-rating-by-esrb/Video_games_esrb_rating.csv\")\\nother_cols = [...</td>\n",
       "      <td>2</td>\n",
       "      <td>de362dd8</td>\n",
       "      <td>NaN</td>\n",
       "      <td>0.166667</td>\n",
       "    </tr>\n",
       "    <tr>\n",
       "      <th>3</th>\n",
       "      <td>00062ab8487156</td>\n",
       "      <td>45a82a59</td>\n",
       "      <td>code</td>\n",
       "      <td>esrb_percentages_df = vidgme_esrb_df.drop(other_cols, axis=1).sum() / len(vidgme_esrb_df)\\nesrb_percentages_df</td>\n",
       "      <td>3</td>\n",
       "      <td>de362dd8</td>\n",
       "      <td>NaN</td>\n",
       "      <td>0.25</td>\n",
       "    </tr>\n",
       "    <tr>\n",
       "      <th>4</th>\n",
       "      <td>00062ab8487156</td>\n",
       "      <td>cbbc326a</td>\n",
       "      <td>code</td>\n",
       "      <td>vidgme_esrb_df.pivot_table(index=[\"esrb_rating\", \"console\"])</td>\n",
       "      <td>4</td>\n",
       "      <td>de362dd8</td>\n",
       "      <td>NaN</td>\n",
       "      <td>0.333333</td>\n",
       "    </tr>\n",
       "    <tr>\n",
       "      <th>...</th>\n",
       "      <td>...</td>\n",
       "      <td>...</td>\n",
       "      <td>...</td>\n",
       "      <td>...</td>\n",
       "      <td>...</td>\n",
       "      <td>...</td>\n",
       "      <td>...</td>\n",
       "      <td>...</td>\n",
       "    </tr>\n",
       "    <tr>\n",
       "      <th>458945</th>\n",
       "      <td>fffc63ff750064</td>\n",
       "      <td>56aa8da7</td>\n",
       "      <td>code</td>\n",
       "      <td>\\nsubmission.to_csv('house_price_rf.csv', index = False)</td>\n",
       "      <td>25</td>\n",
       "      <td>0a1b5b65</td>\n",
       "      <td>NaN</td>\n",
       "      <td>0.961538</td>\n",
       "    </tr>\n",
       "    <tr>\n",
       "      <th>458946</th>\n",
       "      <td>fffc63ff750064</td>\n",
       "      <td>411b85d9</td>\n",
       "      <td>markdown</td>\n",
       "      <td>1. # Data exploration</td>\n",
       "      <td>1</td>\n",
       "      <td>0a1b5b65</td>\n",
       "      <td>NaN</td>\n",
       "      <td>0.038462</td>\n",
       "    </tr>\n",
       "    <tr>\n",
       "      <th>458947</th>\n",
       "      <td>fffc63ff750064</td>\n",
       "      <td>e7e67119</td>\n",
       "      <td>markdown</td>\n",
       "      <td># # Data preprocessing</td>\n",
       "      <td>6</td>\n",
       "      <td>0a1b5b65</td>\n",
       "      <td>NaN</td>\n",
       "      <td>0.230769</td>\n",
       "    </tr>\n",
       "    <tr>\n",
       "      <th>458948</th>\n",
       "      <td>fffc63ff750064</td>\n",
       "      <td>8b54cf58</td>\n",
       "      <td>markdown</td>\n",
       "      <td># Post-process for submission</td>\n",
       "      <td>22</td>\n",
       "      <td>0a1b5b65</td>\n",
       "      <td>NaN</td>\n",
       "      <td>0.846154</td>\n",
       "    </tr>\n",
       "    <tr>\n",
       "      <th>458949</th>\n",
       "      <td>fffc63ff750064</td>\n",
       "      <td>b3c6bc16</td>\n",
       "      <td>markdown</td>\n",
       "      <td># Define and fit model</td>\n",
       "      <td>18</td>\n",
       "      <td>0a1b5b65</td>\n",
       "      <td>NaN</td>\n",
       "      <td>0.692308</td>\n",
       "    </tr>\n",
       "  </tbody>\n",
       "</table>\n",
       "<p>458950 rows × 8 columns</p>\n",
       "</div>"
      ],
      "text/plain": [
       "                    id   cell_id cell_type                                                                                                                   source rank  \\\n",
       "0       00062ab8487156  dcad687f      code  # This Python 3 environment comes with many helpful analytics libraries installed\\n# It is defined by the kaggle/pyt...    0   \n",
       "1       00062ab8487156  a2e1fc80      code                                   test_esrb_df = pd.read_csv(\"/kaggle/input/video-games-rating-by-esrb/test_esrb.csv\")\\n    1   \n",
       "2       00062ab8487156  7d977ee8      code  vidgme_esrb_df = pd.read_csv(\"/kaggle/input/video-games-rating-by-esrb/Video_games_esrb_rating.csv\")\\nother_cols = [...    2   \n",
       "3       00062ab8487156  45a82a59      code           esrb_percentages_df = vidgme_esrb_df.drop(other_cols, axis=1).sum() / len(vidgme_esrb_df)\\nesrb_percentages_df    3   \n",
       "4       00062ab8487156  cbbc326a      code                                                             vidgme_esrb_df.pivot_table(index=[\"esrb_rating\", \"console\"])    4   \n",
       "...                ...       ...       ...                                                                                                                      ...  ...   \n",
       "458945  fffc63ff750064  56aa8da7      code                                                                 \\nsubmission.to_csv('house_price_rf.csv', index = False)   25   \n",
       "458946  fffc63ff750064  411b85d9  markdown                                                                                                    1. # Data exploration    1   \n",
       "458947  fffc63ff750064  e7e67119  markdown                                                                                                   # # Data preprocessing    6   \n",
       "458948  fffc63ff750064  8b54cf58  markdown                                                                                            # Post-process for submission   22   \n",
       "458949  fffc63ff750064  b3c6bc16  markdown                                                                                                   # Define and fit model   18   \n",
       "\n",
       "       ancestor_id parent_id  pct_rank  \n",
       "0         de362dd8       NaN       0.0  \n",
       "1         de362dd8       NaN  0.083333  \n",
       "2         de362dd8       NaN  0.166667  \n",
       "3         de362dd8       NaN      0.25  \n",
       "4         de362dd8       NaN  0.333333  \n",
       "...            ...       ...       ...  \n",
       "458945    0a1b5b65       NaN  0.961538  \n",
       "458946    0a1b5b65       NaN  0.038462  \n",
       "458947    0a1b5b65       NaN  0.230769  \n",
       "458948    0a1b5b65       NaN  0.846154  \n",
       "458949    0a1b5b65       NaN  0.692308  \n",
       "\n",
       "[458950 rows x 8 columns]"
      ]
     },
     "execution_count": 10,
     "metadata": {},
     "output_type": "execute_result"
    }
   ],
   "source": [
    "# rank / 각 id마다 cell의 개수 \n",
    "# 해당 값을 학습 시에는 y LABEL로 활용함\n",
    "#   - Cell 전체를 0~1로 보았을 때, 해당 Cell이 몇%정도에 위치하고 있는지에 대한 값\n",
    "df[\"pct_rank\"] = df[\"rank\"] / df.groupby(\"id\")[\"cell_id\"].transform(\"count\")\n",
    "# df[\"pct_rank\"].hist(bins=10)\n",
    "df"
   ]
  },
  {
   "cell_type": "markdown",
   "metadata": {},
   "source": [
    "## 모델링\n",
    "\n",
    "- GroupShuffleSplit\n",
    "    - Shuffle-Group(s)-Out cross-validation iterator(그룹단위로 cross-validation 가능하도록 하는 iterator 인듯)\n",
    "    \n",
    "    Provides randomized train/test indices to split data according to a\n",
    "    third-party provided group. This group information can be used to encode\n",
    "    arbitrary domain specific stratifications of the samples as integers."
   ]
  },
  {
   "cell_type": "markdown",
   "metadata": {},
   "source": [
    "### Train / Valid 분리"
   ]
  },
  {
   "cell_type": "code",
   "execution_count": 11,
   "metadata": {
    "execution": {
     "iopub.execute_input": "2022-06-06T11:32:52.629525Z",
     "iopub.status.busy": "2022-06-06T11:32:52.629251Z",
     "iopub.status.idle": "2022-06-06T11:32:53.902017Z",
     "shell.execute_reply": "2022-06-06T11:32:53.901322Z",
     "shell.execute_reply.started": "2022-06-06T11:32:52.629494Z"
    },
    "papermill": {
     "duration": 1.895199,
     "end_time": "2022-05-12T10:16:49.969199",
     "exception": false,
     "start_time": "2022-05-12T10:16:48.074",
     "status": "completed"
    },
    "tags": []
   },
   "outputs": [
    {
     "data": {
      "text/plain": [
       "((413503, 8), (45447, 8))"
      ]
     },
     "execution_count": 11,
     "metadata": {},
     "output_type": "execute_result"
    }
   ],
   "source": [
    "from sklearn.model_selection import GroupShuffleSplit\n",
    "\n",
    "NVALID = 0.1  # size of validation set\n",
    "\n",
    "splitter = GroupShuffleSplit(n_splits=1, test_size=NVALID, random_state=0)\n",
    "train_ind, val_ind = next(splitter.split(df, groups=df[\"ancestor_id\"]))\n",
    "\n",
    "train_df = df.loc[train_ind].reset_index(drop=True)\n",
    "val_df = df.loc[val_ind].reset_index(drop=True)\n",
    "\n",
    "train_df.shape, val_df.shape"
   ]
  },
  {
   "cell_type": "code",
   "execution_count": 12,
   "metadata": {
    "execution": {
     "iopub.execute_input": "2022-06-06T11:33:09.910480Z",
     "iopub.status.busy": "2022-06-06T11:33:09.909868Z",
     "iopub.status.idle": "2022-06-06T11:33:10.132014Z",
     "shell.execute_reply": "2022-06-06T11:33:10.131262Z",
     "shell.execute_reply.started": "2022-06-06T11:33:09.910420Z"
    }
   },
   "outputs": [
    {
     "name": "stdout",
     "output_type": "stream",
     "text": [
      "9801 8820 981\n",
      "0.8999081726354453 0.10009182736455463\n"
     ]
    }
   ],
   "source": [
    "# ancestor_id를 key값 비율 확인\n",
    "print(df.ancestor_id.nunique(), train_df.ancestor_id.nunique(), val_df.ancestor_id.nunique())\n",
    "print(train_df.ancestor_id.nunique()/df.ancestor_id.nunique(), val_df.ancestor_id.nunique()/df.ancestor_id.nunique())"
   ]
  },
  {
   "cell_type": "code",
   "execution_count": 13,
   "metadata": {
    "execution": {
     "iopub.execute_input": "2022-06-06T11:33:11.097059Z",
     "iopub.status.busy": "2022-06-06T11:33:11.096565Z",
     "iopub.status.idle": "2022-06-06T11:33:11.109287Z",
     "shell.execute_reply": "2022-06-06T11:33:11.108640Z",
     "shell.execute_reply.started": "2022-06-06T11:33:11.097023Z"
    },
    "papermill": {
     "duration": 0.27219,
     "end_time": "2022-05-12T10:16:50.495502",
     "exception": false,
     "start_time": "2022-05-12T10:16:50.223312",
     "status": "completed"
    },
    "tags": []
   },
   "outputs": [
    {
     "data": {
      "text/html": [
       "<div>\n",
       "<style scoped>\n",
       "    .dataframe tbody tr th:only-of-type {\n",
       "        vertical-align: middle;\n",
       "    }\n",
       "\n",
       "    .dataframe tbody tr th {\n",
       "        vertical-align: top;\n",
       "    }\n",
       "\n",
       "    .dataframe thead th {\n",
       "        text-align: right;\n",
       "    }\n",
       "</style>\n",
       "<table border=\"1\" class=\"dataframe\">\n",
       "  <thead>\n",
       "    <tr style=\"text-align: right;\">\n",
       "      <th></th>\n",
       "      <th>id</th>\n",
       "      <th>cell_id</th>\n",
       "      <th>cell_type</th>\n",
       "      <th>source</th>\n",
       "      <th>rank</th>\n",
       "      <th>ancestor_id</th>\n",
       "      <th>parent_id</th>\n",
       "      <th>pct_rank</th>\n",
       "    </tr>\n",
       "  </thead>\n",
       "  <tbody>\n",
       "    <tr>\n",
       "      <th>0</th>\n",
       "      <td>002d93ddca8c5d</td>\n",
       "      <td>b6afdfdb</td>\n",
       "      <td>code</td>\n",
       "      <td>import numpy as np\\nimport matplotlib.pyplot as plt</td>\n",
       "      <td>1</td>\n",
       "      <td>d0cda2e5</td>\n",
       "      <td>NaN</td>\n",
       "      <td>0.02439</td>\n",
       "    </tr>\n",
       "    <tr>\n",
       "      <th>1</th>\n",
       "      <td>002d93ddca8c5d</td>\n",
       "      <td>522b1069</td>\n",
       "      <td>code</td>\n",
       "      <td>C = np.array([[0.022,0.01,-0.001,0.011,0.005],[0.01,0.033,0,0.014,0.01],[-0.001,0,0.019,-0.001,-0.001],[0.011,0.014,...</td>\n",
       "      <td>4</td>\n",
       "      <td>d0cda2e5</td>\n",
       "      <td>NaN</td>\n",
       "      <td>0.097561</td>\n",
       "    </tr>\n",
       "    <tr>\n",
       "      <th>2</th>\n",
       "      <td>002d93ddca8c5d</td>\n",
       "      <td>f9a6802d</td>\n",
       "      <td>code</td>\n",
       "      <td>C_invers = np.linalg.inv(C)\\nprint(C_invers)</td>\n",
       "      <td>5</td>\n",
       "      <td>d0cda2e5</td>\n",
       "      <td>NaN</td>\n",
       "      <td>0.121951</td>\n",
       "    </tr>\n",
       "    <tr>\n",
       "      <th>3</th>\n",
       "      <td>002d93ddca8c5d</td>\n",
       "      <td>c215d32e</td>\n",
       "      <td>code</td>\n",
       "      <td>u = np.array([[1],[1],[1],[1],[1]])\\nprint(u)</td>\n",
       "      <td>7</td>\n",
       "      <td>d0cda2e5</td>\n",
       "      <td>NaN</td>\n",
       "      <td>0.170732</td>\n",
       "    </tr>\n",
       "    <tr>\n",
       "      <th>4</th>\n",
       "      <td>002d93ddca8c5d</td>\n",
       "      <td>d7b802ab</td>\n",
       "      <td>code</td>\n",
       "      <td>u_T = u.transpose()\\nprint(u_T)</td>\n",
       "      <td>8</td>\n",
       "      <td>d0cda2e5</td>\n",
       "      <td>NaN</td>\n",
       "      <td>0.195122</td>\n",
       "    </tr>\n",
       "  </tbody>\n",
       "</table>\n",
       "</div>"
      ],
      "text/plain": [
       "               id   cell_id cell_type                                                                                                                   source rank ancestor_id  \\\n",
       "0  002d93ddca8c5d  b6afdfdb      code                                                                      import numpy as np\\nimport matplotlib.pyplot as plt    1    d0cda2e5   \n",
       "1  002d93ddca8c5d  522b1069      code  C = np.array([[0.022,0.01,-0.001,0.011,0.005],[0.01,0.033,0,0.014,0.01],[-0.001,0,0.019,-0.001,-0.001],[0.011,0.014,...    4    d0cda2e5   \n",
       "2  002d93ddca8c5d  f9a6802d      code                                                                             C_invers = np.linalg.inv(C)\\nprint(C_invers)    5    d0cda2e5   \n",
       "3  002d93ddca8c5d  c215d32e      code                                                                            u = np.array([[1],[1],[1],[1],[1]])\\nprint(u)    7    d0cda2e5   \n",
       "4  002d93ddca8c5d  d7b802ab      code                                                                                          u_T = u.transpose()\\nprint(u_T)    8    d0cda2e5   \n",
       "\n",
       "  parent_id  pct_rank  \n",
       "0       NaN   0.02439  \n",
       "1       NaN  0.097561  \n",
       "2       NaN  0.121951  \n",
       "3       NaN  0.170732  \n",
       "4       NaN  0.195122  "
      ]
     },
     "execution_count": 13,
     "metadata": {},
     "output_type": "execute_result"
    }
   ],
   "source": [
    "val_df.head()"
   ]
  },
  {
   "cell_type": "markdown",
   "metadata": {},
   "source": [
    "### 필요 함수 정의"
   ]
  },
  {
   "cell_type": "code",
   "execution_count": 22,
   "metadata": {
    "execution": {
     "iopub.execute_input": "2022-06-06T11:34:01.722174Z",
     "iopub.status.busy": "2022-06-06T11:34:01.721749Z",
     "iopub.status.idle": "2022-06-06T11:34:01.735731Z",
     "shell.execute_reply": "2022-06-06T11:34:01.734577Z",
     "shell.execute_reply.started": "2022-06-06T11:34:01.722130Z"
    },
    "papermill": {
     "duration": 0.262837,
     "end_time": "2022-05-12T10:16:51.011588",
     "exception": false,
     "start_time": "2022-05-12T10:16:50.748751",
     "status": "completed"
    },
    "tags": []
   },
   "outputs": [],
   "source": [
    "from bisect import bisect\n",
    "\n",
    "def count_inversions(a):\n",
    "    inversions = 0\n",
    "    sorted_so_far = []\n",
    "    for i, u in enumerate(a):\n",
    "        j = bisect(sorted_so_far, u)\n",
    "        inversions += i - j\n",
    "        sorted_so_far.insert(j, u)\n",
    "    return inversions\n",
    "\n",
    "\n",
    "def kendall_tau(ground_truth, predictions):\n",
    "    total_inversions = 0\n",
    "    total_2max = 0  # twice the maximum possible inversions across all instances\n",
    "    for gt, pred in zip(ground_truth, predictions):\n",
    "        ranks = [gt.index(x) for x in pred]  # rank predicted order in terms of ground truth\n",
    "        total_inversions += count_inversions(ranks)\n",
    "        n = len(gt)\n",
    "        total_2max += n * (n - 1)\n",
    "    return 1 - 4 * total_inversions / total_2max"
   ]
  },
  {
   "cell_type": "markdown",
   "metadata": {},
   "source": [
    "---------------------\n",
    "설명을 위해 임시로 작성한 부분, 실제 serving에는 필요 없음\n",
    " \n",
    " "
   ]
  },
  {
   "cell_type": "markdown",
   "metadata": {},
   "source": [
    "### 함수 관련 설명\n",
    "\n",
    "- 실제 함수를 line by line으로 돌려보면서 설명 할 예정\n",
    "- 그 전에 대회 평가지표인 Kandall tau METRIC 에 대한 이해 필요"
   ]
  },
  {
   "attachments": {
    "07a19bcd-454c-4a1f-9277-57c149010da2.png": {
     "image/png": "[encoded data removed]"
    }
   },
   "cell_type": "markdown",
   "metadata": {},
   "source": [
    "- 공식 싸이트 내에 평가지표 설명 <br>\n",
    "![image.png](attachment:07a19bcd-454c-4a1f-9277-57c149010da2.png)\n",
    "\n",
    "- 예측된 순서를 ground truth 순서로 정렬하는 데 필요한 셀의 스왑 수(= inversion)를 계산, 예측된 셀 순서와 ground truth 셀 순서 간의 Kendall tau 상관 관계를 계산할 수 있음\n",
    "    - 인덱스의 쌍 i,j는 i<j이지만 A[i]>A[j]일 때 숫자 시퀀스 A 내에서 반전(= inversion)이라고 함.\n",
    "        - 염: inversion은 시퀀스의 숫자 쌍이 순서가 잘못되었음을 나타냄, 잘못되었으므려 swap 해야한다고 설명한듯...?\n",
    "- 예측을 올바르게 정렬하는 데 필요한 스왑 수는 실제 순위와 관련된 셀 순위의 반전 수(예측 틀린 스왑 수)와 동일함"
   ]
  },
  {
   "cell_type": "markdown",
   "metadata": {},
   "source": [
    "#### 위 내용은 직관적으로 이해하기 어려움\n",
    "\n",
    "- 위 수식에서 각 부분이 나타내는 건수는\n",
    "    - S(i): 각 row(여기서는 notebook_id)마다 등장한 틀린 조합 개수\n",
    "    - n(i)/(n(i)-1): 등장하는 모든 스왑 개수\n",
    "        - 여기서 스왑이란 한 notebook 안에 있는 모든 cell의 조합\n",
    "            - ex) 전체 cell 4개면 <br>\n",
    "                스왑의 개수는 총 12개: (1, 2) (1, 3) (1, 4) (2, 3) (2, 4) (3, 4) X 2배( (2, 1) (3, 1) 이런식으로 있을수 있으므로)"
   ]
  },
  {
   "attachments": {
    "17bae176-2600-4c58-b3f3-fe8a3dd4f741.png": {
     "image/png": "[encoded data removed]"
    }
   },
   "cell_type": "markdown",
   "metadata": {},
   "source": [
    "#### 설명을 위한 샘플 데이터\n",
    "(자료가 없으면 설명이 어려울 듯 하여 추가했으나.. 여전히 쉽지않아보임)\n",
    "\n",
    "![image.png](attachment:17bae176-2600-4c58-b3f3-fe8a3dd4f741.png)\n",
    "\n",
    "- Label: 실제 정확한 Cell order rank\n",
    "- Pred: 모델이 예측한 Cell order rank"
   ]
  },
  {
   "cell_type": "markdown",
   "metadata": {},
   "source": [
    "- 첫번째 수식이 inversion을 계산하는 직관적인 함수\n",
    "    - But 조합 하나하나 다 계산을 하기때문에 엄청 느림..\n",
    "- 실제로는 두번째 수식을 활용\n",
    "    - 이해 X, 개념은 이해했으니 일단 그냥 사용하기로 ㅎㅎ.."
   ]
  },
  {
   "cell_type": "code",
   "execution_count": null,
   "metadata": {},
   "outputs": [],
   "source": [
    "def count_inversions_slowly(ranks):\n",
    "    inversions = 0\n",
    "    size = len(ranks)\n",
    "    for i in range(size):\n",
    "        for j in range(i+1, size):\n",
    "            if ranks[i] > ranks[j]:\n",
    "                inversions += 1\n",
    "    return inversions\n",
    "\n",
    "def count_inversions(a):\n",
    "    inversions = 0\n",
    "    sorted_so_far = []\n",
    "    for i, u in enumerate(a):\n",
    "        j = bisect(sorted_so_far, u)\n",
    "        inversions += i - j\n",
    "        sorted_so_far.insert(j, u)\n",
    "    return inversions"
   ]
  },
  {
   "cell_type": "markdown",
   "metadata": {},
   "source": [
    "-  실제 "
   ]
  },
  {
   "cell_type": "code",
   "execution_count": 31,
   "metadata": {
    "execution": {
     "iopub.execute_input": "2022-06-06T11:37:03.305069Z",
     "iopub.status.busy": "2022-06-06T11:37:03.304810Z",
     "iopub.status.idle": "2022-06-06T11:37:03.354935Z",
     "shell.execute_reply": "2022-06-06T11:37:03.354159Z",
     "shell.execute_reply.started": "2022-06-06T11:37:03.305039Z"
    }
   },
   "outputs": [],
   "source": [
    "# dummy 데이터 생성, code, markdown이 섞이지 않은 그대로 불러옴\n",
    "display(val_df.head())\n",
    "y_dummy = val_df.groupby('id')['cell_id'].apply(list)\n",
    "y_dummy.head()"
   ]
  },
  {
   "cell_type": "code",
   "execution_count": 48,
   "metadata": {
    "execution": {
     "iopub.execute_input": "2022-06-06T13:00:19.935323Z",
     "iopub.status.busy": "2022-06-06T13:00:19.935071Z",
     "iopub.status.idle": "2022-06-06T13:00:20.082607Z",
     "shell.execute_reply": "2022-06-06T13:00:20.081900Z",
     "shell.execute_reply.started": "2022-06-06T13:00:19.935295Z"
    }
   },
   "outputs": [],
   "source": [
    "_predictions = y_dummy                       # Dummy data\n",
    "_ground_truth = df_orders.loc[y_dummy.index] # 실제 Label값, y_dummy.index = 'id'임\n",
    "\n",
    "print(f'ground truth 리스트:\\n {_ground_truth[:2]}','\\n\\n', f'pred 리스트:\\n {_predictions[:2]}\\n\\n\\n')\n",
    "\n",
    "# 실제 \n",
    "total_inversions = 0\n",
    "total_2max = 0  # twice the maximum possible inversions across all instances(?)\n",
    "\n",
    "for gt, pred in zip(_ground_truth, _predictions):   \n",
    "    ranks = [gt.index(x) for x in pred]  # 예측값을 gt에 넣어 gt의 index값을 가져옴\n",
    "    \n",
    "    total_inversions += count_inversions(ranks)\n",
    "    n = len(gt)\n",
    "    total_2max += n * (n - 1)\n",
    "\n",
    "kd_t_result = (1 - 4 * total_inversions / total_2max)\n",
    "kd_t_result"
   ]
  },
  {
   "cell_type": "markdown",
   "metadata": {},
   "source": [
    "임시 작성 내용 끝!\n",
    "\n",
    "--------------------- "
   ]
  },
  {
   "cell_type": "code",
   "execution_count": 49,
   "metadata": {
    "execution": {
     "iopub.execute_input": "2022-06-06T13:03:19.244365Z",
     "iopub.status.busy": "2022-06-06T13:03:19.244110Z",
     "iopub.status.idle": "2022-06-06T13:03:19.365318Z",
     "shell.execute_reply": "2022-06-06T13:03:19.364625Z",
     "shell.execute_reply.started": "2022-06-06T13:03:19.244336Z"
    }
   },
   "outputs": [],
   "source": [
    "y_dummy = val_df.groupby('id')['cell_id'].apply(list)\n",
    "kendall_tau(df_orders.loc[y_dummy.index], y_dummy)"
   ]
  },
  {
   "cell_type": "code",
   "execution_count": 53,
   "metadata": {
    "execution": {
     "iopub.execute_input": "2022-06-06T13:08:36.113880Z",
     "iopub.status.busy": "2022-06-06T13:08:36.113142Z",
     "iopub.status.idle": "2022-06-06T13:08:36.130020Z",
     "shell.execute_reply": "2022-06-06T13:08:36.129283Z",
     "shell.execute_reply.started": "2022-06-06T13:08:36.113829Z"
    },
    "papermill": {
     "duration": 0.27416,
     "end_time": "2022-05-12T10:16:52.16563",
     "exception": false,
     "start_time": "2022-05-12T10:16:51.89147",
     "status": "completed"
    },
    "tags": []
   },
   "outputs": [],
   "source": [
    "# Markdown cell 개수도 상당히 많음\n",
    "val_df[\"cell_type\"].value_counts()"
   ]
  },
  {
   "cell_type": "markdown",
   "metadata": {},
   "source": [
    "### 학습데이터 생성"
   ]
  },
  {
   "cell_type": "code",
   "execution_count": 54,
   "metadata": {
    "execution": {
     "iopub.execute_input": "2022-06-06T13:09:20.176637Z",
     "iopub.status.busy": "2022-06-06T13:09:20.175969Z",
     "iopub.status.idle": "2022-06-06T13:09:20.294074Z",
     "shell.execute_reply": "2022-06-06T13:09:20.293215Z",
     "shell.execute_reply.started": "2022-06-06T13:09:20.176597Z"
    },
    "papermill": {
     "duration": 0.371916,
     "end_time": "2022-05-12T10:16:52.797271",
     "exception": false,
     "start_time": "2022-05-12T10:16:52.425355",
     "status": "completed"
    },
    "tags": []
   },
   "outputs": [],
   "source": [
    "# train & Valid 중 Markdown 부분만 분리해서 생성\n",
    "train_df_mark = train_df[train_df[\"cell_type\"] == \"markdown\"].reset_index(drop=True)\n",
    "val_df_mark = val_df[val_df[\"cell_type\"] == \"markdown\"].reset_index(drop=True)"
   ]
  },
  {
   "cell_type": "code",
   "execution_count": 55,
   "metadata": {
    "execution": {
     "iopub.execute_input": "2022-06-06T13:09:22.567083Z",
     "iopub.status.busy": "2022-06-06T13:09:22.566834Z",
     "iopub.status.idle": "2022-06-06T13:09:22.583525Z",
     "shell.execute_reply": "2022-06-06T13:09:22.582564Z",
     "shell.execute_reply.started": "2022-06-06T13:09:22.567054Z"
    }
   },
   "outputs": [],
   "source": [
    "train_df_mark"
   ]
  },
  {
   "cell_type": "code",
   "execution_count": 62,
   "metadata": {
    "execution": {
     "iopub.execute_input": "2022-06-06T13:12:38.520342Z",
     "iopub.status.busy": "2022-06-06T13:12:38.520000Z",
     "iopub.status.idle": "2022-06-06T13:12:38.543529Z",
     "shell.execute_reply": "2022-06-06T13:12:38.542914Z",
     "shell.execute_reply.started": "2022-06-06T13:12:38.520298Z"
    },
    "papermill": {
     "duration": 0.280778,
     "end_time": "2022-05-12T10:16:53.349877",
     "exception": false,
     "start_time": "2022-05-12T10:16:53.069099",
     "status": "completed"
    },
    "tags": []
   },
   "outputs": [],
   "source": [
    "# 실제 학습간에 Metric으로 활용하는 값 설정 & 테스트\n",
    "# Markdown Cell의 위치 %(pct_rank)를 기반으로 예측함\n",
    "# 아래 내용은 그냥 metric이 동작하나 확인해보기 위한 테스트\n",
    "from sklearn.metrics import mean_squared_error\n",
    "\n",
    "mean_squared_error(val_df_mark[\"pct_rank\"]\n",
    "                   , np.ones(val_df_mark.shape[0]) * train_df_mark[\"pct_rank\"].mean() # valid set 길이만큼의 1 값 X pct_rank의 평균\n",
    "                  )"
   ]
  },
  {
   "cell_type": "markdown",
   "metadata": {},
   "source": [
    "### 모델링 진행"
   ]
  },
  {
   "cell_type": "code",
   "execution_count": 66,
   "metadata": {
    "execution": {
     "iopub.execute_input": "2022-06-06T13:21:45.441516Z",
     "iopub.status.busy": "2022-06-06T13:21:45.441240Z",
     "iopub.status.idle": "2022-06-06T13:21:45.448868Z",
     "shell.execute_reply": "2022-06-06T13:21:45.448122Z",
     "shell.execute_reply.started": "2022-06-06T13:21:45.441484Z"
    },
    "papermill": {
     "duration": 7.145711,
     "end_time": "2022-05-12T10:17:00.757077",
     "exception": false,
     "start_time": "2022-05-12T10:16:53.611366",
     "status": "completed"
    },
    "tags": []
   },
   "outputs": [],
   "source": [
    "# 필요 패키지 import & model archi 생성\n",
    "from tqdm import tqdm\n",
    "import sys, os\n",
    "from transformers import DistilBertModel, DistilBertTokenizer\n",
    "import torch.nn.functional as F\n",
    "import torch.nn as nn\n",
    "import torch\n",
    "\n",
    "MAX_LEN = 128\n",
    "\n",
    "class MarkdownModel(nn.Module):\n",
    "    def __init__(self):\n",
    "        super(MarkdownModel, self).__init__()\n",
    "        self.distill_bert = DistilBertModel.from_pretrained(BERT_PATH)\n",
    "        self.top = nn.Linear(768, 1)\n",
    "        \n",
    "    def forward(self, ids, mask):\n",
    "        x = self.distill_bert(ids, mask)[0]\n",
    "        x = self.top(x[:, 0, :])\n",
    "        return x"
   ]
  },
  {
   "cell_type": "code",
   "execution_count": 67,
   "metadata": {
    "execution": {
     "iopub.execute_input": "2022-06-06T13:21:45.662378Z",
     "iopub.status.busy": "2022-06-06T13:21:45.661840Z",
     "iopub.status.idle": "2022-06-06T13:21:45.868995Z",
     "shell.execute_reply": "2022-06-06T13:21:45.868308Z",
     "shell.execute_reply.started": "2022-06-06T13:21:45.662345Z"
    },
    "papermill": {
     "duration": 0.474499,
     "end_time": "2022-05-12T10:17:01.487031",
     "exception": false,
     "start_time": "2022-05-12T10:17:01.012532",
     "status": "completed"
    },
    "tags": []
   },
   "outputs": [],
   "source": [
    "# MarkdownDataset 생성\n",
    "# 기존 작성자가 MarkdownDataset으로 네이밍 한 이유는, markdown code만 활용해서 그런 것 같음\n",
    "from torch.utils.data import DataLoader, Dataset\n",
    "\n",
    "class MarkdownDataset(Dataset):\n",
    "    \n",
    "    def __init__(self, df, max_len):\n",
    "        super().__init__()\n",
    "        self.df = df.reset_index(drop=True)\n",
    "        self.max_len = max_len\n",
    "        self.tokenizer = DistilBertTokenizer.from_pretrained(BERT_PATH, do_lower_case=True)\n",
    "\n",
    "    def __getitem__(self, index):\n",
    "        row = self.df.iloc[index]\n",
    "        \n",
    "        inputs = self.tokenizer.encode_plus(\n",
    "            row.source,\n",
    "            None,\n",
    "            add_special_tokens=True,\n",
    "            max_length=self.max_len,\n",
    "            padding=\"max_length\",\n",
    "            return_token_type_ids=True,\n",
    "            truncation=True\n",
    "        )\n",
    "        ids = torch.LongTensor(inputs['input_ids'])\n",
    "        mask = torch.LongTensor(inputs['attention_mask'])\n",
    "\n",
    "        return ids, mask, torch.FloatTensor([row.pct_rank])\n",
    "\n",
    "    def __len__(self):\n",
    "        return self.df.shape[0]\n",
    "    \n",
    "train_ds = MarkdownDataset(train_df_mark, max_len=MAX_LEN)\n",
    "val_ds = MarkdownDataset(val_df_mark, max_len=MAX_LEN)\n",
    "\n",
    "# 결과 예시\n",
    "val_ds[0] # ids, mask, torch.FloatTensor([row.pct_rank]) 의 구조"
   ]
  },
  {
   "cell_type": "code",
   "execution_count": 100,
   "metadata": {
    "execution": {
     "iopub.execute_input": "2022-06-06T13:36:56.848894Z",
     "iopub.status.busy": "2022-06-06T13:36:56.848625Z",
     "iopub.status.idle": "2022-06-06T13:36:56.900413Z",
     "shell.execute_reply": "2022-06-06T13:36:56.899607Z",
     "shell.execute_reply.started": "2022-06-06T13:36:56.848865Z"
    }
   },
   "outputs": [],
   "source": [
    "# Train 데이터 예시\n",
    "BERT_PATH = \"../input/huggingface-bert-variants/distilbert-base-uncased/distilbert-base-uncased\"\n",
    "_tokenizer = DistilBertTokenizer.from_pretrained(BERT_PATH, do_lower_case=True)\n",
    "\n",
    "tmp_train = train_ds[23]\n",
    "tmp_valid = val_ds[0]\n",
    "\n",
    "# 결과 print\n",
    "print(f'----- Train Example -----')\n",
    "print(f'- Input_id:\\n {tmp_train[0]}')\n",
    "print(f\"- Input_id Decode:\\n {_tokenizer.decode(tmp_train[0]).replace('[PAD]', '')}\") # PADDING값은 너무 길어져서 삭제함\n",
    "print(f\"- pct_rank:\\n {tmp_train[2]}\") # PADDING값은 너무 길어져서 삭제함\n",
    "\n",
    "print(f'\\n\\n\\n----- Valid Example -----')\n",
    "print(f'- Input_id:\\n {tmp_valid[0]}')\n",
    "print(f\"- Input_id Decode:\\n {_tokenizer.decode(tmp_valid[0]).replace('[PAD]', '')}\") # PADDING값은 너무 길어져서 삭제함\n",
    "print(f\"- pct_rank:\\n {tmp_valid[2]}\") # PADDING값은 너무 길어져서 삭제함"
   ]
  },
  {
   "cell_type": "code",
   "execution_count": 101,
   "metadata": {
    "execution": {
     "iopub.execute_input": "2022-06-06T14:13:51.229561Z",
     "iopub.status.busy": "2022-06-06T14:13:51.229239Z",
     "iopub.status.idle": "2022-06-06T14:13:51.235814Z",
     "shell.execute_reply": "2022-06-06T14:13:51.234939Z",
     "shell.execute_reply.started": "2022-06-06T14:13:51.229526Z"
    },
    "papermill": {
     "duration": 0.265988,
     "end_time": "2022-05-12T10:17:02.580374",
     "exception": false,
     "start_time": "2022-05-12T10:17:02.314386",
     "status": "completed"
    },
    "tags": []
   },
   "outputs": [],
   "source": [
    "# lr scheduler & optimizer 생성(기본적이긴 하지만 이런거까지 low level로 구현해놓으거 보면 쓸만한 코드인 것 같긴함)\n",
    "def adjust_lr(optimizer, epoch):\n",
    "    if epoch < 1:\n",
    "        lr = 5e-5\n",
    "    elif epoch < 2:\n",
    "        lr = 1e-3\n",
    "    elif epoch < 5:\n",
    "        lr = 1e-4\n",
    "    else:\n",
    "        lr = 1e-5\n",
    "\n",
    "    for p in optimizer.param_groups:\n",
    "        p['lr'] = lr\n",
    "    return lr\n",
    "    \n",
    "def get_optimizer(net):\n",
    "    optimizer = torch.optim.Adam(filter(lambda p: p.requires_grad, net.parameters()), lr=3e-4, betas=(0.9, 0.999),\n",
    "                                 eps=1e-08)\n",
    "    return optimizer"
   ]
  },
  {
   "cell_type": "code",
   "execution_count": 105,
   "metadata": {
    "execution": {
     "iopub.execute_input": "2022-06-06T14:16:34.950258Z",
     "iopub.status.busy": "2022-06-06T14:16:34.950004Z",
     "iopub.status.idle": "2022-06-06T14:16:34.955993Z",
     "shell.execute_reply": "2022-06-06T14:16:34.955239Z",
     "shell.execute_reply.started": "2022-06-06T14:16:34.950229Z"
    },
    "papermill": {
     "duration": 0.298424,
     "end_time": "2022-05-12T10:17:03.132",
     "exception": false,
     "start_time": "2022-05-12T10:17:02.833576",
     "status": "completed"
    },
    "tags": []
   },
   "outputs": [],
   "source": [
    "# batch size & worker 수 설정\n",
    "BS = 32\n",
    "NW = 2 # 기존 8, 본인 kaggle 노트북에서는 2밖에 안되서 값 수정\n",
    "\n",
    "train_loader = DataLoader(train_ds, batch_size=BS, shuffle=True, num_workers=NW,\n",
    "                          pin_memory=False, drop_last=True)\n",
    "val_loader = DataLoader(val_ds, batch_size=BS, shuffle=False, num_workers=NW,\n",
    "                          pin_memory=False, drop_last=False)"
   ]
  },
  {
   "cell_type": "code",
   "execution_count": 108,
   "metadata": {
    "execution": {
     "iopub.execute_input": "2022-06-06T14:16:50.189119Z",
     "iopub.status.busy": "2022-06-06T14:16:50.188333Z",
     "iopub.status.idle": "2022-06-06T14:16:50.199718Z",
     "shell.execute_reply": "2022-06-06T14:16:50.198825Z",
     "shell.execute_reply.started": "2022-06-06T14:16:50.189081Z"
    }
   },
   "outputs": [],
   "source": [
    "train_ds[0]"
   ]
  },
  {
   "cell_type": "code",
   "execution_count": 112,
   "metadata": {
    "execution": {
     "iopub.execute_input": "2022-06-06T14:17:55.360287Z",
     "iopub.status.busy": "2022-06-06T14:17:55.360033Z",
     "iopub.status.idle": "2022-06-06T14:34:37.596177Z",
     "shell.execute_reply": "2022-06-06T14:34:37.595363Z",
     "shell.execute_reply.started": "2022-06-06T14:17:55.360259Z"
    },
    "papermill": {
     "duration": 987.160977,
     "end_time": "2022-05-12T10:33:30.548236",
     "exception": false,
     "start_time": "2022-05-12T10:17:03.387259",
     "status": "completed"
    },
    "tags": []
   },
   "outputs": [],
   "source": [
    "# Train & Valid 함수 정의\n",
    "def read_data(data):\n",
    "    return tuple(d.cuda() for d in data[:-1]), data[-1].cuda()\n",
    "\n",
    "\n",
    "def validate(model, val_loader):\n",
    "    model.eval()\n",
    "    \n",
    "    tbar = tqdm(val_loader, file=sys.stdout)\n",
    "    \n",
    "    preds = []\n",
    "    labels = []\n",
    "\n",
    "    with torch.no_grad():\n",
    "        for idx, data in enumerate(tbar):\n",
    "            inputs, target = read_data(data)\n",
    "\n",
    "            pred = model(inputs[0], inputs[1])\n",
    "\n",
    "            preds.append(pred.detach().cpu().numpy().ravel())\n",
    "            labels.append(target.detach().cpu().numpy().ravel())\n",
    "    \n",
    "    return np.concatenate(labels), np.concatenate(preds)\n",
    "\n",
    "def train(model, train_loader, val_loader, epochs):\n",
    "    np.random.seed(0)\n",
    "    \n",
    "    optimizer = get_optimizer(model)\n",
    "\n",
    "    criterion = torch.nn.MSELoss()\n",
    "    \n",
    "    for e in range(epochs):   \n",
    "        model.train()\n",
    "        tbar = tqdm(train_loader, file=sys.stdout)\n",
    "        \n",
    "        lr = adjust_lr(optimizer, e)\n",
    "        \n",
    "        loss_list = []\n",
    "        preds = []\n",
    "        labels = []\n",
    "\n",
    "        for idx, data in enumerate(tbar):\n",
    "            inputs, target = read_data(data)\n",
    "\n",
    "            optimizer.zero_grad()\n",
    "            pred = model(inputs[0], inputs[1])\n",
    "\n",
    "            loss = criterion(pred, target)\n",
    "            loss.backward()\n",
    "            optimizer.step()\n",
    "            \n",
    "            loss_list.append(loss.detach().cpu().item())\n",
    "            preds.append(pred.detach().cpu().numpy().ravel())\n",
    "            labels.append(target.detach().cpu().numpy().ravel())\n",
    "            \n",
    "            avg_loss = np.round(np.mean(loss_list), 4)\n",
    "\n",
    "            tbar.set_description(f\"Epoch {e+1} Loss: {avg_loss} lr: {lr}\")\n",
    "            \n",
    "        y_val, y_pred = validate(model, val_loader)\n",
    "            \n",
    "        print(\"Validation MSE:\", np.round(mean_squared_error(y_val, y_pred), 4))\n",
    "        print()\n",
    "    return model, y_pred\n",
    "\n",
    "model = MarkdownModel()\n",
    "model = model.cuda()\n",
    "model, y_pred = train(model, train_loader, val_loader, epochs=1)"
   ]
  },
  {
   "cell_type": "code",
   "execution_count": 115,
   "metadata": {
    "execution": {
     "iopub.execute_input": "2022-06-06T14:36:52.723008Z",
     "iopub.status.busy": "2022-06-06T14:36:52.722545Z",
     "iopub.status.idle": "2022-06-06T14:36:52.795859Z",
     "shell.execute_reply": "2022-06-06T14:36:52.795170Z",
     "shell.execute_reply.started": "2022-06-06T14:36:52.722969Z"
    },
    "papermill": {
     "duration": 3.695855,
     "end_time": "2022-05-12T10:33:37.305989",
     "exception": false,
     "start_time": "2022-05-12T10:33:33.610134",
     "status": "completed"
    },
    "tags": []
   },
   "outputs": [],
   "source": [
    "# id & cell_type별로 gropby 후 최종 pred값 생성\n",
    "val_df[\"pred\"] = val_df.groupby([\"id\", \"cell_type\"])[\"rank\"].rank(pct=True)\n",
    "val_df.loc[val_df[\"cell_type\"] == \"markdown\", \"pred\"] = y_pred"
   ]
  },
  {
   "cell_type": "code",
   "execution_count": 116,
   "metadata": {
    "execution": {
     "iopub.execute_input": "2022-06-06T14:36:53.539753Z",
     "iopub.status.busy": "2022-06-06T14:36:53.539360Z",
     "iopub.status.idle": "2022-06-06T14:36:53.693762Z",
     "shell.execute_reply": "2022-06-06T14:36:53.692907Z",
     "shell.execute_reply.started": "2022-06-06T14:36:53.539716Z"
    },
    "papermill": {
     "duration": 3.230655,
     "end_time": "2022-05-12T10:33:43.545936",
     "exception": false,
     "start_time": "2022-05-12T10:33:40.315281",
     "status": "completed"
    },
    "tags": []
   },
   "outputs": [],
   "source": [
    "# pred값으로 값 sort 후 kandall tau 값 확인\n",
    "y_dummy = val_df.sort_values(\"pred\").groupby('id')['cell_id'].apply(list)\n",
    "kendall_tau(df_orders.loc[y_dummy.index], y_dummy)"
   ]
  },
  {
   "cell_type": "markdown",
   "metadata": {},
   "source": [
    "### Submission 데이터 생성"
   ]
  },
  {
   "cell_type": "code",
   "execution_count": 117,
   "metadata": {
    "execution": {
     "iopub.execute_input": "2022-06-06T14:36:54.905249Z",
     "iopub.status.busy": "2022-06-06T14:36:54.904710Z",
     "iopub.status.idle": "2022-06-06T14:36:54.955716Z",
     "shell.execute_reply": "2022-06-06T14:36:54.955007Z",
     "shell.execute_reply.started": "2022-06-06T14:36:54.905206Z"
    },
    "papermill": {
     "duration": 3.156008,
     "end_time": "2022-05-12T10:33:49.98707",
     "exception": false,
     "start_time": "2022-05-12T10:33:46.831062",
     "status": "completed"
    },
    "tags": []
   },
   "outputs": [],
   "source": [
    "# submission 데이터 import\n",
    "\n",
    "paths_test = list((data_dir / 'test').glob('*.json'))\n",
    "notebooks_test = [\n",
    "    read_notebook(path) for path in tqdm(paths_test, desc='Test NBs')\n",
    "]\n",
    "test_df = (\n",
    "    pd.concat(notebooks_test)\n",
    "    .set_index('id', append=True)\n",
    "    .swaplevel()\n",
    "    .sort_index(level='id', sort_remaining=False)\n",
    ").reset_index()"
   ]
  },
  {
   "cell_type": "code",
   "execution_count": 118,
   "metadata": {
    "execution": {
     "iopub.execute_input": "2022-06-06T14:36:57.131638Z",
     "iopub.status.busy": "2022-06-06T14:36:57.130954Z",
     "iopub.status.idle": "2022-06-06T14:36:57.142481Z",
     "shell.execute_reply": "2022-06-06T14:36:57.141618Z",
     "shell.execute_reply.started": "2022-06-06T14:36:57.131598Z"
    },
    "papermill": {
     "duration": 3.580422,
     "end_time": "2022-05-12T10:33:56.648552",
     "exception": false,
     "start_time": "2022-05-12T10:33:53.06813",
     "status": "completed"
    },
    "tags": []
   },
   "outputs": [],
   "source": [
    "# submission 데이터 전처리\n",
    "test_df[\"rank\"] = test_df.groupby([\"id\", \"cell_type\"]).cumcount()\n",
    "test_df[\"pred\"] = test_df.groupby([\"id\", \"cell_type\"])[\"rank\"].rank(pct=True)"
   ]
  },
  {
   "cell_type": "code",
   "execution_count": 119,
   "metadata": {
    "execution": {
     "iopub.execute_input": "2022-06-06T14:36:58.147222Z",
     "iopub.status.busy": "2022-06-06T14:36:58.146709Z",
     "iopub.status.idle": "2022-06-06T14:36:58.196062Z",
     "shell.execute_reply": "2022-06-06T14:36:58.195320Z",
     "shell.execute_reply.started": "2022-06-06T14:36:58.147183Z"
    },
    "papermill": {
     "duration": 3.130783,
     "end_time": "2022-05-12T10:34:03.120038",
     "exception": false,
     "start_time": "2022-05-12T10:33:59.989255",
     "status": "completed"
    },
    "tags": []
   },
   "outputs": [],
   "source": [
    "# submission 데이터 format 변경\n",
    "test_df[\"pct_rank\"] = 0 # 임시 percent 값 생성\n",
    "test_ds = MarkdownDataset(test_df[test_df[\"cell_type\"] == \"markdown\"].reset_index(drop=True), max_len=MAX_LEN)\n",
    "test_loader = DataLoader(test_ds, batch_size=BS, shuffle=False, num_workers=NW,\n",
    "                          pin_memory=False, drop_last=False)\n",
    "\n",
    "len(test_ds), test_ds[0]"
   ]
  },
  {
   "cell_type": "code",
   "execution_count": 120,
   "metadata": {
    "execution": {
     "iopub.execute_input": "2022-06-06T14:37:01.043214Z",
     "iopub.status.busy": "2022-06-06T14:37:01.042925Z",
     "iopub.status.idle": "2022-06-06T14:37:01.424580Z",
     "shell.execute_reply": "2022-06-06T14:37:01.423776Z",
     "shell.execute_reply.started": "2022-06-06T14:37:01.043181Z"
    },
    "papermill": {
     "duration": 4.00212,
     "end_time": "2022-05-12T10:34:10.223448",
     "exception": false,
     "start_time": "2022-05-12T10:34:06.221328",
     "status": "completed"
    },
    "tags": []
   },
   "outputs": [],
   "source": [
    "# 실제 Model에 Inference 후 예측값 생성\n",
    "_, y_test = validate(model, test_loader)"
   ]
  },
  {
   "cell_type": "code",
   "execution_count": 121,
   "metadata": {
    "execution": {
     "iopub.execute_input": "2022-06-06T14:37:04.228045Z",
     "iopub.status.busy": "2022-06-06T14:37:04.227307Z",
     "iopub.status.idle": "2022-06-06T14:37:04.233681Z",
     "shell.execute_reply": "2022-06-06T14:37:04.232928Z",
     "shell.execute_reply.started": "2022-06-06T14:37:04.228003Z"
    },
    "papermill": {
     "duration": 3.164567,
     "end_time": "2022-05-12T10:34:16.415308",
     "exception": false,
     "start_time": "2022-05-12T10:34:13.250741",
     "status": "completed"
    },
    "tags": []
   },
   "outputs": [],
   "source": [
    "# Submission 데이터에 결과값 append\n",
    "test_df.loc[test_df[\"cell_type\"] == \"markdown\", \"pred\"] = y_test"
   ]
  },
  {
   "cell_type": "code",
   "execution_count": 122,
   "metadata": {
    "execution": {
     "iopub.execute_input": "2022-06-06T14:37:06.902593Z",
     "iopub.status.busy": "2022-06-06T14:37:06.902031Z",
     "iopub.status.idle": "2022-06-06T14:37:06.919701Z",
     "shell.execute_reply": "2022-06-06T14:37:06.918934Z",
     "shell.execute_reply.started": "2022-06-06T14:37:06.902549Z"
    },
    "papermill": {
     "duration": 3.093752,
     "end_time": "2022-05-12T10:34:22.827853",
     "exception": false,
     "start_time": "2022-05-12T10:34:19.734101",
     "status": "completed"
    },
    "tags": []
   },
   "outputs": [],
   "source": [
    "# Submission 데이터 생성\n",
    "sub_df = test_df.sort_values(\"pred\").groupby(\"id\")[\"cell_id\"].apply(lambda x: \" \".join(x)).reset_index()\n",
    "sub_df.rename(columns={\"cell_id\": \"cell_order\"}, inplace=True)\n",
    "sub_df.head()"
   ]
  },
  {
   "cell_type": "code",
   "execution_count": 123,
   "metadata": {
    "execution": {
     "iopub.execute_input": "2022-06-06T14:37:21.451218Z",
     "iopub.status.busy": "2022-06-06T14:37:21.450962Z",
     "iopub.status.idle": "2022-06-06T14:37:21.458043Z",
     "shell.execute_reply": "2022-06-06T14:37:21.457311Z",
     "shell.execute_reply.started": "2022-06-06T14:37:21.451190Z"
    },
    "papermill": {
     "duration": 3.551878,
     "end_time": "2022-05-12T10:34:29.528868",
     "exception": false,
     "start_time": "2022-05-12T10:34:25.97699",
     "status": "completed"
    },
    "tags": []
   },
   "outputs": [],
   "source": [
    "# submission 데이터 저장\n",
    "sub_df.to_csv(\"submission.csv\", index=False)"
   ]
  },
  {
   "cell_type": "code",
   "execution_count": null,
   "metadata": {
    "papermill": {
     "duration": 3.030555,
     "end_time": "2022-05-12T10:34:35.897014",
     "exception": false,
     "start_time": "2022-05-12T10:34:32.866459",
     "status": "completed"
    },
    "tags": []
   },
   "outputs": [],
   "source": []
  }
 ],
 "metadata": {
  "kernelspec": {
   "display_name": "Python 3 (ipykernel)",
   "language": "python",
   "name": "python3"
  },
  "language_info": {
   "codemirror_mode": {
    "name": "ipython",
    "version": 3
   },
   "file_extension": ".py",
   "mimetype": "text/x-python",
   "name": "python",
   "nbconvert_exporter": "python",
   "pygments_lexer": "ipython3",
   "version": "3.8.10"
  }
 },
 "nbformat": 4,
 "nbformat_minor": 4
}
